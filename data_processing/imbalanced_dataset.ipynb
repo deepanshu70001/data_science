{
 "cells": [
  {
   "cell_type": "markdown",
   "id": "a89d4983",
   "metadata": {},
   "source": [
    "### inbalance data set may create A bisae in our ml model specially in supervised learning affecting its accuracy ,\n",
    "so it is important to handle this\n",
    "using 2 tecknique\n",
    "1 upsampling(incrasing the number of minority)\n",
    "2 down sampling (decrese the number of msjority)"
   ]
  },
  {
   "cell_type": "code",
   "execution_count": 26,
   "id": "2633e8a7",
   "metadata": {},
   "outputs": [],
   "source": [
    "import pandas as pd\n",
    "import numpy as np\n",
    "\n",
    "np.random.seed(123)\n",
    "\n",
    "n_samples=1000\n",
    "class0_ratio=0.9\n",
    "n_class0=int(n_samples*class0_ratio)\n",
    "n_class1=n_samples-n_class0"
   ]
  },
  {
   "cell_type": "code",
   "execution_count": 27,
   "id": "52dc424e",
   "metadata": {},
   "outputs": [],
   "source": [
    "#create dataset with imbalance data\n",
    "class0=pd.DataFrame({\n",
    "    'feature_1':np.random.normal(loc=0,scale=1,size=n_class0),\n",
    "    'feature_2':np.random.normal(loc=0,scale=1,size=n_class0),\n",
    "    'target':[0]*n_class0\n",
    "})\n",
    "class1=pd.DataFrame({\n",
    "    'feature_1':np.random.normal(loc=2,scale=1,size=n_class1),\n",
    "    'feature_2':np.random.normal(loc=2,scale=1,size=n_class1),\n",
    "    'target':[1]*n_class1\n",
    "})"
   ]
  },
  {
   "cell_type": "code",
   "execution_count": 28,
   "id": "8613dd3e",
   "metadata": {},
   "outputs": [],
   "source": [
    "df=pd.concat([class0,class1]).reset_index(drop=True)"
   ]
  },
  {
   "cell_type": "code",
   "execution_count": 29,
   "id": "33b5399d",
   "metadata": {},
   "outputs": [],
   "source": [
    "#upsampling\n",
    "df_minority=df[df['target']==1]\n",
    "df_majority=df[df['target']==0]"
   ]
  },
  {
   "cell_type": "code",
   "execution_count": 30,
   "id": "40dd0370",
   "metadata": {},
   "outputs": [],
   "source": [
    "from sklearn.utils import resample \n",
    "# it is use to create new data point for up sampling\n",
    "df_minority_resample=resample(df_minority,replace=True,n_samples=len(df_majority),random_state=42)"
   ]
  },
  {
   "cell_type": "code",
   "execution_count": 31,
   "id": "c520e385",
   "metadata": {},
   "outputs": [],
   "source": [
    "#final dataset\n",
    "df_upsampled=pd.concat([df_minority_resample,df_majority])"
   ]
  },
  {
   "cell_type": "code",
   "execution_count": 35,
   "id": "78b67967",
   "metadata": {},
   "outputs": [
    {
     "data": {
      "text/plain": [
       "(1800, 3)"
      ]
     },
     "execution_count": 35,
     "metadata": {},
     "output_type": "execute_result"
    }
   ],
   "source": [
    "df_upsampled.shape\n",
    "\n"
   ]
  },
  {
   "cell_type": "code",
   "execution_count": null,
   "id": "30164fb5",
   "metadata": {},
   "outputs": [],
   "source": []
  }
 ],
 "metadata": {
  "kernelspec": {
   "display_name": "Python 3",
   "language": "python",
   "name": "python3"
  },
  "language_info": {
   "codemirror_mode": {
    "name": "ipython",
    "version": 3
   },
   "file_extension": ".py",
   "mimetype": "text/x-python",
   "name": "python",
   "nbconvert_exporter": "python",
   "pygments_lexer": "ipython3",
   "version": "3.13.7"
  }
 },
 "nbformat": 4,
 "nbformat_minor": 5
}
