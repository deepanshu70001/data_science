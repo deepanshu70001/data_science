{
 "cells": [
  {
   "cell_type": "markdown",
   "id": "756d7368",
   "metadata": {},
   "source": [
    "in knn we make take k nearest neighbour ablong a point and average them to predict result\n",
    "\n",
    "value of k>0 to infinity and dicided by hypertuning\n"
   ]
  }
 ],
 "metadata": {
  "language_info": {
   "name": "python"
  }
 },
 "nbformat": 4,
 "nbformat_minor": 5
}
