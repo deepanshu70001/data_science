{
 "cells": [
  {
   "cell_type": "markdown",
   "id": "3ff54373",
   "metadata": {},
   "source": [
    "### ridge regression\n",
    "ridge regression is an algorithm use for hypertuning\n",
    "when our linear regression model is 100 percent accurate then thier is a overfiting\n",
    "train_ low bias\n",
    "test high variance\n",
    "\n",
    "so in cost function we make\n",
    "\n",
    "c(h)=1/2m*(sigma(h(x)-y)) + lamda (sigma(slope ^2)) where lamda is hyper parameter\n",
    "\n",
    "ridge regression ensure that our line doesnot pass from the training point so thus prevent overfiting by introducing hyperparameter and slope"
   ]
  },
  {
   "cell_type": "markdown",
   "id": "44da13a9",
   "metadata": {},
   "source": [
    "in laaso we \n",
    "in cost function we make\n",
    "to reduce cofficent to 0 for small value\n",
    "c(h)=1/2m*(sigma(h(x)-y)) + lamda (sigma(|slope|))"
   ]
  }
 ],
 "metadata": {
  "language_info": {
   "name": "python"
  }
 },
 "nbformat": 4,
 "nbformat_minor": 5
}
