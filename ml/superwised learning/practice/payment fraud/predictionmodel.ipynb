{
 "cells": [
  {
   "cell_type": "code",
   "execution_count": 42,
   "id": "de3e7a0f",
   "metadata": {},
   "outputs": [],
   "source": [
    "#importing libraries\n",
    "import pandas as pd\n",
    "import numpy as np\n",
    "import matplotlib.pyplot as plt\n",
    "import seaborn as sns"
   ]
  },
  {
   "cell_type": "code",
   "execution_count": 43,
   "id": "9adb500c",
   "metadata": {},
   "outputs": [],
   "source": [
    "#loading data\n",
    "df=pd.read_csv('payment_fraud.csv')"
   ]
  },
  {
   "cell_type": "code",
   "execution_count": 44,
   "id": "6df0a502",
   "metadata": {},
   "outputs": [
    {
     "data": {
      "text/html": [
       "<div>\n",
       "<style scoped>\n",
       "    .dataframe tbody tr th:only-of-type {\n",
       "        vertical-align: middle;\n",
       "    }\n",
       "\n",
       "    .dataframe tbody tr th {\n",
       "        vertical-align: top;\n",
       "    }\n",
       "\n",
       "    .dataframe thead th {\n",
       "        text-align: right;\n",
       "    }\n",
       "</style>\n",
       "<table border=\"1\" class=\"dataframe\">\n",
       "  <thead>\n",
       "    <tr style=\"text-align: right;\">\n",
       "      <th></th>\n",
       "      <th>accountAgeDays</th>\n",
       "      <th>numItems</th>\n",
       "      <th>localTime</th>\n",
       "      <th>paymentMethod</th>\n",
       "      <th>paymentMethodAgeDays</th>\n",
       "      <th>Category</th>\n",
       "      <th>isWeekend</th>\n",
       "      <th>label</th>\n",
       "    </tr>\n",
       "  </thead>\n",
       "  <tbody>\n",
       "    <tr>\n",
       "      <th>0</th>\n",
       "      <td>29</td>\n",
       "      <td>1</td>\n",
       "      <td>4.745402</td>\n",
       "      <td>paypal</td>\n",
       "      <td>28.204861</td>\n",
       "      <td>shopping</td>\n",
       "      <td>0.0</td>\n",
       "      <td>0</td>\n",
       "    </tr>\n",
       "    <tr>\n",
       "      <th>1</th>\n",
       "      <td>725</td>\n",
       "      <td>1</td>\n",
       "      <td>4.742303</td>\n",
       "      <td>storecredit</td>\n",
       "      <td>0.000000</td>\n",
       "      <td>electronics</td>\n",
       "      <td>0.0</td>\n",
       "      <td>0</td>\n",
       "    </tr>\n",
       "    <tr>\n",
       "      <th>2</th>\n",
       "      <td>845</td>\n",
       "      <td>1</td>\n",
       "      <td>4.921318</td>\n",
       "      <td>creditcard</td>\n",
       "      <td>0.000000</td>\n",
       "      <td>food</td>\n",
       "      <td>1.0</td>\n",
       "      <td>0</td>\n",
       "    </tr>\n",
       "    <tr>\n",
       "      <th>3</th>\n",
       "      <td>503</td>\n",
       "      <td>1</td>\n",
       "      <td>4.886641</td>\n",
       "      <td>creditcard</td>\n",
       "      <td>0.000000</td>\n",
       "      <td>electronics</td>\n",
       "      <td>1.0</td>\n",
       "      <td>0</td>\n",
       "    </tr>\n",
       "    <tr>\n",
       "      <th>4</th>\n",
       "      <td>2000</td>\n",
       "      <td>1</td>\n",
       "      <td>5.040929</td>\n",
       "      <td>creditcard</td>\n",
       "      <td>0.000000</td>\n",
       "      <td>shopping</td>\n",
       "      <td>0.0</td>\n",
       "      <td>0</td>\n",
       "    </tr>\n",
       "  </tbody>\n",
       "</table>\n",
       "</div>"
      ],
      "text/plain": [
       "   accountAgeDays  numItems  localTime paymentMethod  paymentMethodAgeDays  \\\n",
       "0              29         1   4.745402        paypal             28.204861   \n",
       "1             725         1   4.742303   storecredit              0.000000   \n",
       "2             845         1   4.921318    creditcard              0.000000   \n",
       "3             503         1   4.886641    creditcard              0.000000   \n",
       "4            2000         1   5.040929    creditcard              0.000000   \n",
       "\n",
       "      Category  isWeekend  label  \n",
       "0     shopping        0.0      0  \n",
       "1  electronics        0.0      0  \n",
       "2         food        1.0      0  \n",
       "3  electronics        1.0      0  \n",
       "4     shopping        0.0      0  "
      ]
     },
     "execution_count": 44,
     "metadata": {},
     "output_type": "execute_result"
    }
   ],
   "source": [
    "df.head()"
   ]
  },
  {
   "cell_type": "code",
   "execution_count": 45,
   "id": "65f140e6",
   "metadata": {},
   "outputs": [
    {
     "name": "stdout",
     "output_type": "stream",
     "text": [
      "<class 'pandas.core.frame.DataFrame'>\n",
      "RangeIndex: 39221 entries, 0 to 39220\n",
      "Data columns (total 8 columns):\n",
      " #   Column                Non-Null Count  Dtype  \n",
      "---  ------                --------------  -----  \n",
      " 0   accountAgeDays        39221 non-null  int64  \n",
      " 1   numItems              39221 non-null  int64  \n",
      " 2   localTime             39221 non-null  float64\n",
      " 3   paymentMethod         39221 non-null  object \n",
      " 4   paymentMethodAgeDays  39221 non-null  float64\n",
      " 5   Category              39126 non-null  object \n",
      " 6   isWeekend             38661 non-null  float64\n",
      " 7   label                 39221 non-null  int64  \n",
      "dtypes: float64(3), int64(3), object(2)\n",
      "memory usage: 2.4+ MB\n"
     ]
    }
   ],
   "source": [
    "df.info()"
   ]
  },
  {
   "cell_type": "code",
   "execution_count": 46,
   "id": "a48d4862",
   "metadata": {},
   "outputs": [
    {
     "data": {
      "text/plain": [
       "array(['shopping', 'electronics', 'food', nan], dtype=object)"
      ]
     },
     "execution_count": 46,
     "metadata": {},
     "output_type": "execute_result"
    }
   ],
   "source": [
    "df['paymentMethod'].unique()\n",
    "df['Category'].unique()"
   ]
  },
  {
   "cell_type": "code",
   "execution_count": 47,
   "id": "4142304f",
   "metadata": {},
   "outputs": [
    {
     "data": {
      "text/plain": [
       "accountAgeDays            0\n",
       "numItems                  0\n",
       "localTime                 0\n",
       "paymentMethod             0\n",
       "paymentMethodAgeDays      0\n",
       "Category                 95\n",
       "isWeekend               560\n",
       "label                     0\n",
       "dtype: int64"
      ]
     },
     "execution_count": 47,
     "metadata": {},
     "output_type": "execute_result"
    }
   ],
   "source": [
    "#handling null value\n",
    "df.isnull().sum()\n"
   ]
  },
  {
   "cell_type": "code",
   "execution_count": 48,
   "id": "4f1c3ffe",
   "metadata": {},
   "outputs": [],
   "source": [
    "'''#df.dropna(inplace=True)\n",
    "df = df.dropna()\n",
    "df = df.drop_duplicates()''' # removal will not help as potential fraud data label=1 get lost significantly\n",
    "df.fillna({'Category': df['Category'].mode()[0]}, inplace=True)\n",
    "df.fillna({'isWeekend': df['isWeekend'].mode()[0]}, inplace=True)"
   ]
  },
  {
   "cell_type": "code",
   "execution_count": 49,
   "id": "facbe4ac",
   "metadata": {},
   "outputs": [
    {
     "data": {
      "text/html": [
       "<div>\n",
       "<style scoped>\n",
       "    .dataframe tbody tr th:only-of-type {\n",
       "        vertical-align: middle;\n",
       "    }\n",
       "\n",
       "    .dataframe tbody tr th {\n",
       "        vertical-align: top;\n",
       "    }\n",
       "\n",
       "    .dataframe thead th {\n",
       "        text-align: right;\n",
       "    }\n",
       "</style>\n",
       "<table border=\"1\" class=\"dataframe\">\n",
       "  <thead>\n",
       "    <tr style=\"text-align: right;\">\n",
       "      <th></th>\n",
       "      <th>accountAgeDays</th>\n",
       "      <th>numItems</th>\n",
       "      <th>localTime</th>\n",
       "      <th>paymentMethod</th>\n",
       "      <th>paymentMethodAgeDays</th>\n",
       "      <th>Category</th>\n",
       "      <th>isWeekend</th>\n",
       "      <th>label</th>\n",
       "    </tr>\n",
       "  </thead>\n",
       "  <tbody>\n",
       "    <tr>\n",
       "      <th>0</th>\n",
       "      <td>29</td>\n",
       "      <td>1</td>\n",
       "      <td>4.745402</td>\n",
       "      <td>paypal</td>\n",
       "      <td>28.204861</td>\n",
       "      <td>shopping</td>\n",
       "      <td>0.0</td>\n",
       "      <td>0</td>\n",
       "    </tr>\n",
       "    <tr>\n",
       "      <th>1</th>\n",
       "      <td>725</td>\n",
       "      <td>1</td>\n",
       "      <td>4.742303</td>\n",
       "      <td>storecredit</td>\n",
       "      <td>0.000000</td>\n",
       "      <td>electronics</td>\n",
       "      <td>0.0</td>\n",
       "      <td>0</td>\n",
       "    </tr>\n",
       "    <tr>\n",
       "      <th>2</th>\n",
       "      <td>845</td>\n",
       "      <td>1</td>\n",
       "      <td>4.921318</td>\n",
       "      <td>creditcard</td>\n",
       "      <td>0.000000</td>\n",
       "      <td>food</td>\n",
       "      <td>1.0</td>\n",
       "      <td>0</td>\n",
       "    </tr>\n",
       "    <tr>\n",
       "      <th>3</th>\n",
       "      <td>503</td>\n",
       "      <td>1</td>\n",
       "      <td>4.886641</td>\n",
       "      <td>creditcard</td>\n",
       "      <td>0.000000</td>\n",
       "      <td>electronics</td>\n",
       "      <td>1.0</td>\n",
       "      <td>0</td>\n",
       "    </tr>\n",
       "    <tr>\n",
       "      <th>4</th>\n",
       "      <td>2000</td>\n",
       "      <td>1</td>\n",
       "      <td>5.040929</td>\n",
       "      <td>creditcard</td>\n",
       "      <td>0.000000</td>\n",
       "      <td>shopping</td>\n",
       "      <td>0.0</td>\n",
       "      <td>0</td>\n",
       "    </tr>\n",
       "  </tbody>\n",
       "</table>\n",
       "</div>"
      ],
      "text/plain": [
       "   accountAgeDays  numItems  localTime paymentMethod  paymentMethodAgeDays  \\\n",
       "0              29         1   4.745402        paypal             28.204861   \n",
       "1             725         1   4.742303   storecredit              0.000000   \n",
       "2             845         1   4.921318    creditcard              0.000000   \n",
       "3             503         1   4.886641    creditcard              0.000000   \n",
       "4            2000         1   5.040929    creditcard              0.000000   \n",
       "\n",
       "      Category  isWeekend  label  \n",
       "0     shopping        0.0      0  \n",
       "1  electronics        0.0      0  \n",
       "2         food        1.0      0  \n",
       "3  electronics        1.0      0  \n",
       "4     shopping        0.0      0  "
      ]
     },
     "execution_count": 49,
     "metadata": {},
     "output_type": "execute_result"
    }
   ],
   "source": [
    "df.head()"
   ]
  },
  {
   "cell_type": "code",
   "execution_count": 50,
   "id": "9e02cfff",
   "metadata": {},
   "outputs": [
    {
     "data": {
      "text/plain": [
       "accountAgeDays          0\n",
       "numItems                0\n",
       "localTime               0\n",
       "paymentMethod           0\n",
       "paymentMethodAgeDays    0\n",
       "Category                0\n",
       "isWeekend               0\n",
       "label                   0\n",
       "dtype: int64"
      ]
     },
     "execution_count": 50,
     "metadata": {},
     "output_type": "execute_result"
    }
   ],
   "source": [
    "df.isnull().sum()"
   ]
  },
  {
   "cell_type": "code",
   "execution_count": 51,
   "id": "3688785d",
   "metadata": {},
   "outputs": [],
   "source": [
    "#since category and paymentmethod is object type and contain string we use one hot encoding to convert this data \n",
    "from sklearn.preprocessing import OneHotEncoder\n",
    "encoder1=OneHotEncoder()\n",
    "encoder2=OneHotEncoder()\n",
    "encoded1=encoder1.fit_transform(df[['Category']]).toarray()\n",
    "encoded2=encoder2.fit_transform(df[['paymentMethod']]).toarray()\n",
    "encoded_df1 = pd.DataFrame(encoded1, columns=encoder1.get_feature_names_out(), index=df.index)\n",
    "encoded_df2 = pd.DataFrame(encoded2, columns=encoder2.get_feature_names_out(), index=df.index)\n",
    "df = pd.concat([df.drop('Category', axis=1), encoded_df1], axis=1)\n",
    "df = pd.concat([df.drop('paymentMethod', axis=1), encoded_df2], axis=1)"
   ]
  },
  {
   "cell_type": "code",
   "execution_count": 52,
   "id": "80856c22",
   "metadata": {},
   "outputs": [
    {
     "name": "stdout",
     "output_type": "stream",
     "text": [
      "<class 'pandas.core.frame.DataFrame'>\n",
      "RangeIndex: 39221 entries, 0 to 39220\n",
      "Data columns (total 12 columns):\n",
      " #   Column                     Non-Null Count  Dtype  \n",
      "---  ------                     --------------  -----  \n",
      " 0   accountAgeDays             39221 non-null  int64  \n",
      " 1   numItems                   39221 non-null  int64  \n",
      " 2   localTime                  39221 non-null  float64\n",
      " 3   paymentMethodAgeDays       39221 non-null  float64\n",
      " 4   isWeekend                  39221 non-null  float64\n",
      " 5   label                      39221 non-null  int64  \n",
      " 6   Category_electronics       39221 non-null  float64\n",
      " 7   Category_food              39221 non-null  float64\n",
      " 8   Category_shopping          39221 non-null  float64\n",
      " 9   paymentMethod_creditcard   39221 non-null  float64\n",
      " 10  paymentMethod_paypal       39221 non-null  float64\n",
      " 11  paymentMethod_storecredit  39221 non-null  float64\n",
      "dtypes: float64(9), int64(3)\n",
      "memory usage: 3.6 MB\n"
     ]
    }
   ],
   "source": [
    "df.info()"
   ]
  },
  {
   "cell_type": "code",
   "execution_count": 53,
   "id": "d2d11dc5",
   "metadata": {},
   "outputs": [
    {
     "name": "stdout",
     "output_type": "stream",
     "text": [
      "label\n",
      "0    38661\n",
      "1      560\n",
      "Name: count, dtype: int64\n"
     ]
    }
   ],
   "source": [
    "#checking for data imbalance \n",
    "print(df['label'].value_counts())"
   ]
  },
  {
   "cell_type": "code",
   "execution_count": 54,
   "id": "e843c3bb",
   "metadata": {},
   "outputs": [
    {
     "name": "stdout",
     "output_type": "stream",
     "text": [
      "(39221, 11)\n",
      "39221\n"
     ]
    }
   ],
   "source": [
    "# observation : data is imbalance so , using upsampling for making data balance \n",
    "\n",
    "'''from imblearn.over_sampling import SMOTE\n",
    "# it is use to create new data point for up sampling\n",
    "oversample=SMOTE()\n",
    "X,y=oversample.fit_resample(df.drop(\"label\",axis=1),df['label'])'''\n",
    "X=df.drop(\"label\",axis=1)\n",
    "y=df['label']\n",
    "print(X.shape)\n",
    "print(len(y))\n"
   ]
  },
  {
   "cell_type": "code",
   "execution_count": 55,
   "id": "f56bf24e",
   "metadata": {},
   "outputs": [
    {
     "data": {
      "text/plain": [
       "Text(0.5, 1.0, 'Correlation matrix')"
      ]
     },
     "execution_count": 55,
     "metadata": {},
     "output_type": "execute_result"
    },
    {
     "data": {
      "image/png": "[encoded data removed]",
      "text/plain": [
       "<Figure size 1200x600 with 2 Axes>"
      ]
     },
     "metadata": {},
     "output_type": "display_data"
    }
   ],
   "source": [
    "#correlation matrix \n",
    "plt.figure(figsize=(12,6))\n",
    "sns.heatmap(df.corr(),\n",
    "           annot=True,\n",
    "           center=0,\n",
    "           cmap='coolwarm')\n",
    "plt.title(\"Correlation matrix\")"
   ]
  },
  {
   "cell_type": "code",
   "execution_count": 56,
   "id": "7cb08afb",
   "metadata": {},
   "outputs": [],
   "source": [
    "#standardization\n",
    "from sklearn.preprocessing import StandardScaler\n",
    "scaler = StandardScaler()\n",
    "X = scaler.fit_transform(X)"
   ]
  },
  {
   "cell_type": "code",
   "execution_count": 57,
   "id": "0e291096",
   "metadata": {},
   "outputs": [],
   "source": [
    "#train test split\n",
    "from sklearn.model_selection import train_test_split\n",
    "X_train,X_test,y_train,y_test=train_test_split(X,y,test_size=0.3,random_state=42,stratify=y)"
   ]
  },
  {
   "cell_type": "code",
   "execution_count": 58,
   "id": "79cbcc92",
   "metadata": {},
   "outputs": [],
   "source": [
    "#model training\n",
    "from sklearn.ensemble import RandomForestClassifier\n",
    "from sklearn.tree import DecisionTreeClassifier\n",
    "from sklearn.linear_model import LogisticRegression\n",
    "from sklearn.svm import SVC\n",
    "from sklearn.neighbors import KNeighborsClassifier\n",
    "from sklearn.naive_bayes import GaussianNB\n",
    "from sklearn.ensemble import AdaBoostClassifier\n",
    "from sklearn.ensemble import GradientBoostingClassifier\n",
    "from sklearn.metrics import accuracy_score,confusion_matrix,classification_report,recall_score,f1_score,roc_auc_score,precision_score"
   ]
  },
  {
   "cell_type": "code",
   "execution_count": 59,
   "id": "4a4e312e",
   "metadata": {},
   "outputs": [
    {
     "name": "stdout",
     "output_type": "stream",
     "text": [
      "model : logistic regression\n",
      "preformance on training set\n",
      "accuracy :0.9858\n",
      "f1 Score:0.9792\n",
      "precision score :0.6364\n",
      "Recall Score :0.0179\n",
      "ROC Score0.5089\n",
      "--------------------------------------------------------------------\n",
      "preformance on testing set\n",
      "accuracy :0.9856\n",
      "f1 Score:0.9789\n",
      "precision score :0.4000\n",
      "Recall Score :0.0119\n",
      "ROC Score0.5058\n",
      "===========================================================================\n",
      "\n",
      "\n"
     ]
    },
    {
     "name": "stderr",
     "output_type": "stream",
     "text": [
      "c:\\Users\\DELL\\AppData\\Local\\Programs\\Python\\Python313\\Lib\\site-packages\\sklearn\\metrics\\_classification.py:1731: UndefinedMetricWarning: Precision is ill-defined and being set to 0.0 due to no predicted samples. Use `zero_division` parameter to control this behavior.\n",
      "  _warn_prf(average, modifier, f\"{metric.capitalize()} is\", result.shape[0])\n",
      "c:\\Users\\DELL\\AppData\\Local\\Programs\\Python\\Python313\\Lib\\site-packages\\sklearn\\metrics\\_classification.py:1731: UndefinedMetricWarning: Precision is ill-defined and being set to 0.0 due to no predicted samples. Use `zero_division` parameter to control this behavior.\n",
      "  _warn_prf(average, modifier, f\"{metric.capitalize()} is\", result.shape[0])\n"
     ]
    },
    {
     "name": "stdout",
     "output_type": "stream",
     "text": [
      "model : SVc\n",
      "preformance on training set\n",
      "accuracy :0.9857\n",
      "f1 Score:0.9786\n",
      "precision score :0.0000\n",
      "Recall Score :0.0000\n",
      "ROC Score0.5000\n",
      "--------------------------------------------------------------------\n",
      "preformance on testing set\n",
      "accuracy :0.9857\n",
      "f1 Score:0.9786\n",
      "precision score :0.0000\n",
      "Recall Score :0.0000\n",
      "ROC Score0.5000\n",
      "===========================================================================\n",
      "\n",
      "\n",
      "model : knn\n",
      "preformance on training set\n",
      "accuracy :0.9932\n",
      "f1 Score:0.9927\n",
      "precision score :0.8423\n",
      "Recall Score :0.6403\n",
      "ROC Score0.8193\n",
      "--------------------------------------------------------------------\n",
      "preformance on testing set\n",
      "accuracy :0.9893\n",
      "f1 Score:0.9885\n",
      "precision score :0.6694\n",
      "Recall Score :0.4940\n",
      "ROC Score0.7453\n",
      "===========================================================================\n",
      "\n",
      "\n",
      "model : naiveB\n",
      "preformance on training set\n",
      "accuracy :0.9999\n",
      "f1 Score:0.9999\n",
      "precision score :1.0000\n",
      "Recall Score :0.9923\n",
      "ROC Score0.9962\n",
      "--------------------------------------------------------------------\n",
      "preformance on testing set\n",
      "accuracy :0.9998\n",
      "f1 Score:0.9998\n",
      "precision score :1.0000\n",
      "Recall Score :0.9881\n",
      "ROC Score0.9940\n",
      "===========================================================================\n",
      "\n",
      "\n",
      "model : randomforest\n",
      "preformance on training set\n",
      "accuracy :1.0000\n",
      "f1 Score:1.0000\n",
      "precision score :1.0000\n",
      "Recall Score :1.0000\n",
      "ROC Score1.0000\n",
      "--------------------------------------------------------------------\n",
      "preformance on testing set\n",
      "accuracy :1.0000\n",
      "f1 Score:1.0000\n",
      "precision score :1.0000\n",
      "Recall Score :1.0000\n",
      "ROC Score1.0000\n",
      "===========================================================================\n",
      "\n",
      "\n",
      "model : decision tree\n",
      "preformance on training set\n",
      "accuracy :1.0000\n",
      "f1 Score:1.0000\n",
      "precision score :1.0000\n",
      "Recall Score :1.0000\n",
      "ROC Score1.0000\n",
      "--------------------------------------------------------------------\n",
      "preformance on testing set\n",
      "accuracy :1.0000\n",
      "f1 Score:1.0000\n",
      "precision score :1.0000\n",
      "Recall Score :1.0000\n",
      "ROC Score1.0000\n",
      "===========================================================================\n",
      "\n",
      "\n",
      "model : adaa\n",
      "preformance on training set\n",
      "accuracy :1.0000\n",
      "f1 Score:1.0000\n",
      "precision score :1.0000\n",
      "Recall Score :1.0000\n",
      "ROC Score1.0000\n",
      "--------------------------------------------------------------------\n",
      "preformance on testing set\n",
      "accuracy :1.0000\n",
      "f1 Score:1.0000\n",
      "precision score :1.0000\n",
      "Recall Score :1.0000\n",
      "ROC Score1.0000\n",
      "===========================================================================\n",
      "\n",
      "\n",
      "model : GradientBoostingClassifier\n",
      "preformance on training set\n",
      "accuracy :1.0000\n",
      "f1 Score:1.0000\n",
      "precision score :1.0000\n",
      "Recall Score :1.0000\n",
      "ROC Score1.0000\n",
      "--------------------------------------------------------------------\n",
      "preformance on testing set\n",
      "accuracy :1.0000\n",
      "f1 Score:1.0000\n",
      "precision score :1.0000\n",
      "Recall Score :1.0000\n",
      "ROC Score1.0000\n",
      "===========================================================================\n",
      "\n",
      "\n"
     ]
    }
   ],
   "source": [
    "models={\n",
    "    'logistic regression':LogisticRegression(),\n",
    "    'SVc':SVC(),\n",
    "    \"knn\":KNeighborsClassifier(),\n",
    "    \"naiveB\":GaussianNB(),\n",
    "    'randomforest':RandomForestClassifier(),\n",
    "    'decision tree':DecisionTreeClassifier(),\n",
    "    \"adaa\":AdaBoostClassifier(),\n",
    "    \"GradientBoostingClassifier\":GradientBoostingClassifier()\n",
    "}\n",
    "for i in range (len(list(models))):\n",
    "    #model training\n",
    "    model=list(models.values())[i]\n",
    "    model.fit(X_train,y_train)\n",
    "    # model pred\n",
    "    y_train_pred=model.predict(X_train)\n",
    "    y_test_pred=model.predict(X_test)\n",
    "\n",
    "    #prefomance fot training\n",
    "    model_train_acc=accuracy_score(y_train,y_train_pred)\n",
    "    model_train_f1=f1_score(y_train,y_train_pred,average='weighted')\n",
    "    model_train_pre=precision_score(y_train,y_train_pred)\n",
    "    model_train_recall=recall_score(y_train,y_train_pred)\n",
    "    model_train_roc=roc_auc_score(y_train,y_train_pred)\n",
    "\n",
    "    #prefomance fot training\n",
    "    model_test_acc=accuracy_score(y_test,y_test_pred)\n",
    "    model_test_f1=f1_score(y_test,y_test_pred,average='weighted')\n",
    "    model_test_pre=precision_score(y_test,y_test_pred)\n",
    "    model_test_recall=recall_score(y_test,y_test_pred)\n",
    "    model_test_roc=roc_auc_score(y_test,y_test_pred)\n",
    "\n",
    "    #print training score\n",
    "    print(\"model :\",list(models.keys())[i])\n",
    "    print(\"preformance on training set\")\n",
    "    print(\"accuracy :{:.4f}\".format(model_train_acc))\n",
    "    print(\"f1 Score:{:.4f}\".format(model_train_f1))\n",
    "    print(\"precision score :{:.4f}\".format(model_train_pre))\n",
    "    print(\"Recall Score :{:.4f}\".format(model_train_recall))\n",
    "    print(\"ROC Score{:.4f}\".format(model_train_roc))\n",
    "    print('--------------------------------------------------------------------')\n",
    "    #print testing score\n",
    "    print(\"preformance on testing set\")\n",
    "    print(\"accuracy :{:.4f}\".format(model_test_acc))\n",
    "    print(\"f1 Score:{:.4f}\".format(model_test_f1))\n",
    "    print(\"precision score :{:.4f}\".format(model_test_pre))\n",
    "    print(\"Recall Score :{:.4f}\".format(model_test_recall))\n",
    "    print(\"ROC Score{:.4f}\".format(model_test_roc))\n",
    "\n",
    "    print(\"===========================================================================\")\n",
    "    print(\"\\n\")\n",
    "\n",
    "\n",
    "\n"
   ]
  },
  {
   "cell_type": "code",
   "execution_count": 62,
   "id": "1ddc7f06",
   "metadata": {},
   "outputs": [],
   "source": [
    "#hyper perameter tuneing\n",
    "from sklearn.model_selection import RandomizedSearchCV\n",
    "rf_params={\"max_depth\":[5,10,15,None,8],\n",
    "           \"max_features\": ['sqrt', 'log2', 5, 7, 8],\n",
    "           \"min_samples_split\":[2,8,15,20],\n",
    "           \"n_estimators\":[100,200,500,1000]}\n",
    "adaboost_param={\n",
    "    \"n_estimators\":[50,60,70,80,90],\n",
    "    \"algorithm\":['SAMME','SAMME.R']\n",
    "}\n",
    "log_params={'penalty':['l1','l2','elasticney'],\n",
    "            \"C\":[100,10,0.1,0.01,1],\n",
    "            'solver':['newton-cg','saga','sag','liblinear','lbfgs']}\n",
    "dt_params=params={'criterion':['gini', 'entropy', 'log_loss'],\n",
    "        'splitter':['best','random'],\n",
    "        'max_depth':[1,2,3,4,5],\n",
    "       'max_features':['sqrt','log2','auto'],    \n",
    "}\n",
    "sv_param= {\n",
    "    'C': [0.1, 1, 10, 100],\n",
    "    'kernel': ['linear', 'rbf', 'poly'],\n",
    "    'gamma': ['scale', 'auto', 0.01, 0.001],\n",
    "    'degree': [2, 3, 4],  # Only used if kernel='poly'\n",
    "    'coef0': [0.0, 0.5, 1.0],  # For 'poly' and 'sigmoid'\n",
    "    'class_weight': [None, 'balanced']\n",
    "}\n",
    "\n",
    "knn_param = {\n",
    "    'n_neighbors': list(range(3, 16, 2)),\n",
    "    'weights': ['uniform', 'distance'],\n",
    "    'metric': ['euclidean', 'manhattan']\n",
    "}\n",
    "grad_params={'loss':['log_loss', 'exponential','deviance'],\n",
    "             'criterion':['friedman_mse', 'squared_error','mse'],\n",
    "             'min_samples_split':[2,8,15,20],\n",
    "             'n_estimators':[100,200,500,1000],\n",
    "             'max_depth':[5,8,15,None]\n",
    "\n",
    "             }\n"
   ]
  },
  {
   "cell_type": "code",
   "execution_count": null,
   "id": "665e2767",
   "metadata": {},
   "outputs": [
    {
     "name": "stdout",
     "output_type": "stream",
     "text": [
      "Fitting 3 folds for each of 100 candidates, totalling 300 fits\n",
      "[CV] END max_depth=5, max_features=log2, min_samples_split=2, n_estimators=500; total time=   1.8s\n",
      "[CV] END max_depth=5, max_features=log2, min_samples_split=2, n_estimators=500; total time=   1.6s\n",
      "[CV] END max_depth=5, max_features=log2, min_samples_split=2, n_estimators=500; total time=   1.6s\n",
      "[CV] END max_depth=None, max_features=5, min_samples_split=2, n_estimators=500; total time=   1.7s\n",
      "[CV] END max_depth=None, max_features=5, min_samples_split=2, n_estimators=500; total time=   1.8s\n",
      "[CV] END max_depth=None, max_features=5, min_samples_split=2, n_estimators=500; total time=   1.9s\n",
      "[CV] END max_depth=8, max_features=5, min_samples_split=20, n_estimators=1000; total time=   3.8s\n",
      "[CV] END max_depth=8, max_features=5, min_samples_split=20, n_estimators=1000; total time=   3.7s\n",
      "[CV] END max_depth=8, max_features=5, min_samples_split=20, n_estimators=1000; total time=   3.4s\n",
      "[CV] END max_depth=10, max_features=7, min_samples_split=2, n_estimators=200; total time=   0.6s\n",
      "[CV] END max_depth=10, max_features=7, min_samples_split=2, n_estimators=200; total time=   0.6s\n",
      "[CV] END max_depth=10, max_features=7, min_samples_split=2, n_estimators=200; total time=   0.6s\n",
      "[CV] END max_depth=None, max_features=sqrt, min_samples_split=2, n_estimators=500; total time=   1.6s\n",
      "[CV] END max_depth=None, max_features=sqrt, min_samples_split=2, n_estimators=500; total time=   1.6s\n",
      "[CV] END max_depth=None, max_features=sqrt, min_samples_split=2, n_estimators=500; total time=   1.6s\n",
      "[CV] END max_depth=10, max_features=log2, min_samples_split=8, n_estimators=200; total time=   0.6s\n",
      "[CV] END max_depth=10, max_features=log2, min_samples_split=8, n_estimators=200; total time=   0.6s\n",
      "[CV] END max_depth=10, max_features=log2, min_samples_split=8, n_estimators=200; total time=   0.6s\n",
      "[CV] END max_depth=5, max_features=7, min_samples_split=2, n_estimators=500; total time=   1.8s\n",
      "[CV] END max_depth=5, max_features=7, min_samples_split=2, n_estimators=500; total time=   1.7s\n",
      "[CV] END max_depth=5, max_features=7, min_samples_split=2, n_estimators=500; total time=   1.8s\n",
      "[CV] END max_depth=10, max_features=log2, min_samples_split=15, n_estimators=100; total time=   0.3s\n",
      "[CV] END max_depth=10, max_features=log2, min_samples_split=15, n_estimators=100; total time=   0.2s\n",
      "[CV] END max_depth=10, max_features=log2, min_samples_split=15, n_estimators=100; total time=   0.2s\n",
      "[CV] END max_depth=5, max_features=8, min_samples_split=15, n_estimators=1000; total time=   3.7s\n",
      "[CV] END max_depth=5, max_features=8, min_samples_split=15, n_estimators=1000; total time=   3.6s\n",
      "[CV] END max_depth=5, max_features=8, min_samples_split=15, n_estimators=1000; total time=   3.6s\n",
      "[CV] END max_depth=5, max_features=5, min_samples_split=20, n_estimators=1000; total time=   3.4s\n",
      "[CV] END max_depth=5, max_features=5, min_samples_split=20, n_estimators=1000; total time=   3.3s\n",
      "[CV] END max_depth=5, max_features=5, min_samples_split=20, n_estimators=1000; total time=   3.4s\n",
      "[CV] END max_depth=15, max_features=sqrt, min_samples_split=20, n_estimators=100; total time=   0.2s\n",
      "[CV] END max_depth=15, max_features=sqrt, min_samples_split=20, n_estimators=100; total time=   0.2s\n",
      "[CV] END max_depth=15, max_features=sqrt, min_samples_split=20, n_estimators=100; total time=   0.2s\n",
      "[CV] END max_depth=10, max_features=7, min_samples_split=2, n_estimators=100; total time=   0.3s\n",
      "[CV] END max_depth=10, max_features=7, min_samples_split=2, n_estimators=100; total time=   0.3s\n",
      "[CV] END max_depth=10, max_features=7, min_samples_split=2, n_estimators=100; total time=   0.3s\n",
      "[CV] END max_depth=15, max_features=8, min_samples_split=15, n_estimators=1000; total time=   3.6s\n",
      "[CV] END max_depth=15, max_features=8, min_samples_split=15, n_estimators=1000; total time=   3.5s\n",
      "[CV] END max_depth=15, max_features=8, min_samples_split=15, n_estimators=1000; total time=   3.6s\n",
      "[CV] END max_depth=None, max_features=7, min_samples_split=20, n_estimators=1000; total time=   3.5s\n",
      "[CV] END max_depth=None, max_features=7, min_samples_split=20, n_estimators=1000; total time=   3.5s\n",
      "[CV] END max_depth=None, max_features=7, min_samples_split=20, n_estimators=1000; total time=   3.5s\n",
      "[CV] END max_depth=5, max_features=8, min_samples_split=20, n_estimators=200; total time=   0.6s\n",
      "[CV] END max_depth=5, max_features=8, min_samples_split=20, n_estimators=200; total time=   0.6s\n",
      "[CV] END max_depth=5, max_features=8, min_samples_split=20, n_estimators=200; total time=   0.6s\n",
      "[CV] END max_depth=10, max_features=7, min_samples_split=8, n_estimators=200; total time=   0.6s\n",
      "[CV] END max_depth=10, max_features=7, min_samples_split=8, n_estimators=200; total time=   0.6s\n",
      "[CV] END max_depth=10, max_features=7, min_samples_split=8, n_estimators=200; total time=   0.6s\n",
      "[CV] END max_depth=None, max_features=7, min_samples_split=2, n_estimators=200; total time=   0.6s\n",
      "[CV] END max_depth=None, max_features=7, min_samples_split=2, n_estimators=200; total time=   0.6s\n",
      "[CV] END max_depth=None, max_features=7, min_samples_split=2, n_estimators=200; total time=   0.6s\n",
      "[CV] END max_depth=8, max_features=8, min_samples_split=8, n_estimators=1000; total time=   3.6s\n",
      "[CV] END max_depth=8, max_features=8, min_samples_split=8, n_estimators=1000; total time=   3.5s\n",
      "[CV] END max_depth=8, max_features=8, min_samples_split=8, n_estimators=1000; total time=   3.6s\n",
      "[CV] END max_depth=None, max_features=7, min_samples_split=15, n_estimators=1000; total time=   3.5s\n",
      "[CV] END max_depth=None, max_features=7, min_samples_split=15, n_estimators=1000; total time=   3.4s\n",
      "[CV] END max_depth=None, max_features=7, min_samples_split=15, n_estimators=1000; total time=   3.5s\n",
      "[CV] END max_depth=10, max_features=5, min_samples_split=15, n_estimators=1000; total time=   3.4s\n",
      "[CV] END max_depth=10, max_features=5, min_samples_split=15, n_estimators=1000; total time=   3.4s\n",
      "[CV] END max_depth=10, max_features=5, min_samples_split=15, n_estimators=1000; total time=   3.4s\n",
      "[CV] END max_depth=None, max_features=8, min_samples_split=20, n_estimators=100; total time=   0.3s\n",
      "[CV] END max_depth=None, max_features=8, min_samples_split=20, n_estimators=100; total time=   0.3s\n",
      "[CV] END max_depth=None, max_features=8, min_samples_split=20, n_estimators=100; total time=   0.3s\n",
      "[CV] END max_depth=None, max_features=7, min_samples_split=8, n_estimators=100; total time=   0.3s\n",
      "[CV] END max_depth=None, max_features=7, min_samples_split=8, n_estimators=100; total time=   0.3s\n",
      "[CV] END max_depth=None, max_features=7, min_samples_split=8, n_estimators=100; total time=   0.3s\n",
      "[CV] END max_depth=None, max_features=8, min_samples_split=20, n_estimators=500; total time=   1.7s\n",
      "[CV] END max_depth=None, max_features=8, min_samples_split=20, n_estimators=500; total time=   1.7s\n",
      "[CV] END max_depth=None, max_features=8, min_samples_split=20, n_estimators=500; total time=   1.8s\n",
      "[CV] END max_depth=5, max_features=log2, min_samples_split=8, n_estimators=200; total time=   0.5s\n",
      "[CV] END max_depth=5, max_features=log2, min_samples_split=8, n_estimators=200; total time=   0.6s\n",
      "[CV] END max_depth=5, max_features=log2, min_samples_split=8, n_estimators=200; total time=   0.5s\n",
      "[CV] END max_depth=15, max_features=8, min_samples_split=20, n_estimators=1000; total time=   3.5s\n",
      "[CV] END max_depth=15, max_features=8, min_samples_split=20, n_estimators=1000; total time=   3.5s\n",
      "[CV] END max_depth=15, max_features=8, min_samples_split=20, n_estimators=1000; total time=   3.5s\n",
      "[CV] END max_depth=15, max_features=log2, min_samples_split=15, n_estimators=500; total time=   1.6s\n",
      "[CV] END max_depth=15, max_features=log2, min_samples_split=15, n_estimators=500; total time=   1.6s\n",
      "[CV] END max_depth=15, max_features=log2, min_samples_split=15, n_estimators=500; total time=   1.6s\n",
      "[CV] END max_depth=10, max_features=8, min_samples_split=8, n_estimators=1000; total time=   3.5s\n",
      "[CV] END max_depth=10, max_features=8, min_samples_split=8, n_estimators=1000; total time=   3.5s\n",
      "[CV] END max_depth=10, max_features=8, min_samples_split=8, n_estimators=1000; total time=   3.6s\n",
      "[CV] END max_depth=8, max_features=8, min_samples_split=8, n_estimators=500; total time=   1.7s\n",
      "[CV] END max_depth=8, max_features=8, min_samples_split=8, n_estimators=500; total time=   1.7s\n",
      "[CV] END max_depth=8, max_features=8, min_samples_split=8, n_estimators=500; total time=   1.7s\n",
      "[CV] END max_depth=8, max_features=sqrt, min_samples_split=15, n_estimators=100; total time=   0.2s\n",
      "[CV] END max_depth=8, max_features=sqrt, min_samples_split=15, n_estimators=100; total time=   0.2s\n",
      "[CV] END max_depth=8, max_features=sqrt, min_samples_split=15, n_estimators=100; total time=   0.2s\n",
      "[CV] END max_depth=None, max_features=7, min_samples_split=2, n_estimators=500; total time=   1.8s\n",
      "[CV] END max_depth=None, max_features=7, min_samples_split=2, n_estimators=500; total time=   1.7s\n",
      "[CV] END max_depth=None, max_features=7, min_samples_split=2, n_estimators=500; total time=   1.7s\n",
      "[CV] END max_depth=15, max_features=7, min_samples_split=20, n_estimators=200; total time=   0.7s\n",
      "[CV] END max_depth=15, max_features=7, min_samples_split=20, n_estimators=200; total time=   0.8s\n",
      "[CV] END max_depth=15, max_features=7, min_samples_split=20, n_estimators=200; total time=   0.7s\n",
      "[CV] END max_depth=5, max_features=sqrt, min_samples_split=2, n_estimators=100; total time=   0.2s\n",
      "[CV] END max_depth=5, max_features=sqrt, min_samples_split=2, n_estimators=100; total time=   0.2s\n",
      "[CV] END max_depth=5, max_features=sqrt, min_samples_split=2, n_estimators=100; total time=   0.2s\n",
      "[CV] END max_depth=10, max_features=sqrt, min_samples_split=20, n_estimators=200; total time=   0.6s\n",
      "[CV] END max_depth=10, max_features=sqrt, min_samples_split=20, n_estimators=200; total time=   0.6s\n",
      "[CV] END max_depth=10, max_features=sqrt, min_samples_split=20, n_estimators=200; total time=   0.6s\n",
      "[CV] END max_depth=8, max_features=5, min_samples_split=20, n_estimators=200; total time=   0.6s\n",
      "[CV] END max_depth=8, max_features=5, min_samples_split=20, n_estimators=200; total time=   0.6s\n",
      "[CV] END max_depth=8, max_features=5, min_samples_split=20, n_estimators=200; total time=   0.6s\n",
      "[CV] END max_depth=5, max_features=log2, min_samples_split=2, n_estimators=200; total time=   0.5s\n",
      "[CV] END max_depth=5, max_features=log2, min_samples_split=2, n_estimators=200; total time=   0.5s\n",
      "[CV] END max_depth=5, max_features=log2, min_samples_split=2, n_estimators=200; total time=   0.5s\n",
      "[CV] END max_depth=10, max_features=7, min_samples_split=20, n_estimators=200; total time=   0.6s\n",
      "[CV] END max_depth=10, max_features=7, min_samples_split=20, n_estimators=200; total time=   0.6s\n",
      "[CV] END max_depth=10, max_features=7, min_samples_split=20, n_estimators=200; total time=   0.6s\n",
      "[CV] END max_depth=15, max_features=sqrt, min_samples_split=15, n_estimators=100; total time=   0.2s\n",
      "[CV] END max_depth=15, max_features=sqrt, min_samples_split=15, n_estimators=100; total time=   0.2s\n",
      "[CV] END max_depth=15, max_features=sqrt, min_samples_split=15, n_estimators=100; total time=   0.2s\n",
      "[CV] END max_depth=5, max_features=8, min_samples_split=20, n_estimators=100; total time=   0.3s\n",
      "[CV] END max_depth=5, max_features=8, min_samples_split=20, n_estimators=100; total time=   0.3s\n",
      "[CV] END max_depth=5, max_features=8, min_samples_split=20, n_estimators=100; total time=   0.3s\n",
      "[CV] END max_depth=8, max_features=5, min_samples_split=15, n_estimators=500; total time=   1.6s\n",
      "[CV] END max_depth=8, max_features=5, min_samples_split=15, n_estimators=500; total time=   1.6s\n",
      "[CV] END max_depth=8, max_features=5, min_samples_split=15, n_estimators=500; total time=   1.6s\n",
      "[CV] END max_depth=8, max_features=7, min_samples_split=8, n_estimators=200; total time=   0.6s\n",
      "[CV] END max_depth=8, max_features=7, min_samples_split=8, n_estimators=200; total time=   0.6s\n",
      "[CV] END max_depth=8, max_features=7, min_samples_split=8, n_estimators=200; total time=   0.6s\n",
      "[CV] END max_depth=None, max_features=log2, min_samples_split=15, n_estimators=100; total time=   0.2s\n",
      "[CV] END max_depth=None, max_features=log2, min_samples_split=15, n_estimators=100; total time=   0.2s\n",
      "[CV] END max_depth=None, max_features=log2, min_samples_split=15, n_estimators=100; total time=   0.2s\n",
      "[CV] END max_depth=15, max_features=log2, min_samples_split=20, n_estimators=500; total time=   1.7s\n",
      "[CV] END max_depth=15, max_features=log2, min_samples_split=20, n_estimators=500; total time=   1.9s\n",
      "[CV] END max_depth=15, max_features=log2, min_samples_split=20, n_estimators=500; total time=   1.8s\n",
      "[CV] END max_depth=8, max_features=log2, min_samples_split=2, n_estimators=200; total time=   0.6s\n",
      "[CV] END max_depth=8, max_features=log2, min_samples_split=2, n_estimators=200; total time=   0.6s\n",
      "[CV] END max_depth=8, max_features=log2, min_samples_split=2, n_estimators=200; total time=   0.6s\n",
      "[CV] END max_depth=None, max_features=sqrt, min_samples_split=2, n_estimators=1000; total time=   3.4s\n",
      "[CV] END max_depth=None, max_features=sqrt, min_samples_split=2, n_estimators=1000; total time=   3.3s\n",
      "[CV] END max_depth=None, max_features=sqrt, min_samples_split=2, n_estimators=1000; total time=   3.3s\n",
      "[CV] END max_depth=15, max_features=log2, min_samples_split=2, n_estimators=100; total time=   0.2s\n",
      "[CV] END max_depth=15, max_features=log2, min_samples_split=2, n_estimators=100; total time=   0.3s\n",
      "[CV] END max_depth=15, max_features=log2, min_samples_split=2, n_estimators=100; total time=   0.2s\n",
      "[CV] END max_depth=None, max_features=8, min_samples_split=2, n_estimators=1000; total time=   3.6s\n",
      "[CV] END max_depth=None, max_features=8, min_samples_split=2, n_estimators=1000; total time=   3.9s\n",
      "[CV] END max_depth=None, max_features=8, min_samples_split=2, n_estimators=1000; total time=   3.7s\n",
      "[CV] END max_depth=15, max_features=log2, min_samples_split=20, n_estimators=200; total time=   0.6s\n",
      "[CV] END max_depth=15, max_features=log2, min_samples_split=20, n_estimators=200; total time=   0.6s\n",
      "[CV] END max_depth=15, max_features=log2, min_samples_split=20, n_estimators=200; total time=   0.6s\n",
      "[CV] END max_depth=10, max_features=sqrt, min_samples_split=15, n_estimators=200; total time=   0.6s\n",
      "[CV] END max_depth=10, max_features=sqrt, min_samples_split=15, n_estimators=200; total time=   0.6s\n",
      "[CV] END max_depth=10, max_features=sqrt, min_samples_split=15, n_estimators=200; total time=   0.6s\n",
      "[CV] END max_depth=5, max_features=7, min_samples_split=2, n_estimators=100; total time=   0.3s\n",
      "[CV] END max_depth=5, max_features=7, min_samples_split=2, n_estimators=100; total time=   0.2s\n",
      "[CV] END max_depth=5, max_features=7, min_samples_split=2, n_estimators=100; total time=   0.3s\n",
      "[CV] END max_depth=5, max_features=7, min_samples_split=15, n_estimators=1000; total time=   3.5s\n",
      "[CV] END max_depth=5, max_features=7, min_samples_split=15, n_estimators=1000; total time=   3.6s\n",
      "[CV] END max_depth=5, max_features=7, min_samples_split=15, n_estimators=1000; total time=   3.5s\n",
      "[CV] END max_depth=10, max_features=log2, min_samples_split=8, n_estimators=100; total time=   0.2s\n",
      "[CV] END max_depth=10, max_features=log2, min_samples_split=8, n_estimators=100; total time=   0.2s\n",
      "[CV] END max_depth=10, max_features=log2, min_samples_split=8, n_estimators=100; total time=   0.2s\n",
      "[CV] END max_depth=8, max_features=7, min_samples_split=20, n_estimators=100; total time=   0.3s\n",
      "[CV] END max_depth=8, max_features=7, min_samples_split=20, n_estimators=100; total time=   0.3s\n",
      "[CV] END max_depth=8, max_features=7, min_samples_split=20, n_estimators=100; total time=   0.3s\n",
      "[CV] END max_depth=8, max_features=7, min_samples_split=8, n_estimators=500; total time=   1.7s\n",
      "[CV] END max_depth=8, max_features=7, min_samples_split=8, n_estimators=500; total time=   1.8s\n",
      "[CV] END max_depth=8, max_features=7, min_samples_split=8, n_estimators=500; total time=   1.7s\n",
      "[CV] END max_depth=5, max_features=7, min_samples_split=8, n_estimators=100; total time=   0.3s\n",
      "[CV] END max_depth=5, max_features=7, min_samples_split=8, n_estimators=100; total time=   0.3s\n",
      "[CV] END max_depth=5, max_features=7, min_samples_split=8, n_estimators=100; total time=   0.3s\n",
      "[CV] END max_depth=None, max_features=7, min_samples_split=15, n_estimators=500; total time=   1.7s\n",
      "[CV] END max_depth=None, max_features=7, min_samples_split=15, n_estimators=500; total time=   1.7s\n",
      "[CV] END max_depth=None, max_features=7, min_samples_split=15, n_estimators=500; total time=   1.7s\n",
      "[CV] END max_depth=None, max_features=5, min_samples_split=15, n_estimators=100; total time=   0.3s\n",
      "[CV] END max_depth=None, max_features=5, min_samples_split=15, n_estimators=100; total time=   0.2s\n",
      "[CV] END max_depth=None, max_features=5, min_samples_split=15, n_estimators=100; total time=   0.3s\n",
      "[CV] END max_depth=8, max_features=log2, min_samples_split=15, n_estimators=500; total time=   1.6s\n",
      "[CV] END max_depth=8, max_features=log2, min_samples_split=15, n_estimators=500; total time=   1.6s\n",
      "[CV] END max_depth=8, max_features=log2, min_samples_split=15, n_estimators=500; total time=   1.6s\n",
      "[CV] END max_depth=5, max_features=log2, min_samples_split=20, n_estimators=200; total time=   0.5s\n",
      "[CV] END max_depth=5, max_features=log2, min_samples_split=20, n_estimators=200; total time=   0.5s\n",
      "[CV] END max_depth=5, max_features=log2, min_samples_split=20, n_estimators=200; total time=   0.6s\n",
      "[CV] END max_depth=8, max_features=8, min_samples_split=15, n_estimators=200; total time=   0.7s\n",
      "[CV] END max_depth=8, max_features=8, min_samples_split=15, n_estimators=200; total time=   0.6s\n",
      "[CV] END max_depth=8, max_features=8, min_samples_split=15, n_estimators=200; total time=   0.6s\n",
      "[CV] END max_depth=None, max_features=log2, min_samples_split=2, n_estimators=1000; total time=   3.3s\n",
      "[CV] END max_depth=None, max_features=log2, min_samples_split=2, n_estimators=1000; total time=   3.3s\n",
      "[CV] END max_depth=None, max_features=log2, min_samples_split=2, n_estimators=1000; total time=   3.3s\n",
      "[CV] END max_depth=15, max_features=log2, min_samples_split=2, n_estimators=200; total time=   0.6s\n",
      "[CV] END max_depth=15, max_features=log2, min_samples_split=2, n_estimators=200; total time=   0.6s\n",
      "[CV] END max_depth=15, max_features=log2, min_samples_split=2, n_estimators=200; total time=   0.6s\n",
      "[CV] END max_depth=10, max_features=sqrt, min_samples_split=8, n_estimators=100; total time=   0.3s\n",
      "[CV] END max_depth=10, max_features=sqrt, min_samples_split=8, n_estimators=100; total time=   0.2s\n",
      "[CV] END max_depth=10, max_features=sqrt, min_samples_split=8, n_estimators=100; total time=   0.2s\n",
      "[CV] END max_depth=None, max_features=8, min_samples_split=20, n_estimators=200; total time=   0.6s\n",
      "[CV] END max_depth=None, max_features=8, min_samples_split=20, n_estimators=200; total time=   0.6s\n",
      "[CV] END max_depth=None, max_features=8, min_samples_split=20, n_estimators=200; total time=   0.7s\n",
      "[CV] END max_depth=5, max_features=5, min_samples_split=20, n_estimators=100; total time=   0.3s\n",
      "[CV] END max_depth=5, max_features=5, min_samples_split=20, n_estimators=100; total time=   0.3s\n",
      "[CV] END max_depth=5, max_features=5, min_samples_split=20, n_estimators=100; total time=   0.3s\n",
      "[CV] END max_depth=None, max_features=log2, min_samples_split=15, n_estimators=500; total time=   1.6s\n",
      "[CV] END max_depth=None, max_features=log2, min_samples_split=15, n_estimators=500; total time=   1.6s\n",
      "[CV] END max_depth=None, max_features=log2, min_samples_split=15, n_estimators=500; total time=   1.6s\n",
      "[CV] END max_depth=10, max_features=7, min_samples_split=15, n_estimators=200; total time=   0.6s\n",
      "[CV] END max_depth=10, max_features=7, min_samples_split=15, n_estimators=200; total time=   0.6s\n",
      "[CV] END max_depth=10, max_features=7, min_samples_split=15, n_estimators=200; total time=   0.6s\n",
      "[CV] END max_depth=15, max_features=log2, min_samples_split=20, n_estimators=100; total time=   0.3s\n",
      "[CV] END max_depth=15, max_features=log2, min_samples_split=20, n_estimators=100; total time=   0.2s\n",
      "[CV] END max_depth=15, max_features=log2, min_samples_split=20, n_estimators=100; total time=   0.2s\n",
      "[CV] END max_depth=5, max_features=8, min_samples_split=15, n_estimators=100; total time=   0.3s\n",
      "[CV] END max_depth=5, max_features=8, min_samples_split=15, n_estimators=100; total time=   0.3s\n",
      "[CV] END max_depth=5, max_features=8, min_samples_split=15, n_estimators=100; total time=   0.3s\n",
      "[CV] END max_depth=15, max_features=log2, min_samples_split=2, n_estimators=500; total time=   1.6s\n",
      "[CV] END max_depth=15, max_features=log2, min_samples_split=2, n_estimators=500; total time=   1.6s\n",
      "[CV] END max_depth=15, max_features=log2, min_samples_split=2, n_estimators=500; total time=   1.6s\n",
      "[CV] END max_depth=15, max_features=sqrt, min_samples_split=2, n_estimators=200; total time=   0.6s\n",
      "[CV] END max_depth=15, max_features=sqrt, min_samples_split=2, n_estimators=200; total time=   0.6s\n",
      "[CV] END max_depth=15, max_features=sqrt, min_samples_split=2, n_estimators=200; total time=   0.6s\n",
      "[CV] END max_depth=None, max_features=7, min_samples_split=20, n_estimators=100; total time=   0.3s\n",
      "[CV] END max_depth=None, max_features=7, min_samples_split=20, n_estimators=100; total time=   0.3s\n",
      "[CV] END max_depth=None, max_features=7, min_samples_split=20, n_estimators=100; total time=   0.3s\n",
      "[CV] END max_depth=15, max_features=log2, min_samples_split=2, n_estimators=1000; total time=   3.4s\n",
      "[CV] END max_depth=15, max_features=log2, min_samples_split=2, n_estimators=1000; total time=   3.3s\n",
      "[CV] END max_depth=15, max_features=log2, min_samples_split=2, n_estimators=1000; total time=   3.3s\n",
      "[CV] END max_depth=10, max_features=8, min_samples_split=20, n_estimators=100; total time=   0.3s\n",
      "[CV] END max_depth=10, max_features=8, min_samples_split=20, n_estimators=100; total time=   0.3s\n",
      "[CV] END max_depth=10, max_features=8, min_samples_split=20, n_estimators=100; total time=   0.3s\n",
      "[CV] END max_depth=15, max_features=5, min_samples_split=8, n_estimators=100; total time=   0.2s\n",
      "[CV] END max_depth=15, max_features=5, min_samples_split=8, n_estimators=100; total time=   0.3s\n",
      "[CV] END max_depth=15, max_features=5, min_samples_split=8, n_estimators=100; total time=   0.3s\n",
      "[CV] END max_depth=None, max_features=8, min_samples_split=2, n_estimators=100; total time=   0.3s\n",
      "[CV] END max_depth=None, max_features=8, min_samples_split=2, n_estimators=100; total time=   0.3s\n",
      "[CV] END max_depth=None, max_features=8, min_samples_split=2, n_estimators=100; total time=   0.3s\n",
      "[CV] END max_depth=15, max_features=log2, min_samples_split=20, n_estimators=1000; total time=   3.4s\n",
      "[CV] END max_depth=15, max_features=log2, min_samples_split=20, n_estimators=1000; total time=   3.3s\n",
      "[CV] END max_depth=15, max_features=log2, min_samples_split=20, n_estimators=1000; total time=   3.2s\n",
      "[CV] END max_depth=5, max_features=5, min_samples_split=20, n_estimators=200; total time=   0.6s\n",
      "[CV] END max_depth=5, max_features=5, min_samples_split=20, n_estimators=200; total time=   0.6s\n",
      "[CV] END max_depth=5, max_features=5, min_samples_split=20, n_estimators=200; total time=   0.6s\n",
      "[CV] END max_depth=15, max_features=sqrt, min_samples_split=8, n_estimators=200; total time=   0.6s\n",
      "[CV] END max_depth=15, max_features=sqrt, min_samples_split=8, n_estimators=200; total time=   0.6s\n",
      "[CV] END max_depth=15, max_features=sqrt, min_samples_split=8, n_estimators=200; total time=   0.6s\n",
      "[CV] END max_depth=5, max_features=7, min_samples_split=20, n_estimators=500; total time=   1.7s\n",
      "[CV] END max_depth=5, max_features=7, min_samples_split=20, n_estimators=500; total time=   1.7s\n",
      "[CV] END max_depth=5, max_features=7, min_samples_split=20, n_estimators=500; total time=   1.9s\n",
      "[CV] END max_depth=5, max_features=5, min_samples_split=8, n_estimators=500; total time=   1.9s\n",
      "[CV] END max_depth=5, max_features=5, min_samples_split=8, n_estimators=500; total time=   1.8s\n",
      "[CV] END max_depth=5, max_features=5, min_samples_split=8, n_estimators=500; total time=   1.8s\n",
      "[CV] END max_depth=5, max_features=log2, min_samples_split=8, n_estimators=100; total time=   0.2s\n",
      "[CV] END max_depth=5, max_features=log2, min_samples_split=8, n_estimators=100; total time=   0.3s\n",
      "[CV] END max_depth=5, max_features=log2, min_samples_split=8, n_estimators=100; total time=   0.3s\n",
      "[CV] END max_depth=15, max_features=5, min_samples_split=8, n_estimators=1000; total time=   3.9s\n",
      "[CV] END max_depth=15, max_features=5, min_samples_split=8, n_estimators=1000; total time=   3.7s\n",
      "[CV] END max_depth=15, max_features=5, min_samples_split=8, n_estimators=1000; total time=   4.4s\n",
      "[CV] END max_depth=None, max_features=log2, min_samples_split=8, n_estimators=100; total time=   0.5s\n",
      "[CV] END max_depth=None, max_features=log2, min_samples_split=8, n_estimators=100; total time=   0.5s\n",
      "[CV] END max_depth=None, max_features=log2, min_samples_split=8, n_estimators=100; total time=   0.5s\n",
      "[CV] END max_depth=10, max_features=log2, min_samples_split=20, n_estimators=1000; total time=   5.1s\n",
      "[CV] END max_depth=10, max_features=log2, min_samples_split=20, n_estimators=1000; total time=   5.1s\n",
      "[CV] END max_depth=10, max_features=log2, min_samples_split=20, n_estimators=1000; total time=   5.2s\n",
      "[CV] END max_depth=8, max_features=log2, min_samples_split=20, n_estimators=200; total time=   0.9s\n",
      "[CV] END max_depth=8, max_features=log2, min_samples_split=20, n_estimators=200; total time=   0.9s\n",
      "[CV] END max_depth=8, max_features=log2, min_samples_split=20, n_estimators=200; total time=   1.0s\n",
      "[CV] END max_depth=10, max_features=log2, min_samples_split=8, n_estimators=1000; total time=   5.3s\n",
      "[CV] END max_depth=10, max_features=log2, min_samples_split=8, n_estimators=1000; total time=   3.3s\n",
      "[CV] END max_depth=10, max_features=log2, min_samples_split=8, n_estimators=1000; total time=   3.3s\n",
      "[CV] END max_depth=8, max_features=8, min_samples_split=15, n_estimators=100; total time=   0.3s\n",
      "[CV] END max_depth=8, max_features=8, min_samples_split=15, n_estimators=100; total time=   0.3s\n",
      "[CV] END max_depth=8, max_features=8, min_samples_split=15, n_estimators=100; total time=   0.3s\n",
      "[CV] END max_depth=10, max_features=7, min_samples_split=15, n_estimators=500; total time=   1.7s\n",
      "[CV] END max_depth=10, max_features=7, min_samples_split=15, n_estimators=500; total time=   1.7s\n",
      "[CV] END max_depth=10, max_features=7, min_samples_split=15, n_estimators=500; total time=   1.8s\n",
      "[CV] END max_depth=5, max_features=7, min_samples_split=8, n_estimators=500; total time=   1.7s\n",
      "[CV] END max_depth=5, max_features=7, min_samples_split=8, n_estimators=500; total time=   1.8s\n",
      "[CV] END max_depth=5, max_features=7, min_samples_split=8, n_estimators=500; total time=   1.8s\n",
      "[CV] END max_depth=8, max_features=7, min_samples_split=20, n_estimators=500; total time=   1.7s\n",
      "[CV] END max_depth=8, max_features=7, min_samples_split=20, n_estimators=500; total time=   1.8s\n",
      "[CV] END max_depth=8, max_features=7, min_samples_split=20, n_estimators=500; total time=   1.8s\n",
      "[CV] END max_depth=15, max_features=5, min_samples_split=20, n_estimators=200; total time=   0.6s\n",
      "[CV] END max_depth=15, max_features=5, min_samples_split=20, n_estimators=200; total time=   0.6s\n",
      "[CV] END max_depth=15, max_features=5, min_samples_split=20, n_estimators=200; total time=   0.6s\n",
      "[CV] END max_depth=5, max_features=log2, min_samples_split=8, n_estimators=500; total time=   1.6s\n",
      "[CV] END max_depth=5, max_features=log2, min_samples_split=8, n_estimators=500; total time=   1.5s\n",
      "[CV] END max_depth=5, max_features=log2, min_samples_split=8, n_estimators=500; total time=   1.6s\n",
      "[CV] END max_depth=8, max_features=sqrt, min_samples_split=8, n_estimators=1000; total time=   3.4s\n",
      "[CV] END max_depth=8, max_features=sqrt, min_samples_split=8, n_estimators=1000; total time=   3.3s\n",
      "[CV] END max_depth=8, max_features=sqrt, min_samples_split=8, n_estimators=1000; total time=   3.3s\n",
      "[CV] END max_depth=10, max_features=5, min_samples_split=20, n_estimators=200; total time=   0.6s\n",
      "[CV] END max_depth=10, max_features=5, min_samples_split=20, n_estimators=200; total time=   0.6s\n",
      "[CV] END max_depth=10, max_features=5, min_samples_split=20, n_estimators=200; total time=   0.6s\n",
      "[CV] END max_depth=None, max_features=8, min_samples_split=15, n_estimators=1000; total time=   3.7s\n",
      "[CV] END max_depth=None, max_features=8, min_samples_split=15, n_estimators=1000; total time=   3.6s\n",
      "[CV] END max_depth=None, max_features=8, min_samples_split=15, n_estimators=1000; total time=   3.7s\n",
      "[CV] END max_depth=15, max_features=log2, min_samples_split=15, n_estimators=1000; total time=   3.4s\n",
      "[CV] END max_depth=15, max_features=log2, min_samples_split=15, n_estimators=1000; total time=   3.3s\n",
      "[CV] END max_depth=15, max_features=log2, min_samples_split=15, n_estimators=1000; total time=   3.4s\n",
      "[CV] END max_depth=10, max_features=log2, min_samples_split=8, n_estimators=500; total time=   1.7s\n",
      "[CV] END max_depth=10, max_features=log2, min_samples_split=8, n_estimators=500; total time=   1.6s\n",
      "[CV] END max_depth=10, max_features=log2, min_samples_split=8, n_estimators=500; total time=   1.6s\n",
      "[CV] END max_depth=5, max_features=log2, min_samples_split=15, n_estimators=100; total time=   0.2s\n",
      "[CV] END max_depth=5, max_features=log2, min_samples_split=15, n_estimators=100; total time=   0.2s\n",
      "[CV] END max_depth=5, max_features=log2, min_samples_split=15, n_estimators=100; total time=   0.2s\n",
      "[CV] END max_depth=None, max_features=8, min_samples_split=15, n_estimators=200; total time=   0.7s\n",
      "[CV] END max_depth=None, max_features=8, min_samples_split=15, n_estimators=200; total time=   0.7s\n",
      "[CV] END max_depth=None, max_features=8, min_samples_split=15, n_estimators=200; total time=   0.7s\n",
      "[CV] END max_depth=8, max_features=5, min_samples_split=20, n_estimators=500; total time=   1.7s\n",
      "[CV] END max_depth=8, max_features=5, min_samples_split=20, n_estimators=500; total time=   1.7s\n",
      "[CV] END max_depth=8, max_features=5, min_samples_split=20, n_estimators=500; total time=   1.8s\n"
     ]
    },
    {
     "name": "stderr",
     "output_type": "stream",
     "text": [
      "c:\\Users\\DELL\\AppData\\Local\\Programs\\Python\\Python313\\Lib\\site-packages\\sklearn\\model_selection\\_search.py:317: UserWarning: The total space of parameters 75 is smaller than n_iter=100. Running 75 iterations. For exhaustive searches, use GridSearchCV.\n",
      "  warnings.warn(\n"
     ]
    },
    {
     "name": "stdout",
     "output_type": "stream",
     "text": [
      "Fitting 3 folds for each of 75 candidates, totalling 225 fits\n",
      "[CV] END ................C=100, penalty=l1, solver=newton-cg; total time=   0.0s\n",
      "[CV] END ................C=100, penalty=l1, solver=newton-cg; total time=   0.0s\n",
      "[CV] END ................C=100, penalty=l1, solver=newton-cg; total time=   0.0s\n"
     ]
    },
    {
     "name": "stderr",
     "output_type": "stream",
     "text": [
      "c:\\Users\\DELL\\AppData\\Local\\Programs\\Python\\Python313\\Lib\\site-packages\\sklearn\\linear_model\\_sag.py:348: ConvergenceWarning: The max_iter was reached which means the coef_ did not converge\n",
      "  warnings.warn(\n"
     ]
    },
    {
     "name": "stdout",
     "output_type": "stream",
     "text": [
      "[CV] END .....................C=100, penalty=l1, solver=saga; total time=   0.2s\n"
     ]
    },
    {
     "name": "stderr",
     "output_type": "stream",
     "text": [
      "c:\\Users\\DELL\\AppData\\Local\\Programs\\Python\\Python313\\Lib\\site-packages\\sklearn\\linear_model\\_sag.py:348: ConvergenceWarning: The max_iter was reached which means the coef_ did not converge\n",
      "  warnings.warn(\n"
     ]
    },
    {
     "name": "stdout",
     "output_type": "stream",
     "text": [
      "[CV] END .....................C=100, penalty=l1, solver=saga; total time=   0.2s\n"
     ]
    },
    {
     "name": "stderr",
     "output_type": "stream",
     "text": [
      "c:\\Users\\DELL\\AppData\\Local\\Programs\\Python\\Python313\\Lib\\site-packages\\sklearn\\linear_model\\_sag.py:348: ConvergenceWarning: The max_iter was reached which means the coef_ did not converge\n",
      "  warnings.warn(\n"
     ]
    },
    {
     "name": "stdout",
     "output_type": "stream",
     "text": [
      "[CV] END .....................C=100, penalty=l1, solver=saga; total time=   0.2s\n",
      "[CV] END ......................C=100, penalty=l1, solver=sag; total time=   0.0s\n",
      "[CV] END ......................C=100, penalty=l1, solver=sag; total time=   0.0s\n",
      "[CV] END ......................C=100, penalty=l1, solver=sag; total time=   0.0s\n"
     ]
    },
    {
     "name": "stderr",
     "output_type": "stream",
     "text": [
      "c:\\Users\\DELL\\AppData\\Local\\Programs\\Python\\Python313\\Lib\\site-packages\\sklearn\\svm\\_base.py:1250: ConvergenceWarning: Liblinear failed to converge, increase the number of iterations.\n",
      "  warnings.warn(\n"
     ]
    },
    {
     "name": "stdout",
     "output_type": "stream",
     "text": [
      "[CV] END ................C=100, penalty=l1, solver=liblinear; total time=  15.0s\n"
     ]
    },
    {
     "name": "stderr",
     "output_type": "stream",
     "text": [
      "c:\\Users\\DELL\\AppData\\Local\\Programs\\Python\\Python313\\Lib\\site-packages\\sklearn\\svm\\_base.py:1250: ConvergenceWarning: Liblinear failed to converge, increase the number of iterations.\n",
      "  warnings.warn(\n"
     ]
    },
    {
     "name": "stdout",
     "output_type": "stream",
     "text": [
      "[CV] END ................C=100, penalty=l1, solver=liblinear; total time=  13.0s\n"
     ]
    },
    {
     "name": "stderr",
     "output_type": "stream",
     "text": [
      "c:\\Users\\DELL\\AppData\\Local\\Programs\\Python\\Python313\\Lib\\site-packages\\sklearn\\svm\\_base.py:1250: ConvergenceWarning: Liblinear failed to converge, increase the number of iterations.\n",
      "  warnings.warn(\n"
     ]
    },
    {
     "name": "stdout",
     "output_type": "stream",
     "text": [
      "[CV] END ................C=100, penalty=l1, solver=liblinear; total time=  13.8s\n",
      "[CV] END ....................C=100, penalty=l1, solver=lbfgs; total time=   0.0s\n",
      "[CV] END ....................C=100, penalty=l1, solver=lbfgs; total time=   0.0s\n",
      "[CV] END ....................C=100, penalty=l1, solver=lbfgs; total time=   0.0s\n",
      "[CV] END ................C=100, penalty=l2, solver=newton-cg; total time=   0.0s\n",
      "[CV] END ................C=100, penalty=l2, solver=newton-cg; total time=   0.0s\n",
      "[CV] END ................C=100, penalty=l2, solver=newton-cg; total time=   0.0s\n"
     ]
    },
    {
     "name": "stderr",
     "output_type": "stream",
     "text": [
      "c:\\Users\\DELL\\AppData\\Local\\Programs\\Python\\Python313\\Lib\\site-packages\\sklearn\\linear_model\\_sag.py:348: ConvergenceWarning: The max_iter was reached which means the coef_ did not converge\n",
      "  warnings.warn(\n",
      "c:\\Users\\DELL\\AppData\\Local\\Programs\\Python\\Python313\\Lib\\site-packages\\sklearn\\linear_model\\_sag.py:348: ConvergenceWarning: The max_iter was reached which means the coef_ did not converge\n",
      "  warnings.warn(\n"
     ]
    },
    {
     "name": "stdout",
     "output_type": "stream",
     "text": [
      "[CV] END .....................C=100, penalty=l2, solver=saga; total time=   0.1s\n",
      "[CV] END .....................C=100, penalty=l2, solver=saga; total time=   0.1s\n"
     ]
    },
    {
     "name": "stderr",
     "output_type": "stream",
     "text": [
      "c:\\Users\\DELL\\AppData\\Local\\Programs\\Python\\Python313\\Lib\\site-packages\\sklearn\\linear_model\\_sag.py:348: ConvergenceWarning: The max_iter was reached which means the coef_ did not converge\n",
      "  warnings.warn(\n",
      "c:\\Users\\DELL\\AppData\\Local\\Programs\\Python\\Python313\\Lib\\site-packages\\sklearn\\linear_model\\_sag.py:348: ConvergenceWarning: The max_iter was reached which means the coef_ did not converge\n",
      "  warnings.warn(\n"
     ]
    },
    {
     "name": "stdout",
     "output_type": "stream",
     "text": [
      "[CV] END .....................C=100, penalty=l2, solver=saga; total time=   0.1s\n",
      "[CV] END ......................C=100, penalty=l2, solver=sag; total time=   0.1s\n"
     ]
    },
    {
     "name": "stderr",
     "output_type": "stream",
     "text": [
      "c:\\Users\\DELL\\AppData\\Local\\Programs\\Python\\Python313\\Lib\\site-packages\\sklearn\\linear_model\\_sag.py:348: ConvergenceWarning: The max_iter was reached which means the coef_ did not converge\n",
      "  warnings.warn(\n",
      "c:\\Users\\DELL\\AppData\\Local\\Programs\\Python\\Python313\\Lib\\site-packages\\sklearn\\linear_model\\_sag.py:348: ConvergenceWarning: The max_iter was reached which means the coef_ did not converge\n",
      "  warnings.warn(\n"
     ]
    },
    {
     "name": "stdout",
     "output_type": "stream",
     "text": [
      "[CV] END ......................C=100, penalty=l2, solver=sag; total time=   0.1s\n",
      "[CV] END ......................C=100, penalty=l2, solver=sag; total time=   0.1s\n",
      "[CV] END ................C=100, penalty=l2, solver=liblinear; total time=   0.0s\n",
      "[CV] END ................C=100, penalty=l2, solver=liblinear; total time=   0.0s\n",
      "[CV] END ................C=100, penalty=l2, solver=liblinear; total time=   0.0s\n",
      "[CV] END ....................C=100, penalty=l2, solver=lbfgs; total time=   0.0s\n",
      "[CV] END ....................C=100, penalty=l2, solver=lbfgs; total time=   0.0s\n",
      "[CV] END ....................C=100, penalty=l2, solver=lbfgs; total time=   0.0s\n",
      "[CV] END ........C=100, penalty=elasticney, solver=newton-cg; total time=   0.0s\n",
      "[CV] END ........C=100, penalty=elasticney, solver=newton-cg; total time=   0.0s\n",
      "[CV] END ........C=100, penalty=elasticney, solver=newton-cg; total time=   0.0s\n",
      "[CV] END .............C=100, penalty=elasticney, solver=saga; total time=   0.0s\n",
      "[CV] END .............C=100, penalty=elasticney, solver=saga; total time=   0.0s\n",
      "[CV] END .............C=100, penalty=elasticney, solver=saga; total time=   0.0s\n",
      "[CV] END ..............C=100, penalty=elasticney, solver=sag; total time=   0.0s\n",
      "[CV] END ..............C=100, penalty=elasticney, solver=sag; total time=   0.0s\n",
      "[CV] END ..............C=100, penalty=elasticney, solver=sag; total time=   0.0s\n",
      "[CV] END ........C=100, penalty=elasticney, solver=liblinear; total time=   0.0s\n",
      "[CV] END ........C=100, penalty=elasticney, solver=liblinear; total time=   0.0s\n",
      "[CV] END ........C=100, penalty=elasticney, solver=liblinear; total time=   0.0s\n",
      "[CV] END ............C=100, penalty=elasticney, solver=lbfgs; total time=   0.0s\n",
      "[CV] END ............C=100, penalty=elasticney, solver=lbfgs; total time=   0.0s\n",
      "[CV] END ............C=100, penalty=elasticney, solver=lbfgs; total time=   0.0s\n",
      "[CV] END .................C=10, penalty=l1, solver=newton-cg; total time=   0.0s\n",
      "[CV] END .................C=10, penalty=l1, solver=newton-cg; total time=   0.0s\n",
      "[CV] END .................C=10, penalty=l1, solver=newton-cg; total time=   0.0s\n"
     ]
    },
    {
     "name": "stderr",
     "output_type": "stream",
     "text": [
      "c:\\Users\\DELL\\AppData\\Local\\Programs\\Python\\Python313\\Lib\\site-packages\\sklearn\\linear_model\\_sag.py:348: ConvergenceWarning: The max_iter was reached which means the coef_ did not converge\n",
      "  warnings.warn(\n"
     ]
    },
    {
     "name": "stdout",
     "output_type": "stream",
     "text": [
      "[CV] END ......................C=10, penalty=l1, solver=saga; total time=   0.2s\n"
     ]
    },
    {
     "name": "stderr",
     "output_type": "stream",
     "text": [
      "c:\\Users\\DELL\\AppData\\Local\\Programs\\Python\\Python313\\Lib\\site-packages\\sklearn\\linear_model\\_sag.py:348: ConvergenceWarning: The max_iter was reached which means the coef_ did not converge\n",
      "  warnings.warn(\n"
     ]
    },
    {
     "name": "stdout",
     "output_type": "stream",
     "text": [
      "[CV] END ......................C=10, penalty=l1, solver=saga; total time=   0.2s\n"
     ]
    },
    {
     "name": "stderr",
     "output_type": "stream",
     "text": [
      "c:\\Users\\DELL\\AppData\\Local\\Programs\\Python\\Python313\\Lib\\site-packages\\sklearn\\linear_model\\_sag.py:348: ConvergenceWarning: The max_iter was reached which means the coef_ did not converge\n",
      "  warnings.warn(\n"
     ]
    },
    {
     "name": "stdout",
     "output_type": "stream",
     "text": [
      "[CV] END ......................C=10, penalty=l1, solver=saga; total time=   0.2s\n",
      "[CV] END .......................C=10, penalty=l1, solver=sag; total time=   0.0s\n",
      "[CV] END .......................C=10, penalty=l1, solver=sag; total time=   0.0s\n",
      "[CV] END .......................C=10, penalty=l1, solver=sag; total time=   0.0s\n"
     ]
    },
    {
     "name": "stderr",
     "output_type": "stream",
     "text": [
      "c:\\Users\\DELL\\AppData\\Local\\Programs\\Python\\Python313\\Lib\\site-packages\\sklearn\\svm\\_base.py:1250: ConvergenceWarning: Liblinear failed to converge, increase the number of iterations.\n",
      "  warnings.warn(\n"
     ]
    },
    {
     "name": "stdout",
     "output_type": "stream",
     "text": [
      "[CV] END .................C=10, penalty=l1, solver=liblinear; total time=   9.5s\n"
     ]
    },
    {
     "name": "stderr",
     "output_type": "stream",
     "text": [
      "c:\\Users\\DELL\\AppData\\Local\\Programs\\Python\\Python313\\Lib\\site-packages\\sklearn\\svm\\_base.py:1250: ConvergenceWarning: Liblinear failed to converge, increase the number of iterations.\n",
      "  warnings.warn(\n"
     ]
    },
    {
     "name": "stdout",
     "output_type": "stream",
     "text": [
      "[CV] END .................C=10, penalty=l1, solver=liblinear; total time=   9.7s\n"
     ]
    },
    {
     "name": "stderr",
     "output_type": "stream",
     "text": [
      "c:\\Users\\DELL\\AppData\\Local\\Programs\\Python\\Python313\\Lib\\site-packages\\sklearn\\svm\\_base.py:1250: ConvergenceWarning: Liblinear failed to converge, increase the number of iterations.\n",
      "  warnings.warn(\n"
     ]
    },
    {
     "name": "stdout",
     "output_type": "stream",
     "text": [
      "[CV] END .................C=10, penalty=l1, solver=liblinear; total time=   8.5s\n",
      "[CV] END .....................C=10, penalty=l1, solver=lbfgs; total time=   0.0s\n",
      "[CV] END .....................C=10, penalty=l1, solver=lbfgs; total time=   0.0s\n",
      "[CV] END .....................C=10, penalty=l1, solver=lbfgs; total time=   0.0s\n",
      "[CV] END .................C=10, penalty=l2, solver=newton-cg; total time=   0.0s\n",
      "[CV] END .................C=10, penalty=l2, solver=newton-cg; total time=   0.0s\n",
      "[CV] END .................C=10, penalty=l2, solver=newton-cg; total time=   0.0s\n"
     ]
    },
    {
     "name": "stderr",
     "output_type": "stream",
     "text": [
      "c:\\Users\\DELL\\AppData\\Local\\Programs\\Python\\Python313\\Lib\\site-packages\\sklearn\\linear_model\\_sag.py:348: ConvergenceWarning: The max_iter was reached which means the coef_ did not converge\n",
      "  warnings.warn(\n",
      "c:\\Users\\DELL\\AppData\\Local\\Programs\\Python\\Python313\\Lib\\site-packages\\sklearn\\linear_model\\_sag.py:348: ConvergenceWarning: The max_iter was reached which means the coef_ did not converge\n",
      "  warnings.warn(\n"
     ]
    },
    {
     "name": "stdout",
     "output_type": "stream",
     "text": [
      "[CV] END ......................C=10, penalty=l2, solver=saga; total time=   0.1s\n",
      "[CV] END ......................C=10, penalty=l2, solver=saga; total time=   0.1s\n"
     ]
    },
    {
     "name": "stderr",
     "output_type": "stream",
     "text": [
      "c:\\Users\\DELL\\AppData\\Local\\Programs\\Python\\Python313\\Lib\\site-packages\\sklearn\\linear_model\\_sag.py:348: ConvergenceWarning: The max_iter was reached which means the coef_ did not converge\n",
      "  warnings.warn(\n",
      "c:\\Users\\DELL\\AppData\\Local\\Programs\\Python\\Python313\\Lib\\site-packages\\sklearn\\linear_model\\_sag.py:348: ConvergenceWarning: The max_iter was reached which means the coef_ did not converge\n",
      "  warnings.warn(\n"
     ]
    },
    {
     "name": "stdout",
     "output_type": "stream",
     "text": [
      "[CV] END ......................C=10, penalty=l2, solver=saga; total time=   0.1s\n",
      "[CV] END .......................C=10, penalty=l2, solver=sag; total time=   0.1s\n"
     ]
    },
    {
     "name": "stderr",
     "output_type": "stream",
     "text": [
      "c:\\Users\\DELL\\AppData\\Local\\Programs\\Python\\Python313\\Lib\\site-packages\\sklearn\\linear_model\\_sag.py:348: ConvergenceWarning: The max_iter was reached which means the coef_ did not converge\n",
      "  warnings.warn(\n"
     ]
    },
    {
     "name": "stdout",
     "output_type": "stream",
     "text": [
      "[CV] END .......................C=10, penalty=l2, solver=sag; total time=   0.1s\n"
     ]
    },
    {
     "name": "stderr",
     "output_type": "stream",
     "text": [
      "c:\\Users\\DELL\\AppData\\Local\\Programs\\Python\\Python313\\Lib\\site-packages\\sklearn\\linear_model\\_sag.py:348: ConvergenceWarning: The max_iter was reached which means the coef_ did not converge\n",
      "  warnings.warn(\n"
     ]
    },
    {
     "name": "stdout",
     "output_type": "stream",
     "text": [
      "[CV] END .......................C=10, penalty=l2, solver=sag; total time=   0.2s\n",
      "[CV] END .................C=10, penalty=l2, solver=liblinear; total time=   0.0s\n",
      "[CV] END .................C=10, penalty=l2, solver=liblinear; total time=   0.0s\n",
      "[CV] END .................C=10, penalty=l2, solver=liblinear; total time=   0.0s\n",
      "[CV] END .....................C=10, penalty=l2, solver=lbfgs; total time=   0.0s\n",
      "[CV] END .....................C=10, penalty=l2, solver=lbfgs; total time=   0.0s\n",
      "[CV] END .....................C=10, penalty=l2, solver=lbfgs; total time=   0.0s\n",
      "[CV] END .........C=10, penalty=elasticney, solver=newton-cg; total time=   0.0s\n",
      "[CV] END .........C=10, penalty=elasticney, solver=newton-cg; total time=   0.0s\n",
      "[CV] END .........C=10, penalty=elasticney, solver=newton-cg; total time=   0.0s\n",
      "[CV] END ..............C=10, penalty=elasticney, solver=saga; total time=   0.0s\n",
      "[CV] END ..............C=10, penalty=elasticney, solver=saga; total time=   0.0s\n",
      "[CV] END ..............C=10, penalty=elasticney, solver=saga; total time=   0.0s\n",
      "[CV] END ...............C=10, penalty=elasticney, solver=sag; total time=   0.0s\n",
      "[CV] END ...............C=10, penalty=elasticney, solver=sag; total time=   0.0s\n",
      "[CV] END ...............C=10, penalty=elasticney, solver=sag; total time=   0.0s\n",
      "[CV] END .........C=10, penalty=elasticney, solver=liblinear; total time=   0.0s\n",
      "[CV] END .........C=10, penalty=elasticney, solver=liblinear; total time=   0.0s\n",
      "[CV] END .........C=10, penalty=elasticney, solver=liblinear; total time=   0.0s\n",
      "[CV] END .............C=10, penalty=elasticney, solver=lbfgs; total time=   0.0s\n",
      "[CV] END .............C=10, penalty=elasticney, solver=lbfgs; total time=   0.0s\n",
      "[CV] END .............C=10, penalty=elasticney, solver=lbfgs; total time=   0.0s\n",
      "[CV] END ................C=0.1, penalty=l1, solver=newton-cg; total time=   0.0s\n",
      "[CV] END ................C=0.1, penalty=l1, solver=newton-cg; total time=   0.0s\n",
      "[CV] END ................C=0.1, penalty=l1, solver=newton-cg; total time=   0.0s\n"
     ]
    },
    {
     "name": "stderr",
     "output_type": "stream",
     "text": [
      "c:\\Users\\DELL\\AppData\\Local\\Programs\\Python\\Python313\\Lib\\site-packages\\sklearn\\linear_model\\_sag.py:348: ConvergenceWarning: The max_iter was reached which means the coef_ did not converge\n",
      "  warnings.warn(\n"
     ]
    },
    {
     "name": "stdout",
     "output_type": "stream",
     "text": [
      "[CV] END .....................C=0.1, penalty=l1, solver=saga; total time=   0.2s\n"
     ]
    },
    {
     "name": "stderr",
     "output_type": "stream",
     "text": [
      "c:\\Users\\DELL\\AppData\\Local\\Programs\\Python\\Python313\\Lib\\site-packages\\sklearn\\linear_model\\_sag.py:348: ConvergenceWarning: The max_iter was reached which means the coef_ did not converge\n",
      "  warnings.warn(\n"
     ]
    },
    {
     "name": "stdout",
     "output_type": "stream",
     "text": [
      "[CV] END .....................C=0.1, penalty=l1, solver=saga; total time=   0.2s\n"
     ]
    },
    {
     "name": "stderr",
     "output_type": "stream",
     "text": [
      "c:\\Users\\DELL\\AppData\\Local\\Programs\\Python\\Python313\\Lib\\site-packages\\sklearn\\linear_model\\_sag.py:348: ConvergenceWarning: The max_iter was reached which means the coef_ did not converge\n",
      "  warnings.warn(\n"
     ]
    },
    {
     "name": "stdout",
     "output_type": "stream",
     "text": [
      "[CV] END .....................C=0.1, penalty=l1, solver=saga; total time=   0.2s\n",
      "[CV] END ......................C=0.1, penalty=l1, solver=sag; total time=   0.0s\n",
      "[CV] END ......................C=0.1, penalty=l1, solver=sag; total time=   0.0s\n",
      "[CV] END ......................C=0.1, penalty=l1, solver=sag; total time=   0.0s\n",
      "[CV] END ................C=0.1, penalty=l1, solver=liblinear; total time=   0.0s\n",
      "[CV] END ................C=0.1, penalty=l1, solver=liblinear; total time=   0.0s\n",
      "[CV] END ................C=0.1, penalty=l1, solver=liblinear; total time=   0.0s\n",
      "[CV] END ....................C=0.1, penalty=l1, solver=lbfgs; total time=   0.0s\n",
      "[CV] END ....................C=0.1, penalty=l1, solver=lbfgs; total time=   0.0s\n",
      "[CV] END ....................C=0.1, penalty=l1, solver=lbfgs; total time=   0.0s\n",
      "[CV] END ................C=0.1, penalty=l2, solver=newton-cg; total time=   0.0s\n",
      "[CV] END ................C=0.1, penalty=l2, solver=newton-cg; total time=   0.0s\n",
      "[CV] END ................C=0.1, penalty=l2, solver=newton-cg; total time=   0.0s\n"
     ]
    },
    {
     "name": "stderr",
     "output_type": "stream",
     "text": [
      "c:\\Users\\DELL\\AppData\\Local\\Programs\\Python\\Python313\\Lib\\site-packages\\sklearn\\linear_model\\_sag.py:348: ConvergenceWarning: The max_iter was reached which means the coef_ did not converge\n",
      "  warnings.warn(\n"
     ]
    },
    {
     "name": "stdout",
     "output_type": "stream",
     "text": [
      "[CV] END .....................C=0.1, penalty=l2, solver=saga; total time=   0.1s\n"
     ]
    },
    {
     "name": "stderr",
     "output_type": "stream",
     "text": [
      "c:\\Users\\DELL\\AppData\\Local\\Programs\\Python\\Python313\\Lib\\site-packages\\sklearn\\linear_model\\_sag.py:348: ConvergenceWarning: The max_iter was reached which means the coef_ did not converge\n",
      "  warnings.warn(\n"
     ]
    },
    {
     "name": "stdout",
     "output_type": "stream",
     "text": [
      "[CV] END .....................C=0.1, penalty=l2, solver=saga; total time=   0.1s\n"
     ]
    },
    {
     "name": "stderr",
     "output_type": "stream",
     "text": [
      "c:\\Users\\DELL\\AppData\\Local\\Programs\\Python\\Python313\\Lib\\site-packages\\sklearn\\linear_model\\_sag.py:348: ConvergenceWarning: The max_iter was reached which means the coef_ did not converge\n",
      "  warnings.warn(\n"
     ]
    },
    {
     "name": "stdout",
     "output_type": "stream",
     "text": [
      "[CV] END .....................C=0.1, penalty=l2, solver=saga; total time=   0.1s\n"
     ]
    },
    {
     "name": "stderr",
     "output_type": "stream",
     "text": [
      "c:\\Users\\DELL\\AppData\\Local\\Programs\\Python\\Python313\\Lib\\site-packages\\sklearn\\linear_model\\_sag.py:348: ConvergenceWarning: The max_iter was reached which means the coef_ did not converge\n",
      "  warnings.warn(\n"
     ]
    },
    {
     "name": "stdout",
     "output_type": "stream",
     "text": [
      "[CV] END ......................C=0.1, penalty=l2, solver=sag; total time=   0.1s\n",
      "[CV] END ......................C=0.1, penalty=l2, solver=sag; total time=   0.0s\n"
     ]
    },
    {
     "name": "stderr",
     "output_type": "stream",
     "text": [
      "c:\\Users\\DELL\\AppData\\Local\\Programs\\Python\\Python313\\Lib\\site-packages\\sklearn\\linear_model\\_sag.py:348: ConvergenceWarning: The max_iter was reached which means the coef_ did not converge\n",
      "  warnings.warn(\n"
     ]
    },
    {
     "name": "stdout",
     "output_type": "stream",
     "text": [
      "[CV] END ......................C=0.1, penalty=l2, solver=sag; total time=   0.1s\n",
      "[CV] END ................C=0.1, penalty=l2, solver=liblinear; total time=   0.0s\n",
      "[CV] END ................C=0.1, penalty=l2, solver=liblinear; total time=   0.0s\n",
      "[CV] END ................C=0.1, penalty=l2, solver=liblinear; total time=   0.0s\n",
      "[CV] END ....................C=0.1, penalty=l2, solver=lbfgs; total time=   0.0s\n",
      "[CV] END ....................C=0.1, penalty=l2, solver=lbfgs; total time=   0.0s\n",
      "[CV] END ....................C=0.1, penalty=l2, solver=lbfgs; total time=   0.0s\n",
      "[CV] END ........C=0.1, penalty=elasticney, solver=newton-cg; total time=   0.0s\n",
      "[CV] END ........C=0.1, penalty=elasticney, solver=newton-cg; total time=   0.0s\n",
      "[CV] END ........C=0.1, penalty=elasticney, solver=newton-cg; total time=   0.0s\n",
      "[CV] END .............C=0.1, penalty=elasticney, solver=saga; total time=   0.0s\n",
      "[CV] END .............C=0.1, penalty=elasticney, solver=saga; total time=   0.0s\n",
      "[CV] END .............C=0.1, penalty=elasticney, solver=saga; total time=   0.0s\n",
      "[CV] END ..............C=0.1, penalty=elasticney, solver=sag; total time=   0.0s\n",
      "[CV] END ..............C=0.1, penalty=elasticney, solver=sag; total time=   0.0s\n",
      "[CV] END ..............C=0.1, penalty=elasticney, solver=sag; total time=   0.0s\n",
      "[CV] END ........C=0.1, penalty=elasticney, solver=liblinear; total time=   0.0s\n",
      "[CV] END ........C=0.1, penalty=elasticney, solver=liblinear; total time=   0.0s\n",
      "[CV] END ........C=0.1, penalty=elasticney, solver=liblinear; total time=   0.0s\n",
      "[CV] END ............C=0.1, penalty=elasticney, solver=lbfgs; total time=   0.0s\n",
      "[CV] END ............C=0.1, penalty=elasticney, solver=lbfgs; total time=   0.0s\n",
      "[CV] END ............C=0.1, penalty=elasticney, solver=lbfgs; total time=   0.0s\n",
      "[CV] END ...............C=0.01, penalty=l1, solver=newton-cg; total time=   0.0s\n",
      "[CV] END ...............C=0.01, penalty=l1, solver=newton-cg; total time=   0.0s\n",
      "[CV] END ...............C=0.01, penalty=l1, solver=newton-cg; total time=   0.0s\n"
     ]
    },
    {
     "name": "stderr",
     "output_type": "stream",
     "text": [
      "c:\\Users\\DELL\\AppData\\Local\\Programs\\Python\\Python313\\Lib\\site-packages\\sklearn\\linear_model\\_sag.py:348: ConvergenceWarning: The max_iter was reached which means the coef_ did not converge\n",
      "  warnings.warn(\n"
     ]
    },
    {
     "name": "stdout",
     "output_type": "stream",
     "text": [
      "[CV] END ....................C=0.01, penalty=l1, solver=saga; total time=   0.1s\n",
      "[CV] END ....................C=0.01, penalty=l1, solver=saga; total time=   0.0s\n"
     ]
    },
    {
     "name": "stderr",
     "output_type": "stream",
     "text": [
      "c:\\Users\\DELL\\AppData\\Local\\Programs\\Python\\Python313\\Lib\\site-packages\\sklearn\\linear_model\\_sag.py:348: ConvergenceWarning: The max_iter was reached which means the coef_ did not converge\n",
      "  warnings.warn(\n"
     ]
    },
    {
     "name": "stdout",
     "output_type": "stream",
     "text": [
      "[CV] END ....................C=0.01, penalty=l1, solver=saga; total time=   0.1s\n",
      "[CV] END .....................C=0.01, penalty=l1, solver=sag; total time=   0.0s\n",
      "[CV] END .....................C=0.01, penalty=l1, solver=sag; total time=   0.0s\n",
      "[CV] END .....................C=0.01, penalty=l1, solver=sag; total time=   0.0s\n",
      "[CV] END ...............C=0.01, penalty=l1, solver=liblinear; total time=   0.0s\n",
      "[CV] END ...............C=0.01, penalty=l1, solver=liblinear; total time=   0.0s\n",
      "[CV] END ...............C=0.01, penalty=l1, solver=liblinear; total time=   0.0s\n",
      "[CV] END ...................C=0.01, penalty=l1, solver=lbfgs; total time=   0.0s\n",
      "[CV] END ...................C=0.01, penalty=l1, solver=lbfgs; total time=   0.0s\n",
      "[CV] END ...................C=0.01, penalty=l1, solver=lbfgs; total time=   0.0s\n",
      "[CV] END ...............C=0.01, penalty=l2, solver=newton-cg; total time=   0.0s\n",
      "[CV] END ...............C=0.01, penalty=l2, solver=newton-cg; total time=   0.0s\n",
      "[CV] END ...............C=0.01, penalty=l2, solver=newton-cg; total time=   0.0s\n",
      "[CV] END ....................C=0.01, penalty=l2, solver=saga; total time=   0.1s\n",
      "[CV] END ....................C=0.01, penalty=l2, solver=saga; total time=   0.0s\n",
      "[CV] END ....................C=0.01, penalty=l2, solver=saga; total time=   0.1s\n",
      "[CV] END .....................C=0.01, penalty=l2, solver=sag; total time=   0.0s\n",
      "[CV] END .....................C=0.01, penalty=l2, solver=sag; total time=   0.0s\n",
      "[CV] END .....................C=0.01, penalty=l2, solver=sag; total time=   0.0s\n",
      "[CV] END ...............C=0.01, penalty=l2, solver=liblinear; total time=   0.0s\n",
      "[CV] END ...............C=0.01, penalty=l2, solver=liblinear; total time=   0.0s\n",
      "[CV] END ...............C=0.01, penalty=l2, solver=liblinear; total time=   0.0s\n",
      "[CV] END ...................C=0.01, penalty=l2, solver=lbfgs; total time=   0.0s\n",
      "[CV] END ...................C=0.01, penalty=l2, solver=lbfgs; total time=   0.0s\n",
      "[CV] END ...................C=0.01, penalty=l2, solver=lbfgs; total time=   0.0s\n",
      "[CV] END .......C=0.01, penalty=elasticney, solver=newton-cg; total time=   0.0s\n",
      "[CV] END .......C=0.01, penalty=elasticney, solver=newton-cg; total time=   0.0s\n",
      "[CV] END .......C=0.01, penalty=elasticney, solver=newton-cg; total time=   0.0s\n",
      "[CV] END ............C=0.01, penalty=elasticney, solver=saga; total time=   0.0s\n",
      "[CV] END ............C=0.01, penalty=elasticney, solver=saga; total time=   0.0s\n",
      "[CV] END ............C=0.01, penalty=elasticney, solver=saga; total time=   0.0s\n",
      "[CV] END .............C=0.01, penalty=elasticney, solver=sag; total time=   0.0s\n",
      "[CV] END .............C=0.01, penalty=elasticney, solver=sag; total time=   0.0s\n",
      "[CV] END .............C=0.01, penalty=elasticney, solver=sag; total time=   0.0s\n",
      "[CV] END .......C=0.01, penalty=elasticney, solver=liblinear; total time=   0.0s\n",
      "[CV] END .......C=0.01, penalty=elasticney, solver=liblinear; total time=   0.0s\n",
      "[CV] END .......C=0.01, penalty=elasticney, solver=liblinear; total time=   0.0s\n",
      "[CV] END ...........C=0.01, penalty=elasticney, solver=lbfgs; total time=   0.0s\n",
      "[CV] END ...........C=0.01, penalty=elasticney, solver=lbfgs; total time=   0.0s\n",
      "[CV] END ...........C=0.01, penalty=elasticney, solver=lbfgs; total time=   0.0s\n",
      "[CV] END ..................C=1, penalty=l1, solver=newton-cg; total time=   0.0s\n",
      "[CV] END ..................C=1, penalty=l1, solver=newton-cg; total time=   0.0s\n",
      "[CV] END ..................C=1, penalty=l1, solver=newton-cg; total time=   0.0s\n"
     ]
    },
    {
     "name": "stderr",
     "output_type": "stream",
     "text": [
      "c:\\Users\\DELL\\AppData\\Local\\Programs\\Python\\Python313\\Lib\\site-packages\\sklearn\\linear_model\\_sag.py:348: ConvergenceWarning: The max_iter was reached which means the coef_ did not converge\n",
      "  warnings.warn(\n"
     ]
    },
    {
     "name": "stdout",
     "output_type": "stream",
     "text": [
      "[CV] END .......................C=1, penalty=l1, solver=saga; total time=   0.2s\n"
     ]
    },
    {
     "name": "stderr",
     "output_type": "stream",
     "text": [
      "c:\\Users\\DELL\\AppData\\Local\\Programs\\Python\\Python313\\Lib\\site-packages\\sklearn\\linear_model\\_sag.py:348: ConvergenceWarning: The max_iter was reached which means the coef_ did not converge\n",
      "  warnings.warn(\n"
     ]
    },
    {
     "name": "stdout",
     "output_type": "stream",
     "text": [
      "[CV] END .......................C=1, penalty=l1, solver=saga; total time=   0.2s\n"
     ]
    },
    {
     "name": "stderr",
     "output_type": "stream",
     "text": [
      "c:\\Users\\DELL\\AppData\\Local\\Programs\\Python\\Python313\\Lib\\site-packages\\sklearn\\linear_model\\_sag.py:348: ConvergenceWarning: The max_iter was reached which means the coef_ did not converge\n",
      "  warnings.warn(\n"
     ]
    },
    {
     "name": "stdout",
     "output_type": "stream",
     "text": [
      "[CV] END .......................C=1, penalty=l1, solver=saga; total time=   0.2s\n",
      "[CV] END ........................C=1, penalty=l1, solver=sag; total time=   0.0s\n",
      "[CV] END ........................C=1, penalty=l1, solver=sag; total time=   0.0s\n",
      "[CV] END ........................C=1, penalty=l1, solver=sag; total time=   0.0s\n"
     ]
    },
    {
     "name": "stderr",
     "output_type": "stream",
     "text": [
      "c:\\Users\\DELL\\AppData\\Local\\Programs\\Python\\Python313\\Lib\\site-packages\\sklearn\\svm\\_base.py:1250: ConvergenceWarning: Liblinear failed to converge, increase the number of iterations.\n",
      "  warnings.warn(\n"
     ]
    },
    {
     "name": "stdout",
     "output_type": "stream",
     "text": [
      "[CV] END ..................C=1, penalty=l1, solver=liblinear; total time=   5.0s\n"
     ]
    },
    {
     "name": "stderr",
     "output_type": "stream",
     "text": [
      "c:\\Users\\DELL\\AppData\\Local\\Programs\\Python\\Python313\\Lib\\site-packages\\sklearn\\svm\\_base.py:1250: ConvergenceWarning: Liblinear failed to converge, increase the number of iterations.\n",
      "  warnings.warn(\n"
     ]
    },
    {
     "name": "stdout",
     "output_type": "stream",
     "text": [
      "[CV] END ..................C=1, penalty=l1, solver=liblinear; total time=   3.5s\n"
     ]
    },
    {
     "name": "stderr",
     "output_type": "stream",
     "text": [
      "c:\\Users\\DELL\\AppData\\Local\\Programs\\Python\\Python313\\Lib\\site-packages\\sklearn\\svm\\_base.py:1250: ConvergenceWarning: Liblinear failed to converge, increase the number of iterations.\n",
      "  warnings.warn(\n"
     ]
    },
    {
     "name": "stdout",
     "output_type": "stream",
     "text": [
      "[CV] END ..................C=1, penalty=l1, solver=liblinear; total time=   5.6s\n",
      "[CV] END ......................C=1, penalty=l1, solver=lbfgs; total time=   0.0s\n",
      "[CV] END ......................C=1, penalty=l1, solver=lbfgs; total time=   0.0s\n",
      "[CV] END ......................C=1, penalty=l1, solver=lbfgs; total time=   0.0s\n",
      "[CV] END ..................C=1, penalty=l2, solver=newton-cg; total time=   0.0s\n",
      "[CV] END ..................C=1, penalty=l2, solver=newton-cg; total time=   0.0s\n",
      "[CV] END ..................C=1, penalty=l2, solver=newton-cg; total time=   0.0s\n"
     ]
    },
    {
     "name": "stderr",
     "output_type": "stream",
     "text": [
      "c:\\Users\\DELL\\AppData\\Local\\Programs\\Python\\Python313\\Lib\\site-packages\\sklearn\\linear_model\\_sag.py:348: ConvergenceWarning: The max_iter was reached which means the coef_ did not converge\n",
      "  warnings.warn(\n"
     ]
    },
    {
     "name": "stdout",
     "output_type": "stream",
     "text": [
      "[CV] END .......................C=1, penalty=l2, solver=saga; total time=   0.1s\n"
     ]
    },
    {
     "name": "stderr",
     "output_type": "stream",
     "text": [
      "c:\\Users\\DELL\\AppData\\Local\\Programs\\Python\\Python313\\Lib\\site-packages\\sklearn\\linear_model\\_sag.py:348: ConvergenceWarning: The max_iter was reached which means the coef_ did not converge\n",
      "  warnings.warn(\n"
     ]
    },
    {
     "name": "stdout",
     "output_type": "stream",
     "text": [
      "[CV] END .......................C=1, penalty=l2, solver=saga; total time=   0.1s\n"
     ]
    },
    {
     "name": "stderr",
     "output_type": "stream",
     "text": [
      "c:\\Users\\DELL\\AppData\\Local\\Programs\\Python\\Python313\\Lib\\site-packages\\sklearn\\linear_model\\_sag.py:348: ConvergenceWarning: The max_iter was reached which means the coef_ did not converge\n",
      "  warnings.warn(\n",
      "c:\\Users\\DELL\\AppData\\Local\\Programs\\Python\\Python313\\Lib\\site-packages\\sklearn\\linear_model\\_sag.py:348: ConvergenceWarning: The max_iter was reached which means the coef_ did not converge\n",
      "  warnings.warn(\n"
     ]
    },
    {
     "name": "stdout",
     "output_type": "stream",
     "text": [
      "[CV] END .......................C=1, penalty=l2, solver=saga; total time=   0.1s\n",
      "[CV] END ........................C=1, penalty=l2, solver=sag; total time=   0.1s\n"
     ]
    },
    {
     "name": "stderr",
     "output_type": "stream",
     "text": [
      "c:\\Users\\DELL\\AppData\\Local\\Programs\\Python\\Python313\\Lib\\site-packages\\sklearn\\linear_model\\_sag.py:348: ConvergenceWarning: The max_iter was reached which means the coef_ did not converge\n",
      "  warnings.warn(\n",
      "c:\\Users\\DELL\\AppData\\Local\\Programs\\Python\\Python313\\Lib\\site-packages\\sklearn\\linear_model\\_sag.py:348: ConvergenceWarning: The max_iter was reached which means the coef_ did not converge\n",
      "  warnings.warn(\n"
     ]
    },
    {
     "name": "stdout",
     "output_type": "stream",
     "text": [
      "[CV] END ........................C=1, penalty=l2, solver=sag; total time=   0.1s\n",
      "[CV] END ........................C=1, penalty=l2, solver=sag; total time=   0.1s\n",
      "[CV] END ..................C=1, penalty=l2, solver=liblinear; total time=   0.0s\n",
      "[CV] END ..................C=1, penalty=l2, solver=liblinear; total time=   0.0s\n",
      "[CV] END ..................C=1, penalty=l2, solver=liblinear; total time=   0.0s\n",
      "[CV] END ......................C=1, penalty=l2, solver=lbfgs; total time=   0.0s\n",
      "[CV] END ......................C=1, penalty=l2, solver=lbfgs; total time=   0.0s\n",
      "[CV] END ......................C=1, penalty=l2, solver=lbfgs; total time=   0.0s\n",
      "[CV] END ..........C=1, penalty=elasticney, solver=newton-cg; total time=   0.0s\n",
      "[CV] END ..........C=1, penalty=elasticney, solver=newton-cg; total time=   0.0s\n",
      "[CV] END ..........C=1, penalty=elasticney, solver=newton-cg; total time=   0.0s\n",
      "[CV] END ...............C=1, penalty=elasticney, solver=saga; total time=   0.0s\n",
      "[CV] END ...............C=1, penalty=elasticney, solver=saga; total time=   0.0s\n",
      "[CV] END ...............C=1, penalty=elasticney, solver=saga; total time=   0.0s\n",
      "[CV] END ................C=1, penalty=elasticney, solver=sag; total time=   0.0s\n",
      "[CV] END ................C=1, penalty=elasticney, solver=sag; total time=   0.0s\n",
      "[CV] END ................C=1, penalty=elasticney, solver=sag; total time=   0.0s\n",
      "[CV] END ..........C=1, penalty=elasticney, solver=liblinear; total time=   0.0s\n",
      "[CV] END ..........C=1, penalty=elasticney, solver=liblinear; total time=   0.0s\n",
      "[CV] END ..........C=1, penalty=elasticney, solver=liblinear; total time=   0.0s\n",
      "[CV] END ..............C=1, penalty=elasticney, solver=lbfgs; total time=   0.0s\n",
      "[CV] END ..............C=1, penalty=elasticney, solver=lbfgs; total time=   0.0s\n",
      "[CV] END ..............C=1, penalty=elasticney, solver=lbfgs; total time=   0.0s\n"
     ]
    },
    {
     "name": "stderr",
     "output_type": "stream",
     "text": [
      "c:\\Users\\DELL\\AppData\\Local\\Programs\\Python\\Python313\\Lib\\site-packages\\sklearn\\model_selection\\_validation.py:516: FitFailedWarning: \n",
      "120 fits failed out of a total of 225.\n",
      "The score on these train-test partitions for these parameters will be set to nan.\n",
      "If these failures are not expected, you can try to debug them by setting error_score='raise'.\n",
      "\n",
      "Below are more details about the failures:\n",
      "--------------------------------------------------------------------------------\n",
      "15 fits failed with the following error:\n",
      "Traceback (most recent call last):\n",
      "  File \"c:\\Users\\DELL\\AppData\\Local\\Programs\\Python\\Python313\\Lib\\site-packages\\sklearn\\model_selection\\_validation.py\", line 859, in _fit_and_score\n",
      "    estimator.fit(X_train, y_train, **fit_params)\n",
      "    ~~~~~~~~~~~~~^^^^^^^^^^^^^^^^^^^^^^^^^^^^^^^^\n",
      "  File \"c:\\Users\\DELL\\AppData\\Local\\Programs\\Python\\Python313\\Lib\\site-packages\\sklearn\\base.py\", line 1365, in wrapper\n",
      "    return fit_method(estimator, *args, **kwargs)\n",
      "  File \"c:\\Users\\DELL\\AppData\\Local\\Programs\\Python\\Python313\\Lib\\site-packages\\sklearn\\linear_model\\_logistic.py\", line 1218, in fit\n",
      "    solver = _check_solver(self.solver, self.penalty, self.dual)\n",
      "  File \"c:\\Users\\DELL\\AppData\\Local\\Programs\\Python\\Python313\\Lib\\site-packages\\sklearn\\linear_model\\_logistic.py\", line 64, in _check_solver\n",
      "    raise ValueError(\n",
      "    ...<2 lines>...\n",
      "    )\n",
      "ValueError: Solver newton-cg supports only 'l2' or None penalties, got l1 penalty.\n",
      "\n",
      "--------------------------------------------------------------------------------\n",
      "15 fits failed with the following error:\n",
      "Traceback (most recent call last):\n",
      "  File \"c:\\Users\\DELL\\AppData\\Local\\Programs\\Python\\Python313\\Lib\\site-packages\\sklearn\\model_selection\\_validation.py\", line 859, in _fit_and_score\n",
      "    estimator.fit(X_train, y_train, **fit_params)\n",
      "    ~~~~~~~~~~~~~^^^^^^^^^^^^^^^^^^^^^^^^^^^^^^^^\n",
      "  File \"c:\\Users\\DELL\\AppData\\Local\\Programs\\Python\\Python313\\Lib\\site-packages\\sklearn\\base.py\", line 1365, in wrapper\n",
      "    return fit_method(estimator, *args, **kwargs)\n",
      "  File \"c:\\Users\\DELL\\AppData\\Local\\Programs\\Python\\Python313\\Lib\\site-packages\\sklearn\\linear_model\\_logistic.py\", line 1218, in fit\n",
      "    solver = _check_solver(self.solver, self.penalty, self.dual)\n",
      "  File \"c:\\Users\\DELL\\AppData\\Local\\Programs\\Python\\Python313\\Lib\\site-packages\\sklearn\\linear_model\\_logistic.py\", line 64, in _check_solver\n",
      "    raise ValueError(\n",
      "    ...<2 lines>...\n",
      "    )\n",
      "ValueError: Solver sag supports only 'l2' or None penalties, got l1 penalty.\n",
      "\n",
      "--------------------------------------------------------------------------------\n",
      "15 fits failed with the following error:\n",
      "Traceback (most recent call last):\n",
      "  File \"c:\\Users\\DELL\\AppData\\Local\\Programs\\Python\\Python313\\Lib\\site-packages\\sklearn\\model_selection\\_validation.py\", line 859, in _fit_and_score\n",
      "    estimator.fit(X_train, y_train, **fit_params)\n",
      "    ~~~~~~~~~~~~~^^^^^^^^^^^^^^^^^^^^^^^^^^^^^^^^\n",
      "  File \"c:\\Users\\DELL\\AppData\\Local\\Programs\\Python\\Python313\\Lib\\site-packages\\sklearn\\base.py\", line 1365, in wrapper\n",
      "    return fit_method(estimator, *args, **kwargs)\n",
      "  File \"c:\\Users\\DELL\\AppData\\Local\\Programs\\Python\\Python313\\Lib\\site-packages\\sklearn\\linear_model\\_logistic.py\", line 1218, in fit\n",
      "    solver = _check_solver(self.solver, self.penalty, self.dual)\n",
      "  File \"c:\\Users\\DELL\\AppData\\Local\\Programs\\Python\\Python313\\Lib\\site-packages\\sklearn\\linear_model\\_logistic.py\", line 64, in _check_solver\n",
      "    raise ValueError(\n",
      "    ...<2 lines>...\n",
      "    )\n",
      "ValueError: Solver lbfgs supports only 'l2' or None penalties, got l1 penalty.\n",
      "\n",
      "--------------------------------------------------------------------------------\n",
      "75 fits failed with the following error:\n",
      "Traceback (most recent call last):\n",
      "  File \"c:\\Users\\DELL\\AppData\\Local\\Programs\\Python\\Python313\\Lib\\site-packages\\sklearn\\model_selection\\_validation.py\", line 859, in _fit_and_score\n",
      "    estimator.fit(X_train, y_train, **fit_params)\n",
      "    ~~~~~~~~~~~~~^^^^^^^^^^^^^^^^^^^^^^^^^^^^^^^^\n",
      "  File \"c:\\Users\\DELL\\AppData\\Local\\Programs\\Python\\Python313\\Lib\\site-packages\\sklearn\\base.py\", line 1358, in wrapper\n",
      "    estimator._validate_params()\n",
      "    ~~~~~~~~~~~~~~~~~~~~~~~~~~^^\n",
      "  File \"c:\\Users\\DELL\\AppData\\Local\\Programs\\Python\\Python313\\Lib\\site-packages\\sklearn\\base.py\", line 471, in _validate_params\n",
      "    validate_parameter_constraints(\n",
      "    ~~~~~~~~~~~~~~~~~~~~~~~~~~~~~~^\n",
      "        self._parameter_constraints,\n",
      "        ^^^^^^^^^^^^^^^^^^^^^^^^^^^^\n",
      "        self.get_params(deep=False),\n",
      "        ^^^^^^^^^^^^^^^^^^^^^^^^^^^^\n",
      "        caller_name=self.__class__.__name__,\n",
      "        ^^^^^^^^^^^^^^^^^^^^^^^^^^^^^^^^^^^^\n",
      "    )\n",
      "    ^\n",
      "  File \"c:\\Users\\DELL\\AppData\\Local\\Programs\\Python\\Python313\\Lib\\site-packages\\sklearn\\utils\\_param_validation.py\", line 98, in validate_parameter_constraints\n",
      "    raise InvalidParameterError(\n",
      "    ...<2 lines>...\n",
      "    )\n",
      "sklearn.utils._param_validation.InvalidParameterError: The 'penalty' parameter of LogisticRegression must be a str among {'elasticnet', 'l1', 'l2'} or None. Got 'elasticney' instead.\n",
      "\n",
      "  warnings.warn(some_fits_failed_message, FitFailedWarning)\n",
      "c:\\Users\\DELL\\AppData\\Local\\Programs\\Python\\Python313\\Lib\\site-packages\\sklearn\\model_selection\\_search.py:1135: UserWarning: One or more of the test scores are non-finite: [       nan 0.9856123         nan 0.9885991         nan 0.98634079\n",
      " 0.9856123  0.9856123  0.98641364 0.98674147        nan        nan\n",
      "        nan        nan        nan        nan 0.9856123         nan\n",
      " 0.98754283        nan 0.9860494  0.9856123  0.9856123  0.98594013\n",
      " 0.98597656        nan        nan        nan        nan        nan\n",
      "        nan 0.98553945        nan 0.98553945        nan 0.98553945\n",
      " 0.98553945 0.98553945 0.98564872 0.98553945        nan        nan\n",
      "        nan        nan        nan        nan 0.98572157        nan\n",
      " 0.98572157        nan 0.98564872 0.98564872 0.98564872 0.98568515\n",
      " 0.98564872        nan        nan        nan        nan        nan\n",
      "        nan 0.9856123         nan 0.9861951         nan 0.98568514\n",
      " 0.9856123  0.9856123  0.98568514 0.98568514        nan        nan\n",
      "        nan        nan        nan]\n",
      "  warnings.warn(\n",
      "c:\\Users\\DELL\\AppData\\Local\\Programs\\Python\\Python313\\Lib\\site-packages\\sklearn\\svm\\_base.py:1250: ConvergenceWarning: Liblinear failed to converge, increase the number of iterations.\n",
      "  warnings.warn(\n",
      "c:\\Users\\DELL\\AppData\\Local\\Programs\\Python\\Python313\\Lib\\site-packages\\sklearn\\model_selection\\_search.py:317: UserWarning: The total space of parameters 10 is smaller than n_iter=100. Running 10 iterations. For exhaustive searches, use GridSearchCV.\n",
      "  warnings.warn(\n",
      "c:\\Users\\DELL\\AppData\\Local\\Programs\\Python\\Python313\\Lib\\site-packages\\sklearn\\ensemble\\_weight_boosting.py:519: FutureWarning: The parameter 'algorithm' is deprecated in 1.6 and has no effect. It will be removed in version 1.8.\n",
      "  warnings.warn(\n",
      "c:\\Users\\DELL\\AppData\\Local\\Programs\\Python\\Python313\\Lib\\site-packages\\sklearn\\ensemble\\_weight_boosting.py:519: FutureWarning: The parameter 'algorithm' is deprecated in 1.6 and has no effect. It will be removed in version 1.8.\n",
      "  warnings.warn(\n",
      "c:\\Users\\DELL\\AppData\\Local\\Programs\\Python\\Python313\\Lib\\site-packages\\sklearn\\ensemble\\_weight_boosting.py:519: FutureWarning: The parameter 'algorithm' is deprecated in 1.6 and has no effect. It will be removed in version 1.8.\n",
      "  warnings.warn(\n",
      "c:\\Users\\DELL\\AppData\\Local\\Programs\\Python\\Python313\\Lib\\site-packages\\sklearn\\ensemble\\_weight_boosting.py:519: FutureWarning: The parameter 'algorithm' is deprecated in 1.6 and has no effect. It will be removed in version 1.8.\n",
      "  warnings.warn(\n",
      "c:\\Users\\DELL\\AppData\\Local\\Programs\\Python\\Python313\\Lib\\site-packages\\sklearn\\ensemble\\_weight_boosting.py:519: FutureWarning: The parameter 'algorithm' is deprecated in 1.6 and has no effect. It will be removed in version 1.8.\n",
      "  warnings.warn(\n",
      "c:\\Users\\DELL\\AppData\\Local\\Programs\\Python\\Python313\\Lib\\site-packages\\sklearn\\ensemble\\_weight_boosting.py:519: FutureWarning: The parameter 'algorithm' is deprecated in 1.6 and has no effect. It will be removed in version 1.8.\n",
      "  warnings.warn(\n",
      "c:\\Users\\DELL\\AppData\\Local\\Programs\\Python\\Python313\\Lib\\site-packages\\sklearn\\ensemble\\_weight_boosting.py:519: FutureWarning: The parameter 'algorithm' is deprecated in 1.6 and has no effect. It will be removed in version 1.8.\n",
      "  warnings.warn(\n",
      "c:\\Users\\DELL\\AppData\\Local\\Programs\\Python\\Python313\\Lib\\site-packages\\sklearn\\ensemble\\_weight_boosting.py:519: FutureWarning: The parameter 'algorithm' is deprecated in 1.6 and has no effect. It will be removed in version 1.8.\n",
      "  warnings.warn(\n",
      "c:\\Users\\DELL\\AppData\\Local\\Programs\\Python\\Python313\\Lib\\site-packages\\sklearn\\ensemble\\_weight_boosting.py:519: FutureWarning: The parameter 'algorithm' is deprecated in 1.6 and has no effect. It will be removed in version 1.8.\n",
      "  warnings.warn(\n",
      "c:\\Users\\DELL\\AppData\\Local\\Programs\\Python\\Python313\\Lib\\site-packages\\sklearn\\ensemble\\_weight_boosting.py:519: FutureWarning: The parameter 'algorithm' is deprecated in 1.6 and has no effect. It will be removed in version 1.8.\n",
      "  warnings.warn(\n",
      "c:\\Users\\DELL\\AppData\\Local\\Programs\\Python\\Python313\\Lib\\site-packages\\sklearn\\ensemble\\_weight_boosting.py:519: FutureWarning: The parameter 'algorithm' is deprecated in 1.6 and has no effect. It will be removed in version 1.8.\n",
      "  warnings.warn(\n",
      "c:\\Users\\DELL\\AppData\\Local\\Programs\\Python\\Python313\\Lib\\site-packages\\sklearn\\ensemble\\_weight_boosting.py:519: FutureWarning: The parameter 'algorithm' is deprecated in 1.6 and has no effect. It will be removed in version 1.8.\n",
      "  warnings.warn(\n",
      "c:\\Users\\DELL\\AppData\\Local\\Programs\\Python\\Python313\\Lib\\site-packages\\sklearn\\ensemble\\_weight_boosting.py:519: FutureWarning: The parameter 'algorithm' is deprecated in 1.6 and has no effect. It will be removed in version 1.8.\n",
      "  warnings.warn(\n",
      "c:\\Users\\DELL\\AppData\\Local\\Programs\\Python\\Python313\\Lib\\site-packages\\sklearn\\ensemble\\_weight_boosting.py:519: FutureWarning: The parameter 'algorithm' is deprecated in 1.6 and has no effect. It will be removed in version 1.8.\n",
      "  warnings.warn(\n",
      "c:\\Users\\DELL\\AppData\\Local\\Programs\\Python\\Python313\\Lib\\site-packages\\sklearn\\ensemble\\_weight_boosting.py:519: FutureWarning: The parameter 'algorithm' is deprecated in 1.6 and has no effect. It will be removed in version 1.8.\n",
      "  warnings.warn(\n",
      "c:\\Users\\DELL\\AppData\\Local\\Programs\\Python\\Python313\\Lib\\site-packages\\sklearn\\model_selection\\_validation.py:516: FitFailedWarning: \n",
      "15 fits failed out of a total of 30.\n",
      "The score on these train-test partitions for these parameters will be set to nan.\n",
      "If these failures are not expected, you can try to debug them by setting error_score='raise'.\n",
      "\n",
      "Below are more details about the failures:\n",
      "--------------------------------------------------------------------------------\n",
      "15 fits failed with the following error:\n",
      "Traceback (most recent call last):\n",
      "  File \"c:\\Users\\DELL\\AppData\\Local\\Programs\\Python\\Python313\\Lib\\site-packages\\sklearn\\model_selection\\_validation.py\", line 859, in _fit_and_score\n",
      "    estimator.fit(X_train, y_train, **fit_params)\n",
      "    ~~~~~~~~~~~~~^^^^^^^^^^^^^^^^^^^^^^^^^^^^^^^^\n",
      "  File \"c:\\Users\\DELL\\AppData\\Local\\Programs\\Python\\Python313\\Lib\\site-packages\\sklearn\\base.py\", line 1358, in wrapper\n",
      "    estimator._validate_params()\n",
      "    ~~~~~~~~~~~~~~~~~~~~~~~~~~^^\n",
      "  File \"c:\\Users\\DELL\\AppData\\Local\\Programs\\Python\\Python313\\Lib\\site-packages\\sklearn\\base.py\", line 471, in _validate_params\n",
      "    validate_parameter_constraints(\n",
      "    ~~~~~~~~~~~~~~~~~~~~~~~~~~~~~~^\n",
      "        self._parameter_constraints,\n",
      "        ^^^^^^^^^^^^^^^^^^^^^^^^^^^^\n",
      "        self.get_params(deep=False),\n",
      "        ^^^^^^^^^^^^^^^^^^^^^^^^^^^^\n",
      "        caller_name=self.__class__.__name__,\n",
      "        ^^^^^^^^^^^^^^^^^^^^^^^^^^^^^^^^^^^^\n",
      "    )\n",
      "    ^\n",
      "  File \"c:\\Users\\DELL\\AppData\\Local\\Programs\\Python\\Python313\\Lib\\site-packages\\sklearn\\utils\\_param_validation.py\", line 98, in validate_parameter_constraints\n",
      "    raise InvalidParameterError(\n",
      "    ...<2 lines>...\n",
      "    )\n",
      "sklearn.utils._param_validation.InvalidParameterError: The 'algorithm' parameter of AdaBoostClassifier must be a str among {'SAMME'}. Got 'SAMME.R' instead.\n",
      "\n",
      "  warnings.warn(some_fits_failed_message, FitFailedWarning)\n",
      "c:\\Users\\DELL\\AppData\\Local\\Programs\\Python\\Python313\\Lib\\site-packages\\sklearn\\model_selection\\_search.py:1135: UserWarning: One or more of the test scores are non-finite: [ 1.  1.  1.  1.  1. nan nan nan nan nan]\n",
      "  warnings.warn(\n",
      "c:\\Users\\DELL\\AppData\\Local\\Programs\\Python\\Python313\\Lib\\site-packages\\sklearn\\ensemble\\_weight_boosting.py:519: FutureWarning: The parameter 'algorithm' is deprecated in 1.6 and has no effect. It will be removed in version 1.8.\n",
      "  warnings.warn(\n",
      "c:\\Users\\DELL\\AppData\\Local\\Programs\\Python\\Python313\\Lib\\site-packages\\sklearn\\model_selection\\_search.py:317: UserWarning: The total space of parameters 90 is smaller than n_iter=100. Running 90 iterations. For exhaustive searches, use GridSearchCV.\n",
      "  warnings.warn(\n"
     ]
    },
    {
     "name": "stdout",
     "output_type": "stream",
     "text": [
      "Fitting 3 folds for each of 10 candidates, totalling 30 fits\n",
      "[CV] END ...................algorithm=SAMME, n_estimators=50; total time=   0.0s\n",
      "[CV] END ...................algorithm=SAMME, n_estimators=50; total time=   0.0s\n",
      "[CV] END ...................algorithm=SAMME, n_estimators=50; total time=   0.0s\n",
      "[CV] END ...................algorithm=SAMME, n_estimators=60; total time=   0.0s\n",
      "[CV] END ...................algorithm=SAMME, n_estimators=60; total time=   0.0s\n",
      "[CV] END ...................algorithm=SAMME, n_estimators=60; total time=   0.0s\n",
      "[CV] END ...................algorithm=SAMME, n_estimators=70; total time=   0.0s\n",
      "[CV] END ...................algorithm=SAMME, n_estimators=70; total time=   0.0s\n",
      "[CV] END ...................algorithm=SAMME, n_estimators=70; total time=   0.0s\n",
      "[CV] END ...................algorithm=SAMME, n_estimators=80; total time=   0.0s\n",
      "[CV] END ...................algorithm=SAMME, n_estimators=80; total time=   0.0s\n",
      "[CV] END ...................algorithm=SAMME, n_estimators=80; total time=   0.0s\n",
      "[CV] END ...................algorithm=SAMME, n_estimators=90; total time=   0.0s\n",
      "[CV] END ...................algorithm=SAMME, n_estimators=90; total time=   0.0s\n",
      "[CV] END ...................algorithm=SAMME, n_estimators=90; total time=   0.0s\n",
      "[CV] END .................algorithm=SAMME.R, n_estimators=50; total time=   0.0s\n",
      "[CV] END .................algorithm=SAMME.R, n_estimators=50; total time=   0.0s\n",
      "[CV] END .................algorithm=SAMME.R, n_estimators=50; total time=   0.0s\n",
      "[CV] END .................algorithm=SAMME.R, n_estimators=60; total time=   0.0s\n",
      "[CV] END .................algorithm=SAMME.R, n_estimators=60; total time=   0.0s\n",
      "[CV] END .................algorithm=SAMME.R, n_estimators=60; total time=   0.0s\n",
      "[CV] END .................algorithm=SAMME.R, n_estimators=70; total time=   0.0s\n",
      "[CV] END .................algorithm=SAMME.R, n_estimators=70; total time=   0.0s\n",
      "[CV] END .................algorithm=SAMME.R, n_estimators=70; total time=   0.0s\n",
      "[CV] END .................algorithm=SAMME.R, n_estimators=80; total time=   0.0s\n",
      "[CV] END .................algorithm=SAMME.R, n_estimators=80; total time=   0.0s\n",
      "[CV] END .................algorithm=SAMME.R, n_estimators=80; total time=   0.0s\n",
      "[CV] END .................algorithm=SAMME.R, n_estimators=90; total time=   0.0s\n",
      "[CV] END .................algorithm=SAMME.R, n_estimators=90; total time=   0.0s\n",
      "[CV] END .................algorithm=SAMME.R, n_estimators=90; total time=   0.0s\n",
      "Fitting 3 folds for each of 90 candidates, totalling 270 fits\n",
      "[CV] END criterion=gini, max_depth=1, max_features=sqrt, splitter=best; total time=   0.0s\n",
      "[CV] END criterion=gini, max_depth=1, max_features=sqrt, splitter=best; total time=   0.0s\n",
      "[CV] END criterion=gini, max_depth=1, max_features=sqrt, splitter=best; total time=   0.0s\n",
      "[CV] END criterion=gini, max_depth=1, max_features=sqrt, splitter=random; total time=   0.0s\n",
      "[CV] END criterion=gini, max_depth=1, max_features=sqrt, splitter=random; total time=   0.0s\n",
      "[CV] END criterion=gini, max_depth=1, max_features=sqrt, splitter=random; total time=   0.0s\n",
      "[CV] END criterion=gini, max_depth=1, max_features=log2, splitter=best; total time=   0.0s\n",
      "[CV] END criterion=gini, max_depth=1, max_features=log2, splitter=best; total time=   0.0s\n",
      "[CV] END criterion=gini, max_depth=1, max_features=log2, splitter=best; total time=   0.0s\n",
      "[CV] END criterion=gini, max_depth=1, max_features=log2, splitter=random; total time=   0.0s\n",
      "[CV] END criterion=gini, max_depth=1, max_features=log2, splitter=random; total time=   0.0s\n",
      "[CV] END criterion=gini, max_depth=1, max_features=log2, splitter=random; total time=   0.0s\n",
      "[CV] END criterion=gini, max_depth=1, max_features=auto, splitter=best; total time=   0.0s\n",
      "[CV] END criterion=gini, max_depth=1, max_features=auto, splitter=best; total time=   0.0s\n",
      "[CV] END criterion=gini, max_depth=1, max_features=auto, splitter=best; total time=   0.0s\n",
      "[CV] END criterion=gini, max_depth=1, max_features=auto, splitter=random; total time=   0.0s\n",
      "[CV] END criterion=gini, max_depth=1, max_features=auto, splitter=random; total time=   0.0s\n",
      "[CV] END criterion=gini, max_depth=1, max_features=auto, splitter=random; total time=   0.0s\n",
      "[CV] END criterion=gini, max_depth=2, max_features=sqrt, splitter=best; total time=   0.0s\n",
      "[CV] END criterion=gini, max_depth=2, max_features=sqrt, splitter=best; total time=   0.0s\n",
      "[CV] END criterion=gini, max_depth=2, max_features=sqrt, splitter=best; total time=   0.0s\n",
      "[CV] END criterion=gini, max_depth=2, max_features=sqrt, splitter=random; total time=   0.0s\n",
      "[CV] END criterion=gini, max_depth=2, max_features=sqrt, splitter=random; total time=   0.0s\n",
      "[CV] END criterion=gini, max_depth=2, max_features=sqrt, splitter=random; total time=   0.0s\n",
      "[CV] END criterion=gini, max_depth=2, max_features=log2, splitter=best; total time=   0.0s\n",
      "[CV] END criterion=gini, max_depth=2, max_features=log2, splitter=best; total time=   0.0s\n",
      "[CV] END criterion=gini, max_depth=2, max_features=log2, splitter=best; total time=   0.0s\n",
      "[CV] END criterion=gini, max_depth=2, max_features=log2, splitter=random; total time=   0.0s\n",
      "[CV] END criterion=gini, max_depth=2, max_features=log2, splitter=random; total time=   0.0s\n",
      "[CV] END criterion=gini, max_depth=2, max_features=log2, splitter=random; total time=   0.0s\n",
      "[CV] END criterion=gini, max_depth=2, max_features=auto, splitter=best; total time=   0.0s\n",
      "[CV] END criterion=gini, max_depth=2, max_features=auto, splitter=best; total time=   0.0s\n",
      "[CV] END criterion=gini, max_depth=2, max_features=auto, splitter=best; total time=   0.0s\n",
      "[CV] END criterion=gini, max_depth=2, max_features=auto, splitter=random; total time=   0.0s\n",
      "[CV] END criterion=gini, max_depth=2, max_features=auto, splitter=random; total time=   0.0s\n",
      "[CV] END criterion=gini, max_depth=2, max_features=auto, splitter=random; total time=   0.0s\n",
      "[CV] END criterion=gini, max_depth=3, max_features=sqrt, splitter=best; total time=   0.0s\n",
      "[CV] END criterion=gini, max_depth=3, max_features=sqrt, splitter=best; total time=   0.0s\n",
      "[CV] END criterion=gini, max_depth=3, max_features=sqrt, splitter=best; total time=   0.0s\n",
      "[CV] END criterion=gini, max_depth=3, max_features=sqrt, splitter=random; total time=   0.0s\n",
      "[CV] END criterion=gini, max_depth=3, max_features=sqrt, splitter=random; total time=   0.0s\n",
      "[CV] END criterion=gini, max_depth=3, max_features=sqrt, splitter=random; total time=   0.0s\n",
      "[CV] END criterion=gini, max_depth=3, max_features=log2, splitter=best; total time=   0.0s\n",
      "[CV] END criterion=gini, max_depth=3, max_features=log2, splitter=best; total time=   0.0s\n",
      "[CV] END criterion=gini, max_depth=3, max_features=log2, splitter=best; total time=   0.0s\n",
      "[CV] END criterion=gini, max_depth=3, max_features=log2, splitter=random; total time=   0.0s\n",
      "[CV] END criterion=gini, max_depth=3, max_features=log2, splitter=random; total time=   0.0s\n",
      "[CV] END criterion=gini, max_depth=3, max_features=log2, splitter=random; total time=   0.0s\n",
      "[CV] END criterion=gini, max_depth=3, max_features=auto, splitter=best; total time=   0.0s\n",
      "[CV] END criterion=gini, max_depth=3, max_features=auto, splitter=best; total time=   0.0s\n",
      "[CV] END criterion=gini, max_depth=3, max_features=auto, splitter=best; total time=   0.0s\n",
      "[CV] END criterion=gini, max_depth=3, max_features=auto, splitter=random; total time=   0.0s\n",
      "[CV] END criterion=gini, max_depth=3, max_features=auto, splitter=random; total time=   0.0s\n",
      "[CV] END criterion=gini, max_depth=3, max_features=auto, splitter=random; total time=   0.0s\n",
      "[CV] END criterion=gini, max_depth=4, max_features=sqrt, splitter=best; total time=   0.0s\n",
      "[CV] END criterion=gini, max_depth=4, max_features=sqrt, splitter=best; total time=   0.0s\n",
      "[CV] END criterion=gini, max_depth=4, max_features=sqrt, splitter=best; total time=   0.0s\n",
      "[CV] END criterion=gini, max_depth=4, max_features=sqrt, splitter=random; total time=   0.0s\n",
      "[CV] END criterion=gini, max_depth=4, max_features=sqrt, splitter=random; total time=   0.0s\n",
      "[CV] END criterion=gini, max_depth=4, max_features=sqrt, splitter=random; total time=   0.0s\n",
      "[CV] END criterion=gini, max_depth=4, max_features=log2, splitter=best; total time=   0.0s\n",
      "[CV] END criterion=gini, max_depth=4, max_features=log2, splitter=best; total time=   0.0s\n",
      "[CV] END criterion=gini, max_depth=4, max_features=log2, splitter=best; total time=   0.0s\n",
      "[CV] END criterion=gini, max_depth=4, max_features=log2, splitter=random; total time=   0.0s\n",
      "[CV] END criterion=gini, max_depth=4, max_features=log2, splitter=random; total time=   0.0s\n",
      "[CV] END criterion=gini, max_depth=4, max_features=log2, splitter=random; total time=   0.0s\n",
      "[CV] END criterion=gini, max_depth=4, max_features=auto, splitter=best; total time=   0.0s\n",
      "[CV] END criterion=gini, max_depth=4, max_features=auto, splitter=best; total time=   0.0s\n",
      "[CV] END criterion=gini, max_depth=4, max_features=auto, splitter=best; total time=   0.0s\n",
      "[CV] END criterion=gini, max_depth=4, max_features=auto, splitter=random; total time=   0.0s\n",
      "[CV] END criterion=gini, max_depth=4, max_features=auto, splitter=random; total time=   0.0s\n",
      "[CV] END criterion=gini, max_depth=4, max_features=auto, splitter=random; total time=   0.0s\n",
      "[CV] END criterion=gini, max_depth=5, max_features=sqrt, splitter=best; total time=   0.0s\n",
      "[CV] END criterion=gini, max_depth=5, max_features=sqrt, splitter=best; total time=   0.0s\n",
      "[CV] END criterion=gini, max_depth=5, max_features=sqrt, splitter=best; total time=   0.0s\n",
      "[CV] END criterion=gini, max_depth=5, max_features=sqrt, splitter=random; total time=   0.0s\n",
      "[CV] END criterion=gini, max_depth=5, max_features=sqrt, splitter=random; total time=   0.0s\n",
      "[CV] END criterion=gini, max_depth=5, max_features=sqrt, splitter=random; total time=   0.0s\n",
      "[CV] END criterion=gini, max_depth=5, max_features=log2, splitter=best; total time=   0.0s\n",
      "[CV] END criterion=gini, max_depth=5, max_features=log2, splitter=best; total time=   0.0s\n",
      "[CV] END criterion=gini, max_depth=5, max_features=log2, splitter=best; total time=   0.0s\n",
      "[CV] END criterion=gini, max_depth=5, max_features=log2, splitter=random; total time=   0.0s\n",
      "[CV] END criterion=gini, max_depth=5, max_features=log2, splitter=random; total time=   0.0s\n",
      "[CV] END criterion=gini, max_depth=5, max_features=log2, splitter=random; total time=   0.0s\n",
      "[CV] END criterion=gini, max_depth=5, max_features=auto, splitter=best; total time=   0.0s\n",
      "[CV] END criterion=gini, max_depth=5, max_features=auto, splitter=best; total time=   0.0s\n",
      "[CV] END criterion=gini, max_depth=5, max_features=auto, splitter=best; total time=   0.0s\n",
      "[CV] END criterion=gini, max_depth=5, max_features=auto, splitter=random; total time=   0.0s\n",
      "[CV] END criterion=gini, max_depth=5, max_features=auto, splitter=random; total time=   0.0s\n",
      "[CV] END criterion=gini, max_depth=5, max_features=auto, splitter=random; total time=   0.0s\n",
      "[CV] END criterion=entropy, max_depth=1, max_features=sqrt, splitter=best; total time=   0.0s\n",
      "[CV] END criterion=entropy, max_depth=1, max_features=sqrt, splitter=best; total time=   0.0s\n",
      "[CV] END criterion=entropy, max_depth=1, max_features=sqrt, splitter=best; total time=   0.0s\n",
      "[CV] END criterion=entropy, max_depth=1, max_features=sqrt, splitter=random; total time=   0.0s\n",
      "[CV] END criterion=entropy, max_depth=1, max_features=sqrt, splitter=random; total time=   0.0s\n",
      "[CV] END criterion=entropy, max_depth=1, max_features=sqrt, splitter=random; total time=   0.0s\n",
      "[CV] END criterion=entropy, max_depth=1, max_features=log2, splitter=best; total time=   0.0s\n",
      "[CV] END criterion=entropy, max_depth=1, max_features=log2, splitter=best; total time=   0.0s\n",
      "[CV] END criterion=entropy, max_depth=1, max_features=log2, splitter=best; total time=   0.0s\n",
      "[CV] END criterion=entropy, max_depth=1, max_features=log2, splitter=random; total time=   0.0s\n",
      "[CV] END criterion=entropy, max_depth=1, max_features=log2, splitter=random; total time=   0.0s\n",
      "[CV] END criterion=entropy, max_depth=1, max_features=log2, splitter=random; total time=   0.0s\n",
      "[CV] END criterion=entropy, max_depth=1, max_features=auto, splitter=best; total time=   0.0s\n",
      "[CV] END criterion=entropy, max_depth=1, max_features=auto, splitter=best; total time=   0.0s\n",
      "[CV] END criterion=entropy, max_depth=1, max_features=auto, splitter=best; total time=   0.0s\n",
      "[CV] END criterion=entropy, max_depth=1, max_features=auto, splitter=random; total time=   0.0s\n",
      "[CV] END criterion=entropy, max_depth=1, max_features=auto, splitter=random; total time=   0.0s\n",
      "[CV] END criterion=entropy, max_depth=1, max_features=auto, splitter=random; total time=   0.0s\n",
      "[CV] END criterion=entropy, max_depth=2, max_features=sqrt, splitter=best; total time=   0.0s\n",
      "[CV] END criterion=entropy, max_depth=2, max_features=sqrt, splitter=best; total time=   0.0s\n",
      "[CV] END criterion=entropy, max_depth=2, max_features=sqrt, splitter=best; total time=   0.0s\n",
      "[CV] END criterion=entropy, max_depth=2, max_features=sqrt, splitter=random; total time=   0.0s\n",
      "[CV] END criterion=entropy, max_depth=2, max_features=sqrt, splitter=random; total time=   0.0s\n",
      "[CV] END criterion=entropy, max_depth=2, max_features=sqrt, splitter=random; total time=   0.0s\n",
      "[CV] END criterion=entropy, max_depth=2, max_features=log2, splitter=best; total time=   0.0s\n",
      "[CV] END criterion=entropy, max_depth=2, max_features=log2, splitter=best; total time=   0.0s\n",
      "[CV] END criterion=entropy, max_depth=2, max_features=log2, splitter=best; total time=   0.0s\n",
      "[CV] END criterion=entropy, max_depth=2, max_features=log2, splitter=random; total time=   0.0s\n",
      "[CV] END criterion=entropy, max_depth=2, max_features=log2, splitter=random; total time=   0.0s\n",
      "[CV] END criterion=entropy, max_depth=2, max_features=log2, splitter=random; total time=   0.0s\n",
      "[CV] END criterion=entropy, max_depth=2, max_features=auto, splitter=best; total time=   0.0s\n",
      "[CV] END criterion=entropy, max_depth=2, max_features=auto, splitter=best; total time=   0.0s\n",
      "[CV] END criterion=entropy, max_depth=2, max_features=auto, splitter=best; total time=   0.0s\n",
      "[CV] END criterion=entropy, max_depth=2, max_features=auto, splitter=random; total time=   0.0s\n",
      "[CV] END criterion=entropy, max_depth=2, max_features=auto, splitter=random; total time=   0.0s\n",
      "[CV] END criterion=entropy, max_depth=2, max_features=auto, splitter=random; total time=   0.0s\n",
      "[CV] END criterion=entropy, max_depth=3, max_features=sqrt, splitter=best; total time=   0.0s\n",
      "[CV] END criterion=entropy, max_depth=3, max_features=sqrt, splitter=best; total time=   0.0s\n",
      "[CV] END criterion=entropy, max_depth=3, max_features=sqrt, splitter=best; total time=   0.0s\n",
      "[CV] END criterion=entropy, max_depth=3, max_features=sqrt, splitter=random; total time=   0.0s\n",
      "[CV] END criterion=entropy, max_depth=3, max_features=sqrt, splitter=random; total time=   0.0s\n",
      "[CV] END criterion=entropy, max_depth=3, max_features=sqrt, splitter=random; total time=   0.0s\n",
      "[CV] END criterion=entropy, max_depth=3, max_features=log2, splitter=best; total time=   0.0s\n",
      "[CV] END criterion=entropy, max_depth=3, max_features=log2, splitter=best; total time=   0.0s\n",
      "[CV] END criterion=entropy, max_depth=3, max_features=log2, splitter=best; total time=   0.0s\n",
      "[CV] END criterion=entropy, max_depth=3, max_features=log2, splitter=random; total time=   0.0s\n",
      "[CV] END criterion=entropy, max_depth=3, max_features=log2, splitter=random; total time=   0.0s\n",
      "[CV] END criterion=entropy, max_depth=3, max_features=log2, splitter=random; total time=   0.0s\n",
      "[CV] END criterion=entropy, max_depth=3, max_features=auto, splitter=best; total time=   0.0s\n",
      "[CV] END criterion=entropy, max_depth=3, max_features=auto, splitter=best; total time=   0.0s\n",
      "[CV] END criterion=entropy, max_depth=3, max_features=auto, splitter=best; total time=   0.0s\n",
      "[CV] END criterion=entropy, max_depth=3, max_features=auto, splitter=random; total time=   0.0s\n",
      "[CV] END criterion=entropy, max_depth=3, max_features=auto, splitter=random; total time=   0.0s\n",
      "[CV] END criterion=entropy, max_depth=3, max_features=auto, splitter=random; total time=   0.0s\n",
      "[CV] END criterion=entropy, max_depth=4, max_features=sqrt, splitter=best; total time=   0.0s\n",
      "[CV] END criterion=entropy, max_depth=4, max_features=sqrt, splitter=best; total time=   0.0s\n",
      "[CV] END criterion=entropy, max_depth=4, max_features=sqrt, splitter=best; total time=   0.0s\n",
      "[CV] END criterion=entropy, max_depth=4, max_features=sqrt, splitter=random; total time=   0.0s\n",
      "[CV] END criterion=entropy, max_depth=4, max_features=sqrt, splitter=random; total time=   0.0s\n",
      "[CV] END criterion=entropy, max_depth=4, max_features=sqrt, splitter=random; total time=   0.0s\n",
      "[CV] END criterion=entropy, max_depth=4, max_features=log2, splitter=best; total time=   0.0s\n",
      "[CV] END criterion=entropy, max_depth=4, max_features=log2, splitter=best; total time=   0.0s\n",
      "[CV] END criterion=entropy, max_depth=4, max_features=log2, splitter=best; total time=   0.0s\n",
      "[CV] END criterion=entropy, max_depth=4, max_features=log2, splitter=random; total time=   0.0s\n",
      "[CV] END criterion=entropy, max_depth=4, max_features=log2, splitter=random; total time=   0.0s\n",
      "[CV] END criterion=entropy, max_depth=4, max_features=log2, splitter=random; total time=   0.0s\n",
      "[CV] END criterion=entropy, max_depth=4, max_features=auto, splitter=best; total time=   0.0s\n",
      "[CV] END criterion=entropy, max_depth=4, max_features=auto, splitter=best; total time=   0.0s\n",
      "[CV] END criterion=entropy, max_depth=4, max_features=auto, splitter=best; total time=   0.0s\n",
      "[CV] END criterion=entropy, max_depth=4, max_features=auto, splitter=random; total time=   0.0s\n",
      "[CV] END criterion=entropy, max_depth=4, max_features=auto, splitter=random; total time=   0.0s\n",
      "[CV] END criterion=entropy, max_depth=4, max_features=auto, splitter=random; total time=   0.0s\n",
      "[CV] END criterion=entropy, max_depth=5, max_features=sqrt, splitter=best; total time=   0.0s\n",
      "[CV] END criterion=entropy, max_depth=5, max_features=sqrt, splitter=best; total time=   0.0s\n",
      "[CV] END criterion=entropy, max_depth=5, max_features=sqrt, splitter=best; total time=   0.0s\n",
      "[CV] END criterion=entropy, max_depth=5, max_features=sqrt, splitter=random; total time=   0.0s\n",
      "[CV] END criterion=entropy, max_depth=5, max_features=sqrt, splitter=random; total time=   0.0s\n",
      "[CV] END criterion=entropy, max_depth=5, max_features=sqrt, splitter=random; total time=   0.0s\n",
      "[CV] END criterion=entropy, max_depth=5, max_features=log2, splitter=best; total time=   0.0s\n",
      "[CV] END criterion=entropy, max_depth=5, max_features=log2, splitter=best; total time=   0.0s\n",
      "[CV] END criterion=entropy, max_depth=5, max_features=log2, splitter=best; total time=   0.0s\n",
      "[CV] END criterion=entropy, max_depth=5, max_features=log2, splitter=random; total time=   0.0s\n",
      "[CV] END criterion=entropy, max_depth=5, max_features=log2, splitter=random; total time=   0.0s\n",
      "[CV] END criterion=entropy, max_depth=5, max_features=log2, splitter=random; total time=   0.0s\n",
      "[CV] END criterion=entropy, max_depth=5, max_features=auto, splitter=best; total time=   0.0s\n",
      "[CV] END criterion=entropy, max_depth=5, max_features=auto, splitter=best; total time=   0.0s\n",
      "[CV] END criterion=entropy, max_depth=5, max_features=auto, splitter=best; total time=   0.0s\n",
      "[CV] END criterion=entropy, max_depth=5, max_features=auto, splitter=random; total time=   0.0s\n",
      "[CV] END criterion=entropy, max_depth=5, max_features=auto, splitter=random; total time=   0.0s\n",
      "[CV] END criterion=entropy, max_depth=5, max_features=auto, splitter=random; total time=   0.0s\n",
      "[CV] END criterion=log_loss, max_depth=1, max_features=sqrt, splitter=best; total time=   0.0s\n",
      "[CV] END criterion=log_loss, max_depth=1, max_features=sqrt, splitter=best; total time=   0.0s\n",
      "[CV] END criterion=log_loss, max_depth=1, max_features=sqrt, splitter=best; total time=   0.0s\n",
      "[CV] END criterion=log_loss, max_depth=1, max_features=sqrt, splitter=random; total time=   0.0s\n",
      "[CV] END criterion=log_loss, max_depth=1, max_features=sqrt, splitter=random; total time=   0.0s\n",
      "[CV] END criterion=log_loss, max_depth=1, max_features=sqrt, splitter=random; total time=   0.0s\n",
      "[CV] END criterion=log_loss, max_depth=1, max_features=log2, splitter=best; total time=   0.0s\n",
      "[CV] END criterion=log_loss, max_depth=1, max_features=log2, splitter=best; total time=   0.0s\n",
      "[CV] END criterion=log_loss, max_depth=1, max_features=log2, splitter=best; total time=   0.0s\n",
      "[CV] END criterion=log_loss, max_depth=1, max_features=log2, splitter=random; total time=   0.0s\n",
      "[CV] END criterion=log_loss, max_depth=1, max_features=log2, splitter=random; total time=   0.0s\n",
      "[CV] END criterion=log_loss, max_depth=1, max_features=log2, splitter=random; total time=   0.0s\n",
      "[CV] END criterion=log_loss, max_depth=1, max_features=auto, splitter=best; total time=   0.0s\n",
      "[CV] END criterion=log_loss, max_depth=1, max_features=auto, splitter=best; total time=   0.0s\n",
      "[CV] END criterion=log_loss, max_depth=1, max_features=auto, splitter=best; total time=   0.0s\n",
      "[CV] END criterion=log_loss, max_depth=1, max_features=auto, splitter=random; total time=   0.0s\n",
      "[CV] END criterion=log_loss, max_depth=1, max_features=auto, splitter=random; total time=   0.0s\n",
      "[CV] END criterion=log_loss, max_depth=1, max_features=auto, splitter=random; total time=   0.0s\n",
      "[CV] END criterion=log_loss, max_depth=2, max_features=sqrt, splitter=best; total time=   0.0s\n",
      "[CV] END criterion=log_loss, max_depth=2, max_features=sqrt, splitter=best; total time=   0.0s\n",
      "[CV] END criterion=log_loss, max_depth=2, max_features=sqrt, splitter=best; total time=   0.0s\n",
      "[CV] END criterion=log_loss, max_depth=2, max_features=sqrt, splitter=random; total time=   0.0s\n",
      "[CV] END criterion=log_loss, max_depth=2, max_features=sqrt, splitter=random; total time=   0.0s\n",
      "[CV] END criterion=log_loss, max_depth=2, max_features=sqrt, splitter=random; total time=   0.0s\n",
      "[CV] END criterion=log_loss, max_depth=2, max_features=log2, splitter=best; total time=   0.0s\n",
      "[CV] END criterion=log_loss, max_depth=2, max_features=log2, splitter=best; total time=   0.0s\n",
      "[CV] END criterion=log_loss, max_depth=2, max_features=log2, splitter=best; total time=   0.0s\n",
      "[CV] END criterion=log_loss, max_depth=2, max_features=log2, splitter=random; total time=   0.0s\n",
      "[CV] END criterion=log_loss, max_depth=2, max_features=log2, splitter=random; total time=   0.0s\n",
      "[CV] END criterion=log_loss, max_depth=2, max_features=log2, splitter=random; total time=   0.0s\n",
      "[CV] END criterion=log_loss, max_depth=2, max_features=auto, splitter=best; total time=   0.0s\n",
      "[CV] END criterion=log_loss, max_depth=2, max_features=auto, splitter=best; total time=   0.0s\n",
      "[CV] END criterion=log_loss, max_depth=2, max_features=auto, splitter=best; total time=   0.0s\n",
      "[CV] END criterion=log_loss, max_depth=2, max_features=auto, splitter=random; total time=   0.0s\n",
      "[CV] END criterion=log_loss, max_depth=2, max_features=auto, splitter=random; total time=   0.0s\n",
      "[CV] END criterion=log_loss, max_depth=2, max_features=auto, splitter=random; total time=   0.0s\n",
      "[CV] END criterion=log_loss, max_depth=3, max_features=sqrt, splitter=best; total time=   0.0s\n",
      "[CV] END criterion=log_loss, max_depth=3, max_features=sqrt, splitter=best; total time=   0.0s\n",
      "[CV] END criterion=log_loss, max_depth=3, max_features=sqrt, splitter=best; total time=   0.0s\n",
      "[CV] END criterion=log_loss, max_depth=3, max_features=sqrt, splitter=random; total time=   0.0s\n",
      "[CV] END criterion=log_loss, max_depth=3, max_features=sqrt, splitter=random; total time=   0.0s\n",
      "[CV] END criterion=log_loss, max_depth=3, max_features=sqrt, splitter=random; total time=   0.0s\n",
      "[CV] END criterion=log_loss, max_depth=3, max_features=log2, splitter=best; total time=   0.0s\n",
      "[CV] END criterion=log_loss, max_depth=3, max_features=log2, splitter=best; total time=   0.0s\n",
      "[CV] END criterion=log_loss, max_depth=3, max_features=log2, splitter=best; total time=   0.0s\n",
      "[CV] END criterion=log_loss, max_depth=3, max_features=log2, splitter=random; total time=   0.0s\n",
      "[CV] END criterion=log_loss, max_depth=3, max_features=log2, splitter=random; total time=   0.0s\n",
      "[CV] END criterion=log_loss, max_depth=3, max_features=log2, splitter=random; total time=   0.0s\n",
      "[CV] END criterion=log_loss, max_depth=3, max_features=auto, splitter=best; total time=   0.0s\n",
      "[CV] END criterion=log_loss, max_depth=3, max_features=auto, splitter=best; total time=   0.0s\n",
      "[CV] END criterion=log_loss, max_depth=3, max_features=auto, splitter=best; total time=   0.0s\n",
      "[CV] END criterion=log_loss, max_depth=3, max_features=auto, splitter=random; total time=   0.0s\n",
      "[CV] END criterion=log_loss, max_depth=3, max_features=auto, splitter=random; total time=   0.0s\n",
      "[CV] END criterion=log_loss, max_depth=3, max_features=auto, splitter=random; total time=   0.0s\n",
      "[CV] END criterion=log_loss, max_depth=4, max_features=sqrt, splitter=best; total time=   0.0s\n",
      "[CV] END criterion=log_loss, max_depth=4, max_features=sqrt, splitter=best; total time=   0.0s\n",
      "[CV] END criterion=log_loss, max_depth=4, max_features=sqrt, splitter=best; total time=   0.0s\n",
      "[CV] END criterion=log_loss, max_depth=4, max_features=sqrt, splitter=random; total time=   0.0s\n",
      "[CV] END criterion=log_loss, max_depth=4, max_features=sqrt, splitter=random; total time=   0.0s\n",
      "[CV] END criterion=log_loss, max_depth=4, max_features=sqrt, splitter=random; total time=   0.0s\n",
      "[CV] END criterion=log_loss, max_depth=4, max_features=log2, splitter=best; total time=   0.0s\n",
      "[CV] END criterion=log_loss, max_depth=4, max_features=log2, splitter=best; total time=   0.0s\n",
      "[CV] END criterion=log_loss, max_depth=4, max_features=log2, splitter=best; total time=   0.0s\n",
      "[CV] END criterion=log_loss, max_depth=4, max_features=log2, splitter=random; total time=   0.0s\n",
      "[CV] END criterion=log_loss, max_depth=4, max_features=log2, splitter=random; total time=   0.0s\n",
      "[CV] END criterion=log_loss, max_depth=4, max_features=log2, splitter=random; total time=   0.0s\n",
      "[CV] END criterion=log_loss, max_depth=4, max_features=auto, splitter=best; total time=   0.0s\n",
      "[CV] END criterion=log_loss, max_depth=4, max_features=auto, splitter=best; total time=   0.0s\n",
      "[CV] END criterion=log_loss, max_depth=4, max_features=auto, splitter=best; total time=   0.0s\n",
      "[CV] END criterion=log_loss, max_depth=4, max_features=auto, splitter=random; total time=   0.0s\n",
      "[CV] END criterion=log_loss, max_depth=4, max_features=auto, splitter=random; total time=   0.0s\n",
      "[CV] END criterion=log_loss, max_depth=4, max_features=auto, splitter=random; total time=   0.0s\n",
      "[CV] END criterion=log_loss, max_depth=5, max_features=sqrt, splitter=best; total time=   0.0s\n",
      "[CV] END criterion=log_loss, max_depth=5, max_features=sqrt, splitter=best; total time=   0.0s\n",
      "[CV] END criterion=log_loss, max_depth=5, max_features=sqrt, splitter=best; total time=   0.0s\n",
      "[CV] END criterion=log_loss, max_depth=5, max_features=sqrt, splitter=random; total time=   0.0s\n",
      "[CV] END criterion=log_loss, max_depth=5, max_features=sqrt, splitter=random; total time=   0.0s\n",
      "[CV] END criterion=log_loss, max_depth=5, max_features=sqrt, splitter=random; total time=   0.0s\n",
      "[CV] END criterion=log_loss, max_depth=5, max_features=log2, splitter=best; total time=   0.0s\n",
      "[CV] END criterion=log_loss, max_depth=5, max_features=log2, splitter=best; total time=   0.0s\n",
      "[CV] END criterion=log_loss, max_depth=5, max_features=log2, splitter=best; total time=   0.0s\n",
      "[CV] END criterion=log_loss, max_depth=5, max_features=log2, splitter=random; total time=   0.0s\n",
      "[CV] END criterion=log_loss, max_depth=5, max_features=log2, splitter=random; total time=   0.0s\n",
      "[CV] END criterion=log_loss, max_depth=5, max_features=log2, splitter=random; total time=   0.0s\n",
      "[CV] END criterion=log_loss, max_depth=5, max_features=auto, splitter=best; total time=   0.0s\n",
      "[CV] END criterion=log_loss, max_depth=5, max_features=auto, splitter=best; total time=   0.0s\n",
      "[CV] END criterion=log_loss, max_depth=5, max_features=auto, splitter=best; total time=   0.0s\n",
      "[CV] END criterion=log_loss, max_depth=5, max_features=auto, splitter=random; total time=   0.0s\n",
      "[CV] END criterion=log_loss, max_depth=5, max_features=auto, splitter=random; total time=   0.0s\n",
      "[CV] END criterion=log_loss, max_depth=5, max_features=auto, splitter=random; total time=   0.0s\n",
      "Fitting 3 folds for each of 100 candidates, totalling 300 fits\n"
     ]
    },
    {
     "name": "stderr",
     "output_type": "stream",
     "text": [
      "c:\\Users\\DELL\\AppData\\Local\\Programs\\Python\\Python313\\Lib\\site-packages\\sklearn\\model_selection\\_validation.py:516: FitFailedWarning: \n",
      "90 fits failed out of a total of 270.\n",
      "The score on these train-test partitions for these parameters will be set to nan.\n",
      "If these failures are not expected, you can try to debug them by setting error_score='raise'.\n",
      "\n",
      "Below are more details about the failures:\n",
      "--------------------------------------------------------------------------------\n",
      "90 fits failed with the following error:\n",
      "Traceback (most recent call last):\n",
      "  File \"c:\\Users\\DELL\\AppData\\Local\\Programs\\Python\\Python313\\Lib\\site-packages\\sklearn\\model_selection\\_validation.py\", line 859, in _fit_and_score\n",
      "    estimator.fit(X_train, y_train, **fit_params)\n",
      "    ~~~~~~~~~~~~~^^^^^^^^^^^^^^^^^^^^^^^^^^^^^^^^\n",
      "  File \"c:\\Users\\DELL\\AppData\\Local\\Programs\\Python\\Python313\\Lib\\site-packages\\sklearn\\base.py\", line 1358, in wrapper\n",
      "    estimator._validate_params()\n",
      "    ~~~~~~~~~~~~~~~~~~~~~~~~~~^^\n",
      "  File \"c:\\Users\\DELL\\AppData\\Local\\Programs\\Python\\Python313\\Lib\\site-packages\\sklearn\\base.py\", line 471, in _validate_params\n",
      "    validate_parameter_constraints(\n",
      "    ~~~~~~~~~~~~~~~~~~~~~~~~~~~~~~^\n",
      "        self._parameter_constraints,\n",
      "        ^^^^^^^^^^^^^^^^^^^^^^^^^^^^\n",
      "        self.get_params(deep=False),\n",
      "        ^^^^^^^^^^^^^^^^^^^^^^^^^^^^\n",
      "        caller_name=self.__class__.__name__,\n",
      "        ^^^^^^^^^^^^^^^^^^^^^^^^^^^^^^^^^^^^\n",
      "    )\n",
      "    ^\n",
      "  File \"c:\\Users\\DELL\\AppData\\Local\\Programs\\Python\\Python313\\Lib\\site-packages\\sklearn\\utils\\_param_validation.py\", line 98, in validate_parameter_constraints\n",
      "    raise InvalidParameterError(\n",
      "    ...<2 lines>...\n",
      "    )\n",
      "sklearn.utils._param_validation.InvalidParameterError: The 'max_features' parameter of DecisionTreeClassifier must be an int in the range [1, inf), a float in the range (0.0, 1.0], a str among {'log2', 'sqrt'} or None. Got 'auto' instead.\n",
      "\n",
      "  warnings.warn(some_fits_failed_message, FitFailedWarning)\n",
      "c:\\Users\\DELL\\AppData\\Local\\Programs\\Python\\Python313\\Lib\\site-packages\\sklearn\\model_selection\\_search.py:1135: UserWarning: One or more of the test scores are non-finite: [0.99526463 0.98572157 0.99522873 0.98572157        nan        nan\n",
      " 0.99435451 0.98572157 0.99074782 0.98572157        nan        nan\n",
      " 0.99191391 0.98572157 0.99613886 0.98572157        nan        nan\n",
      " 0.99996358 0.98572157 0.98845351 0.98572157        nan        nan\n",
      " 0.99551964 0.98572157 0.99555644 0.98572157        nan        nan\n",
      " 0.99522821 0.98572157 0.99049284 0.98572157        nan        nan\n",
      " 0.99551962 0.98572157 0.98572157 0.98572157        nan        nan\n",
      " 0.99548368 0.98572157 0.99358904 0.98572157        nan        nan\n",
      " 1.         0.98572157 0.99125822 0.98572157        nan        nan\n",
      " 0.99992716 0.98572157 1.         0.98564872        nan        nan\n",
      " 0.99049336 0.98572157 0.99045694 0.98572157        nan        nan\n",
      " 0.99045694 0.98572157 0.99522873 0.98572157        nan        nan\n",
      " 0.99074834 0.98572157 0.99883447 0.98572157        nan        nan\n",
      " 0.9987252  0.98572157 0.99511895 0.98572157        nan        nan\n",
      " 0.99745019 0.99042051 0.99796037 0.98572157        nan        nan]\n",
      "  warnings.warn(\n"
     ]
    },
    {
     "name": "stdout",
     "output_type": "stream",
     "text": [
      "[CV] END C=10, class_weight=None, coef0=0.5, degree=4, gamma=scale, kernel=linear; total time=   0.4s\n",
      "[CV] END C=10, class_weight=None, coef0=0.5, degree=4, gamma=scale, kernel=linear; total time=   0.5s\n",
      "[CV] END C=10, class_weight=None, coef0=0.5, degree=4, gamma=scale, kernel=linear; total time=   0.4s\n",
      "[CV] END C=100, class_weight=balanced, coef0=1.0, degree=3, gamma=auto, kernel=poly; total time=   3.1s\n",
      "[CV] END C=100, class_weight=balanced, coef0=1.0, degree=3, gamma=auto, kernel=poly; total time=   3.5s\n",
      "[CV] END C=100, class_weight=balanced, coef0=1.0, degree=3, gamma=auto, kernel=poly; total time=   2.3s\n",
      "[CV] END C=100, class_weight=balanced, coef0=0.5, degree=4, gamma=0.001, kernel=poly; total time=   1.6s\n"
     ]
    }
   ],
   "source": [
    "#hyper parameter tuning\n",
    "from sklearn.model_selection import GridSearchCV,StratifiedKFold\n",
    "randomcvmodels=[(\"RF\",RandomForestClassifier(),rf_params),(\"LogisticRegression\",LogisticRegression(),log_params),\n",
    "                (\"AdaBoostClassifier\",AdaBoostClassifier(),adaboost_param),\n",
    "               (\"DecisionTreeClassifier\",DecisionTreeClassifier(),dt_params),\n",
    "               (\"SVC\",SVC(),sv_param),\n",
    "               (\"KNN\",KNeighborsClassifier(),knn_param),\n",
    "               (\"Grad\",GradientBoostingClassifier(),grad_params)]\n",
    "\n",
    "model_param={}\n",
    "for name,model,param in randomcvmodels:\n",
    "    random=RandomizedSearchCV(\n",
    "        estimator=model,\n",
    "        param_distributions=param,\n",
    "        n_iter=100,\n",
    "        verbose=2,\n",
    "        cv=3\n",
    "    )\n",
    "    random.fit(X_train,y_train)\n",
    "    model_param[name]=random.best_params_\n",
    "\n",
    "for modelname in model_param:\n",
    "    print(f\"best parameter for {modelname}  ::\")\n",
    "    print(model_param[modelname])\n",
    "\n",
    "\n"
   ]
  },
  {
   "cell_type": "code",
   "execution_count": null,
   "id": "492a2b2f",
   "metadata": {},
   "outputs": [],
   "source": []
  },
  {
   "cell_type": "code",
   "execution_count": null,
   "id": "e11517f7",
   "metadata": {},
   "outputs": [],
   "source": []
  }
 ],
 "metadata": {
  "kernelspec": {
   "display_name": "Python 3",
   "language": "python",
   "name": "python3"
  },
  "language_info": {
   "codemirror_mode": {
    "name": "ipython",
    "version": 3
   },
   "file_extension": ".py",
   "mimetype": "text/x-python",
   "name": "python",
   "nbconvert_exporter": "python",
   "pygments_lexer": "ipython3",
   "version": "3.13.7"
  }
 },
 "nbformat": 4,
 "nbformat_minor": 5
}
