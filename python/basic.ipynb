{
 "cells": [
  {
   "cell_type": "code",
   "execution_count": 1,
   "id": "d5810cae",
   "metadata": {},
   "outputs": [
    {
     "data": {
      "text/plain": [
       "2"
      ]
     },
     "execution_count": 1,
     "metadata": {},
     "output_type": "execute_result"
    }
   ],
   "source": [
    "1+1"
   ]
  },
  {
   "cell_type": "code",
   "execution_count": 2,
   "id": "7556d487",
   "metadata": {},
   "outputs": [
    {
     "name": "stdout",
     "output_type": "stream",
     "text": [
      "<class 'int'>\n"
     ]
    }
   ],
   "source": [
    "a=1 #=is assignment opperator that assign value 1 to a\n",
    "print(type(a)) #return type of a"
   ]
  },
  {
   "cell_type": "markdown",
   "id": "03e67dbb",
   "metadata": {},
   "source": [
    "python"
   ]
  },
  {
   "cell_type": "markdown",
   "id": "17715a8a",
   "metadata": {},
   "source": [
    "# this is comment\n",
    "\"\"\"\"data type bool (true false)\n",
    "int\n",
    "float\n",
    "str\n",
    "complex =5+4j\"\"\"\n",
    "\"\"\"variable name dont start with number and special symbol(except _)\"\"\"\n"
   ]
  },
  {
   "cell_type": "code",
   "execution_count": 3,
   "id": "0284dff4",
   "metadata": {},
   "outputs": [
    {
     "name": "stdout",
     "output_type": "stream",
     "text": [
      "<class 'int'>\n",
      "<class 'str'>\n"
     ]
    }
   ],
   "source": [
    "#type conversion\n",
    "a=5\n",
    "print(type(a))\n",
    "a=str(a)\n",
    "print(type(a))"
   ]
  },
  {
   "cell_type": "code",
   "execution_count": 4,
   "id": "5d5e74dc",
   "metadata": {},
   "outputs": [
    {
     "name": "stdout",
     "output_type": "stream",
     "text": [
      "<class 'str'>\n"
     ]
    }
   ],
   "source": [
    "print(type(a))#type return type of data stored\n",
    "l=[4,\"fcf\",64,[543,6]]#list mutable\n",
    " #python has forward as well as backward indexing\n",
    "l[1]=43 #can change value"
   ]
  },
  {
   "cell_type": "code",
   "execution_count": 5,
   "id": "dd920be0",
   "metadata": {},
   "outputs": [],
   "source": [
    "test=+4+4+5+7+8+9+\\\n",
    "6+7+7+7 #one command in multiple line using \\\n",
    "ad=5;bf=5#multiple command in single line\n"
   ]
  },
  {
   "cell_type": "code",
   "execution_count": 8,
   "id": "608e0195",
   "metadata": {},
   "outputs": [
    {
     "name": "stdout",
     "output_type": "stream",
     "text": [
      "0\n"
     ]
    }
   ],
   "source": [
    "#1arithmetic operator +-/* %remainder **power //floor divison\n",
    "# 2 comparison == != > < return true of false\n",
    "# 3 logical operator (and) (or) not\n",
    "True and False \n",
    "not True\n",
    "\n",
    "# 4 bitwise operator &(bitwie and) |(bitwise or) >> <<(left shift) ~(add 1 and negitive the sign)\n",
    "print(10&4)\n",
    "bin(10)#return binary\n",
    "b=6\n",
    "b+=5"
   ]
  },
  {
   "cell_type": "code",
   "execution_count": 11,
   "id": "3a8988eb",
   "metadata": {},
   "outputs": [],
   "source": [
    "#input from user\n",
    "ab=int(input(\"enter value\"))"
   ]
  },
  {
   "cell_type": "code",
   "execution_count": null,
   "id": "131f4ff7",
   "metadata": {},
   "outputs": [],
   "source": [
    "#basic string function\n",
    "st=\"ce\"\n",
    "st.capitalize"
   ]
  }
 ],
 "metadata": {
  "kernelspec": {
   "display_name": "Python 3",
   "language": "python",
   "name": "python3"
  },
  "language_info": {
   "codemirror_mode": {
    "name": "ipython",
    "version": 3
   },
   "file_extension": ".py",
   "mimetype": "text/x-python",
   "name": "python",
   "nbconvert_exporter": "python",
   "pygments_lexer": "ipython3",
   "version": "3.13.6"
  }
 },
 "nbformat": 4,
 "nbformat_minor": 5
}
