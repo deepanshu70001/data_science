{
 "cells": [
  {
   "cell_type": "code",
   "execution_count": 1,
   "id": "e3cace0a",
   "metadata": {},
   "outputs": [
    {
     "name": "stdout",
     "output_type": "stream",
     "text": [
      "true\n"
     ]
    }
   ],
   "source": [
    "#if is use to check a condition if true then the block inside if is executed\n",
    "a=5\n",
    "if a>4:\n",
    "    print(\"true\")"
   ]
  },
  {
   "cell_type": "code",
   "execution_count": 2,
   "id": "ef94fe47",
   "metadata": {},
   "outputs": [
    {
     "name": "stdout",
     "output_type": "stream",
     "text": [
      "false\n"
     ]
    }
   ],
   "source": [
    "# else statement exute block \"if\" is not executed\n",
    "a=2\n",
    "if a>4:\n",
    "    print(\"true\")\n",
    "else:\n",
    "    print(\"false\")"
   ]
  },
  {
   "cell_type": "code",
   "execution_count": 3,
   "id": "128e4609",
   "metadata": {},
   "outputs": [
    {
     "name": "stdout",
     "output_type": "stream",
     "text": [
      "mid\n"
     ]
    }
   ],
   "source": [
    "#elif(else-if) statement is use to check multiple cases \n",
    "a=12\n",
    "if a<10:\n",
    "    print(\"minor\")\n",
    "elif a<18:\n",
    "    print(\"mid\")\n",
    "else:\n",
    "    print(\"large\")"
   ]
  },
  {
   "cell_type": "code",
   "execution_count": null,
   "id": "4cafca71",
   "metadata": {},
   "outputs": [],
   "source": [
    "#nested loop\n",
    "#multiple condition inside another condition\n",
    "'''if():\n",
    "        if()'''"
   ]
  },
  {
   "cell_type": "code",
   "execution_count": 5,
   "id": "0594cca0",
   "metadata": {},
   "outputs": [
    {
     "name": "stdout",
     "output_type": "stream",
     "text": [
      "9.0\n"
     ]
    }
   ],
   "source": [
    "#question simple calculator\n",
    "num1=float(input(\"enter number 1\"))\n",
    "num2=float(input(\"enter number 2\"))\n",
    "op=input(\"enter operation\")\n",
    "\n",
    "if op=='+':\n",
    "    result=num1+num2\n",
    "\n",
    "elif op=='-':\n",
    "    result=num1 -num2\n",
    "elif op=='*':\n",
    "    result=num1 *num2\n",
    "elif op=='/':\n",
    "    if num2!=0:\n",
    "        result=num1 /num2\n",
    "    else:\n",
    "        print(\"divide by 0\")\n",
    "elif op=='//':\n",
    "    result=num1//num2\n",
    "elif op=='**':\n",
    "    result=num1**num2\n",
    "else:\n",
    "    print(\"invalid\")\n",
    "print(result)"
   ]
  },
  {
   "cell_type": "markdown",
   "id": "bde90574",
   "metadata": {},
   "source": [
    "loops in python\n",
    "for\n",
    "while\n"
   ]
  },
  {
   "cell_type": "code",
   "execution_count": 13,
   "id": "454a71a9",
   "metadata": {},
   "outputs": [
    {
     "name": "stdout",
     "output_type": "stream",
     "text": [
      "012345\n",
      "0\n",
      "2\n",
      "4\n",
      "\n",
      "10\n",
      "8\n",
      "6\n",
      "4\n",
      "2\n"
     ]
    }
   ],
   "source": [
    "#for loop it is use iterate a variable over a sequence of number\n",
    "for i in range(0,6):# 0 is included but 6 is out\n",
    "    print(i,end='')\n",
    "print()\n",
    "for i in range(0,6,2):# step size is 2 means jump2\n",
    "    print(i)\n",
    "print()\n",
    "for i in range(10,0,-2):# step size is 2 means jump2\n",
    "    print(i)"
   ]
  },
  {
   "cell_type": "code",
   "execution_count": 14,
   "id": "44a61a84",
   "metadata": {},
   "outputs": [
    {
     "name": "stdout",
     "output_type": "stream",
     "text": [
      "h\n",
      "e\n",
      "l\n",
      "l\n",
      "o\n"
     ]
    }
   ],
   "source": [
    "str=\"hello\"\n",
    "for i in str:\n",
    "    print(i)"
   ]
  },
  {
   "cell_type": "code",
   "execution_count": 16,
   "id": "10b25972",
   "metadata": {},
   "outputs": [
    {
     "name": "stdout",
     "output_type": "stream",
     "text": [
      "10\n",
      "9\n",
      "8\n",
      "7\n",
      "6\n"
     ]
    }
   ],
   "source": [
    "#while loop : executes uless a condition is true\n",
    "count=10\n",
    "while count>5:\n",
    "    print(count)\n",
    "    count-=1"
   ]
  },
  {
   "cell_type": "code",
   "execution_count": null,
   "id": "2b6e185e",
   "metadata": {},
   "outputs": [],
   "source": [
    "'''break staement : terminate the loop immediately\n",
    "continue statement restart the loop for next iteration does not execute the command below it\n",
    "'''"
   ]
  },
  {
   "cell_type": "code",
   "execution_count": 18,
   "id": "a7613293",
   "metadata": {},
   "outputs": [
    {
     "name": "stdout",
     "output_type": "stream",
     "text": [
      "0\n",
      "0\n",
      "0\n",
      "0\n",
      "1\n",
      "2\n",
      "0\n",
      "2\n",
      "4\n"
     ]
    }
   ],
   "source": [
    "#nested lopp: loop inside another loop\n",
    "for i in range(3):\n",
    "    for j in range(3):\n",
    "        print(i*j)"
   ]
  },
  {
   "cell_type": "code",
   "execution_count": null,
   "id": "92bc4d21",
   "metadata": {},
   "outputs": [],
   "source": []
  }
 ],
 "metadata": {
  "kernelspec": {
   "display_name": "Python 3",
   "language": "python",
   "name": "python3"
  },
  "language_info": {
   "codemirror_mode": {
    "name": "ipython",
    "version": 3
   },
   "file_extension": ".py",
   "mimetype": "text/x-python",
   "name": "python",
   "nbconvert_exporter": "python",
   "pygments_lexer": "ipython3",
   "version": "3.13.6"
  }
 },
 "nbformat": 4,
 "nbformat_minor": 5
}
