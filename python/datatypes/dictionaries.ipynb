{
 "cells": [
  {
   "cell_type": "code",
   "execution_count": null,
   "id": "78258840",
   "metadata": {},
   "outputs": [
    {
     "name": "stdout",
     "output_type": "stream",
     "text": [
      "<class 'dict'> <class 'dict'>\n"
     ]
    }
   ],
   "source": [
    "#dictionaries: unordered collection of data in key value pair\n",
    "# creating dict\n",
    "# dictionary are mutBLE,WITH UNIQUE KEY\n",
    "\"\"\"list[],tuple ()\"\"\"\n",
    "a=dict()\n",
    "b={}\n",
    "print(type(a),type(b))"
   ]
  },
  {
   "cell_type": "code",
   "execution_count": null,
   "id": "eff60678",
   "metadata": {},
   "outputs": [
    {
     "name": "stdout",
     "output_type": "stream",
     "text": [
      "{'a': 1, 'b': 2, 'c': 55}\n",
      "1\n",
      "2\n",
      "None\n",
      "{'a': 1, 'b': 2, 'c': 55, 'd': 66}\n"
     ]
    }
   ],
   "source": [
    "st={\"a\":1,\"b\":2,\"c\":55}\n",
    "print(st)\n",
    "print(st[\"a\"])\n",
    "#accessing using .get()\n",
    "print(st.get(\"b\"))\n",
    "print(st.get(\"4\"))\n",
    "#adding a new key and value\n",
    "st[\"d\"]=66\n",
    "print(st)"
   ]
  },
  {
   "cell_type": "code",
   "execution_count": null,
   "id": "90ccfa96",
   "metadata": {},
   "outputs": [
    {
     "name": "stdout",
     "output_type": "stream",
     "text": [
      "{'a': 1, 'b': 2, 'd': 66}\n"
     ]
    }
   ],
   "source": [
    "del st[\"c\"]\n",
    "print(st)"
   ]
  },
  {
   "cell_type": "code",
   "execution_count": 14,
   "id": "54ad711b",
   "metadata": {},
   "outputs": [
    {
     "name": "stdout",
     "output_type": "stream",
     "text": [
      "dict_keys(['a', 'b', 'd'])\n",
      "dict_values([1, 2, 66])\n",
      "dict_items([('a', 1), ('b', 2), ('d', 66)])\n"
     ]
    }
   ],
   "source": [
    "#common method\n",
    "\n",
    "keys=st.keys()\n",
    "print(keys)\n",
    "value=st.values()\n",
    "print(value)\n",
    "\n",
    "item=st.items()\n",
    "print(item)"
   ]
  },
  {
   "cell_type": "code",
   "execution_count": null,
   "id": "3c0b111b",
   "metadata": {},
   "outputs": [
    {
     "name": "stdout",
     "output_type": "stream",
     "text": [
      "{'a': 1, 'b': 2, 'd': 66}\n",
      "{'a': 1, 'b': 2, 'd': 66}\n",
      "{'a': 0, 'b': 2, 'd': 66}\n",
      "{'a': 0, 'b': 2, 'd': 66}\n"
     ]
    }
   ],
   "source": [
    "#shallow copy\n",
    "st2=st\n",
    "print(st)\n",
    "print(st2)\n",
    "st[\"a\"]=0\n",
    "print(st)# change in st also change in st 2\n",
    "print(st2)"
   ]
  },
  {
   "cell_type": "code",
   "execution_count": 16,
   "id": "c3ec0706",
   "metadata": {},
   "outputs": [
    {
     "name": "stdout",
     "output_type": "stream",
     "text": [
      "{'a': 0, 'b': 2, 'd': 66}\n",
      "{'a': 0, 'b': 2, 'd': 66}\n",
      "{'a': 2, 'b': 2, 'd': 66}\n",
      "{'a': 0, 'b': 2, 'd': 66}\n"
     ]
    }
   ],
   "source": [
    "st3=st.copy()# prevent shallow copy\n",
    "print(st)\n",
    "print(st3)\n",
    "st[\"a\"]=2\n",
    "print(st)# change in st no change in 3\n",
    "print(st3)"
   ]
  },
  {
   "cell_type": "code",
   "execution_count": 18,
   "id": "c041cc5a",
   "metadata": {},
   "outputs": [
    {
     "name": "stdout",
     "output_type": "stream",
     "text": [
      "a\n",
      "b\n",
      "d\n"
     ]
    }
   ],
   "source": [
    "#iteration over dictionaries\n",
    "for k in st.keys():\n",
    " print(k)"
   ]
  },
  {
   "cell_type": "code",
   "execution_count": 20,
   "id": "83560bbb",
   "metadata": {},
   "outputs": [
    {
     "name": "stdout",
     "output_type": "stream",
     "text": [
      "a:2\n",
      "b:2\n",
      "d:66\n"
     ]
    }
   ],
   "source": [
    "for k,v in st.items():\n",
    "    print(f\"{k}:{v}\")"
   ]
  },
  {
   "cell_type": "code",
   "execution_count": 21,
   "id": "3e68cc20",
   "metadata": {},
   "outputs": [
    {
     "name": "stdout",
     "output_type": "stream",
     "text": [
      "{0: 0, 1: 1, 2: 4, 3: 9, 4: 16}\n"
     ]
    }
   ],
   "source": [
    "#dictionary comprehension\n",
    "sq={x:x**2 for x in range(5)}\n",
    "print(sq)"
   ]
  },
  {
   "cell_type": "code",
   "execution_count": 22,
   "id": "be9957bf",
   "metadata": {},
   "outputs": [
    {
     "name": "stdout",
     "output_type": "stream",
     "text": [
      "{0: 0, 2: 4, 4: 16, 6: 36, 8: 64}\n"
     ]
    }
   ],
   "source": [
    "sq={x:x**2 for x in range(10) if x%2==0}\n",
    "print(sq)"
   ]
  },
  {
   "cell_type": "code",
   "execution_count": 23,
   "id": "2c5f2f3d",
   "metadata": {},
   "outputs": [
    {
     "name": "stdout",
     "output_type": "stream",
     "text": [
      "{0: 0, 2: 4, 4: 16, 6: 36, 8: 64, 'a': 2, 'b': 2, 'd': 66}\n"
     ]
    }
   ],
   "source": [
    "#adding two dict\n",
    "ad={**sq,**st}\n",
    "print(ad)"
   ]
  },
  {
   "cell_type": "code",
   "execution_count": null,
   "id": "fedf1219",
   "metadata": {},
   "outputs": [],
   "source": []
  }
 ],
 "metadata": {
  "kernelspec": {
   "display_name": "Python 3",
   "language": "python",
   "name": "python3"
  },
  "language_info": {
   "codemirror_mode": {
    "name": "ipython",
    "version": 3
   },
   "file_extension": ".py",
   "mimetype": "text/x-python",
   "name": "python",
   "nbconvert_exporter": "python",
   "pygments_lexer": "ipython3",
   "version": "3.13.6"
  }
 },
 "nbformat": 4,
 "nbformat_minor": 5
}
