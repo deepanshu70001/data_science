{
 "cells": [
  {
   "cell_type": "markdown",
   "id": "9552a44c",
   "metadata": {},
   "source": [
    "list"
   ]
  },
  {
   "cell_type": "code",
   "execution_count": 1,
   "id": "74d2f308",
   "metadata": {},
   "outputs": [
    {
     "name": "stdout",
     "output_type": "stream",
     "text": [
      "<class 'list'>\n"
     ]
    }
   ],
   "source": [
    "#list:ordered mutable collection of data\n",
    "lst=[]\n",
    "print(type(lst))"
   ]
  },
  {
   "cell_type": "code",
   "execution_count": 2,
   "id": "16b1fdfe",
   "metadata": {},
   "outputs": [
    {
     "name": "stdout",
     "output_type": "stream",
     "text": [
      "['a', 'b', 'c', 1, 334, 4.3]\n"
     ]
    }
   ],
   "source": [
    "name=[\"a\",\"b\",\"c\",1,334,4.3]\n",
    "print(name)"
   ]
  },
  {
   "cell_type": "code",
   "execution_count": 3,
   "id": "819ef39c",
   "metadata": {},
   "outputs": [
    {
     "name": "stdout",
     "output_type": "stream",
     "text": [
      "2\n",
      "5\n",
      "6\n"
     ]
    }
   ],
   "source": [
    "#accessing item is list\n",
    "a=[1,2,3,4,5,6,7]\n",
    "print(a[1])\n",
    "print(a[4])\n",
    "print(a[-2])#negetive index"
   ]
  },
  {
   "cell_type": "code",
   "execution_count": 4,
   "id": "e77d509d",
   "metadata": {},
   "outputs": [
    {
     "name": "stdout",
     "output_type": "stream",
     "text": [
      "[1, 2, 3]\n",
      "[7]\n"
     ]
    }
   ],
   "source": [
    "#slicing\n",
    "print(a[0:3])\n",
    "print(a[-1:])\n",
    " "
   ]
  },
  {
   "cell_type": "code",
   "execution_count": 5,
   "id": "e28ed12a",
   "metadata": {},
   "outputs": [
    {
     "name": "stdout",
     "output_type": "stream",
     "text": [
      "4\n",
      "45\n"
     ]
    }
   ],
   "source": [
    "#modifying element\n",
    "print(a[3])\n",
    "a[3]=45\n",
    "print(a[3])"
   ]
  },
  {
   "cell_type": "code",
   "execution_count": 6,
   "id": "c0eea4b8",
   "metadata": {},
   "outputs": [
    {
     "name": "stdout",
     "output_type": "stream",
     "text": [
      "8\n",
      "[1, 2, 3, 4, 5, 0, 6, 7, 8]\n",
      "8\n",
      "0\n"
     ]
    }
   ],
   "source": [
    "#list method\n",
    "a=[1,2,3,4,5,6,7]\n",
    "a.append(8)#add element at end\n",
    "print(a[7])\n",
    "a.insert(5,0)#add element at given position\n",
    "print(a)\n",
    "a.remove(4)\n",
    "b=a.pop()#remove and return last element of list\n",
    "print(b)\n",
    "print(a.index(1)) #return index of the element\n"
   ]
  },
  {
   "cell_type": "code",
   "execution_count": 7,
   "id": "92302eb1",
   "metadata": {},
   "outputs": [
    {
     "name": "stdout",
     "output_type": "stream",
     "text": [
      "[0, 1, 2, 3, 5, 6, 7]\n",
      "[7, 6, 5, 3, 2, 1, 0]\n"
     ]
    }
   ],
   "source": [
    "a.sort()# sort the list\n",
    "print(a)\n",
    "a.reverse()# reverse the list\n",
    "print(a)\n",
    "a.clear()#remove all element\n"
   ]
  },
  {
   "cell_type": "code",
   "execution_count": 8,
   "id": "b4c17256",
   "metadata": {},
   "outputs": [
    {
     "name": "stdout",
     "output_type": "stream",
     "text": [
      "1\n",
      "2\n",
      "3\n",
      "4\n",
      "5\n",
      "6\n",
      "7\n"
     ]
    }
   ],
   "source": [
    "#list iteration\n",
    "a=[1,2,3,4,5,6,7]\n",
    "for i in a:\n",
    "    print(i)"
   ]
  },
  {
   "cell_type": "code",
   "execution_count": 9,
   "id": "503d402d",
   "metadata": {},
   "outputs": [
    {
     "name": "stdout",
     "output_type": "stream",
     "text": [
      "0   1\n",
      "1   2\n",
      "2   3\n",
      "3   4\n",
      "4   5\n",
      "5   6\n",
      "6   7\n"
     ]
    }
   ],
   "source": [
    "for ind,num in enumerate(a):#iterating list with index as well as val\n",
    "    print(ind,\" \",num)"
   ]
  },
  {
   "cell_type": "code",
   "execution_count": 10,
   "id": "39875c10",
   "metadata": {},
   "outputs": [
    {
     "name": "stdout",
     "output_type": "stream",
     "text": [
      "[0, 1, 4, 9, 16, 25, 36, 49, 64, 81]\n",
      "[0, 4, 16, 36, 64]\n"
     ]
    }
   ],
   "source": [
    "#list comprehension\n",
    "#syntac [expresion  for item in iterable]\n",
    "#for if [expression for item in iterable if condition]\n",
    "#nested list comprehension [exp for i1 in iteration1 for i2 in iteration2]\n",
    "l=[x**2 for x in range(10)]\n",
    "print(l)\n",
    "x=[y**2 for y in range(10) if y%2==0]\n",
    "print(x)"
   ]
  },
  {
   "cell_type": "markdown",
   "id": "35bc7ced",
   "metadata": {},
   "source": [
    "tuples"
   ]
  },
  {
   "cell_type": "code",
   "execution_count": 11,
   "id": "49d25333",
   "metadata": {},
   "outputs": [
    {
     "name": "stdout",
     "output_type": "stream",
     "text": [
      "<class 'tuple'>\n",
      "(53, 3, 4, 2, 5, 2, 4)\n"
     ]
    }
   ],
   "source": [
    "#tuple ordered collection of data that is immutable(cannot manupitalte value)\n",
    "tup=(\"A\",\"b\",\"c\")\n",
    "print(type(tup))\n",
    "tpl=tuple([53,3,4,2,5,2,4])#list converted to tuple\n",
    "print(tpl)\n"
   ]
  },
  {
   "cell_type": "code",
   "execution_count": 12,
   "id": "01fd48d6",
   "metadata": {},
   "outputs": [
    {
     "name": "stdout",
     "output_type": "stream",
     "text": [
      "('A', 'b', 'c', 53, 3, 4, 2, 5, 2, 4)\n"
     ]
    }
   ],
   "source": [
    "#operation on tuple\n",
    "# concatenation of tuple\n",
    "a=tup+tpl\n",
    "print(a)"
   ]
  },
  {
   "cell_type": "code",
   "execution_count": 13,
   "id": "62069a1d",
   "metadata": {},
   "outputs": [
    {
     "data": {
      "text/plain": [
       "('A',\n",
       " 'b',\n",
       " 'c',\n",
       " 53,\n",
       " 3,\n",
       " 4,\n",
       " 2,\n",
       " 5,\n",
       " 2,\n",
       " 4,\n",
       " 'A',\n",
       " 'b',\n",
       " 'c',\n",
       " 53,\n",
       " 3,\n",
       " 4,\n",
       " 2,\n",
       " 5,\n",
       " 2,\n",
       " 4,\n",
       " 'A',\n",
       " 'b',\n",
       " 'c',\n",
       " 53,\n",
       " 3,\n",
       " 4,\n",
       " 2,\n",
       " 5,\n",
       " 2,\n",
       " 4)"
      ]
     },
     "execution_count": 13,
     "metadata": {},
     "output_type": "execute_result"
    }
   ],
   "source": [
    "a*3"
   ]
  },
  {
   "cell_type": "code",
   "execution_count": 15,
   "id": "30661195",
   "metadata": {},
   "outputs": [
    {
     "ename": "TypeError",
     "evalue": "'tuple' object does not support item assignment",
     "output_type": "error",
     "traceback": [
      "\u001b[31m---------------------------------------------------------------------------\u001b[39m",
      "\u001b[31mTypeError\u001b[39m                                 Traceback (most recent call last)",
      "\u001b[36mCell\u001b[39m\u001b[36m \u001b[39m\u001b[32mIn[15]\u001b[39m\u001b[32m, line 3\u001b[39m\n\u001b[32m      1\u001b[39m \u001b[38;5;66;03m#immutable nature of tuples\u001b[39;00m\n\u001b[32m      2\u001b[39m \u001b[38;5;66;03m#element cannot be changed once assigned\u001b[39;00m\n\u001b[32m----> \u001b[39m\u001b[32m3\u001b[39m \u001b[43ma\u001b[49m\u001b[43m[\u001b[49m\u001b[32;43m2\u001b[39;49m\u001b[43m]\u001b[49m=\u001b[32m53\u001b[39m\n",
      "\u001b[31mTypeError\u001b[39m: 'tuple' object does not support item assignment"
     ]
    }
   ],
   "source": [
    "#immutable nature of tuples\n",
    "#element cannot be changed once assigned\n",
    "a[2]=53\n"
   ]
  },
  {
   "cell_type": "code",
   "execution_count": 16,
   "id": "d37043aa",
   "metadata": {},
   "outputs": [
    {
     "name": "stdout",
     "output_type": "stream",
     "text": [
      "2\n"
     ]
    }
   ],
   "source": [
    "#count fin\n",
    "print(a.count(2))"
   ]
  },
  {
   "cell_type": "code",
   "execution_count": 19,
   "id": "bc63cf12",
   "metadata": {},
   "outputs": [
    {
     "name": "stdout",
     "output_type": "stream",
     "text": [
      "(1, 43, 4, 23, True)\n",
      "1 43 4\n"
     ]
    }
   ],
   "source": [
    "#packing and unpacking tuple\n",
    "pck_tpl=1,43,4,23,True\n",
    "print(pck_tpl)\n",
    "#uncpacking\n",
    "a,b,c,d,e=pck_tpl\n",
    "print(a,b,c)"
   ]
  }
 ],
 "metadata": {
  "kernelspec": {
   "display_name": "Python 3",
   "language": "python",
   "name": "python3"
  },
  "language_info": {
   "codemirror_mode": {
    "name": "ipython",
    "version": 3
   },
   "file_extension": ".py",
   "mimetype": "text/x-python",
   "name": "python",
   "nbconvert_exporter": "python",
   "pygments_lexer": "ipython3",
   "version": "3.13.6"
  }
 },
 "nbformat": 4,
 "nbformat_minor": 5
}
