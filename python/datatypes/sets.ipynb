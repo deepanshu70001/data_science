{
 "cells": [
  {
   "cell_type": "code",
   "execution_count": 10,
   "id": "859b55e7",
   "metadata": {},
   "outputs": [
    {
     "name": "stdout",
     "output_type": "stream",
     "text": [
      "<class 'set'>\n",
      "{0, 1, 2, 3, 4, 5, 6, 7, 8, 9}\n"
     ]
    }
   ],
   "source": [
    "#sets\n",
    "#built in data type in python ,use to store unique values\n",
    "#follows FIFO first in first out\n",
    "s={1,2,3,4,5,6,7,8,9,0}\n",
    "print(type(s))\n",
    "print(s)"
   ]
  },
  {
   "cell_type": "code",
   "execution_count": 4,
   "id": "a2601c74",
   "metadata": {},
   "outputs": [
    {
     "name": "stdout",
     "output_type": "stream",
     "text": [
      "{1, 2, 3, 4, 5, 6}\n"
     ]
    }
   ],
   "source": [
    "empty_set=set()\n",
    "empty_set=set([1,2,3,4,5,6])\n",
    "print(empty_set)"
   ]
  },
  {
   "cell_type": "code",
   "execution_count": 11,
   "id": "0bff9931",
   "metadata": {},
   "outputs": [
    {
     "name": "stdout",
     "output_type": "stream",
     "text": [
      "{1, 2, 3, 4, 5, 6, 7, 8, 9, 10}\n"
     ]
    }
   ],
   "source": [
    "#basics set operation \n",
    "#adding and removing element in set\n",
    "s.add(10)\n",
    "s.remove(0)#gives error when element not in set\n",
    "s.discard(20)#doesnot give error\n",
    "print(s)"
   ]
  },
  {
   "cell_type": "code",
   "execution_count": 13,
   "id": "391ab34f",
   "metadata": {},
   "outputs": [
    {
     "name": "stdout",
     "output_type": "stream",
     "text": [
      "True\n"
     ]
    }
   ],
   "source": [
    "#membershpi test\n",
    "print(1 in s)"
   ]
  },
  {
   "cell_type": "code",
   "execution_count": null,
   "id": "6e7e9be8",
   "metadata": {},
   "outputs": [
    {
     "name": "stdout",
     "output_type": "stream",
     "text": [
      "{1, 2, 3, 4, 5, 6}\n",
      "set()\n"
     ]
    }
   ],
   "source": [
    "#mathamatic operation\n",
    "s1={1,2,3}\n",
    "s2={4,5,6}\n",
    "#union=\n",
    "un_set=s1.union(s2)\n",
    "print(un_set)\n",
    "\n",
    "inter_set=s1.intersection(s2)\n",
    "print(inter_set)\n",
    "#symetric diff : give set without common elements\n",
    "#difference : set1 - common elemnt of set 1 and 2"
   ]
  },
  {
   "cell_type": "code",
   "execution_count": 18,
   "id": "f552d687",
   "metadata": {},
   "outputs": [
    {
     "name": "stdout",
     "output_type": "stream",
     "text": [
      "False\n",
      "True\n"
     ]
    }
   ],
   "source": [
    "#set method\n",
    "s1={1,2,3,5,4}\n",
    "s2={3,4,5}\n",
    "print(s1.issubset(s2))\n",
    "print(s1.issuperset(s2))"
   ]
  },
  {
   "cell_type": "code",
   "execution_count": null,
   "id": "aef56a92",
   "metadata": {},
   "outputs": [],
   "source": []
  }
 ],
 "metadata": {
  "kernelspec": {
   "display_name": "Python 3",
   "language": "python",
   "name": "python3"
  },
  "language_info": {
   "codemirror_mode": {
    "name": "ipython",
    "version": 3
   },
   "file_extension": ".py",
   "mimetype": "text/x-python",
   "name": "python",
   "nbconvert_exporter": "python",
   "pygments_lexer": "ipython3",
   "version": "3.13.6"
  }
 },
 "nbformat": 4,
 "nbformat_minor": 5
}
