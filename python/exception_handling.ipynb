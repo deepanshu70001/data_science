{
 "cells": [
  {
   "cell_type": "code",
   "execution_count": 1,
   "id": "15506ff4",
   "metadata": {},
   "outputs": [
    {
     "name": "stdout",
     "output_type": "stream",
     "text": [
      "unsupported operand type(s) for /: 'str' and 'int'\n",
      "Operation complete.\n"
     ]
    }
   ],
   "source": [
    "'''Exception handling in Python (and programming in general) is the mechanism for detecting and responding to \n",
    "runtime errors — the “exceptions” that disrupt the normal flow of a program.- Maintain Program Stability\n",
    "- Prevents the entire application from terminating when an error occurs.\n",
    "- Gracefully Handle Errors\n",
    "- Offers user-friendly messages instead of cryptic tracebacks.\n",
    "- Isolate Faulty Code\n",
    "- Keeps error-handling logic separate from normal business logic, making code cleaner.\n",
    "- Support Recovery\n",
    "- Gives the opportunity to retry an operation, use defaults, or log errors for later review.\n",
    "- Improve Debugging and Maintenance\n",
    "- Makes it easier to pinpoint exactly where and why an error happened.\n",
    "\n",
    "\n",
    "'''\n",
    "try:\n",
    "    x = \"10 \"/ 0\n",
    "except ZeroDivisionError:\n",
    "    print(\"Cannot divide by zero!\")\n",
    "except Exception as e:\n",
    "    print(e)\n",
    "else:\n",
    "    print(\"Division successful.\")\n",
    "finally:\n",
    "    print(\"Operation complete.\")"
   ]
  },
  {
   "cell_type": "code",
   "execution_count": null,
   "id": "c76ba9bf",
   "metadata": {},
   "outputs": [],
   "source": []
  }
 ],
 "metadata": {
  "kernelspec": {
   "display_name": "Python 3",
   "language": "python",
   "name": "python3"
  },
  "language_info": {
   "codemirror_mode": {
    "name": "ipython",
    "version": 3
   },
   "file_extension": ".py",
   "mimetype": "text/x-python",
   "name": "python",
   "nbconvert_exporter": "python",
   "pygments_lexer": "ipython3",
   "version": "3.13.6"
  }
 },
 "nbformat": 4,
 "nbformat_minor": 5
}
