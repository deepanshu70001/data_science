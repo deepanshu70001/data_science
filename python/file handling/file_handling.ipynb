{
 "cells": [
  {
   "cell_type": "code",
   "execution_count": null,
   "id": "f84b1553",
   "metadata": {},
   "outputs": [],
   "source": [
    "#reading a file\n",
    "with open('example.txt',mode='r') as file:\n",
    "    content=file.read()\n",
    "    print(content)\n",
    "    #reading line by line\n",
    "    for line in file:\n",
    "        print(line)\n",
    "\n"
   ]
  },
  {
   "cell_type": "code",
   "execution_count": null,
   "id": "c681c119",
   "metadata": {},
   "outputs": [],
   "source": [
    "#writing in a file\n",
    "with open(\"example.txt\",\"w\") as file:\n",
    "    file.write(\"hi \\n\")\n",
    "    file.write(\"rfcde \\n\")"
   ]
  },
  {
   "cell_type": "code",
   "execution_count": null,
   "id": "92ea2837",
   "metadata": {},
   "outputs": [],
   "source": [
    "#writing without overwriting\n",
    "with open(\"example.txt\",\"a\") as file:\n",
    "    file.write(\"hi \\n\")\n",
    "    file.write(\"rfcde\")\n",
    "    # move file cursor\n",
    "    file.seek(0)"
   ]
  },
  {
   "cell_type": "code",
   "execution_count": null,
   "id": "1e6111b4",
   "metadata": {},
   "outputs": [],
   "source": [
    "# binary files\n",
    "import pickle\n",
    "\n",
    "with open(\"exp.pkl\",\"wb\") as file:\n",
    "    pickle.dump(\"abc\",file)\n",
    "    read=pickle.load(file)\n",
    "    print(read)\n"
   ]
  },
  {
   "cell_type": "code",
   "execution_count": null,
   "id": "fece5036",
   "metadata": {},
   "outputs": [],
   "source": []
  },
  {
   "cell_type": "code",
   "execution_count": null,
   "id": "ed2a38dd",
   "metadata": {},
   "outputs": [],
   "source": []
  }
 ],
 "metadata": {
  "kernelspec": {
   "display_name": "Python 3",
   "language": "python",
   "name": "python3"
  },
  "language_info": {
   "codemirror_mode": {
    "name": "ipython",
    "version": 3
   },
   "file_extension": ".py",
   "mimetype": "text/x-python",
   "name": "python",
   "nbconvert_exporter": "python",
   "pygments_lexer": "ipython3",
   "version": "3.13.6"
  }
 },
 "nbformat": 4,
 "nbformat_minor": 5
}
