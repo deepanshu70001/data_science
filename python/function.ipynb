{
 "cells": [
  {
   "cell_type": "code",
   "execution_count": 1,
   "id": "ed805a2b",
   "metadata": {},
   "outputs": [],
   "source": [
    "#function is a block of code that proform a specific vlock help in organising code and better readiblity and \n",
    "# decrese repeatablity in code ,better memory\n",
    "#basic structure\n",
    "def func(parameters):\n",
    "    '''doc string'''\n",
    "    #expression/operation\n",
    "    return parameters"
   ]
  },
  {
   "cell_type": "code",
   "execution_count": 2,
   "id": "a4623f3e",
   "metadata": {},
   "outputs": [],
   "source": [
    "#defining a function\n",
    "def even(num):\n",
    "    if num%2==0:\n",
    "        print(\"even\")\n",
    "    else:\n",
    "        print(\"odd\")"
   ]
  },
  {
   "cell_type": "code",
   "execution_count": 3,
   "id": "b415cbd0",
   "metadata": {},
   "outputs": [
    {
     "name": "stdout",
     "output_type": "stream",
     "text": [
      "even\n"
     ]
    }
   ],
   "source": [
    "# callinf function\n",
    "even(40)"
   ]
  },
  {
   "cell_type": "code",
   "execution_count": 4,
   "id": "fa1ac56d",
   "metadata": {},
   "outputs": [
    {
     "name": "stdout",
     "output_type": "stream",
     "text": [
      "9\n"
     ]
    }
   ],
   "source": [
    "#with multiple variable\n",
    "def add(a,b):\n",
    "    return a+b\n",
    "\n",
    "print(add(4,5))"
   ]
  },
  {
   "cell_type": "code",
   "execution_count": 5,
   "id": "7a37ed24",
   "metadata": {},
   "outputs": [
    {
     "name": "stdout",
     "output_type": "stream",
     "text": [
      "d23,hi\n",
      "we,hi\n"
     ]
    }
   ],
   "source": [
    "#deafault parameter\n",
    "def funct(name=\"d23\"):\n",
    "    print(f\"{name},hi\")\n",
    "\n",
    "funct()\n",
    "funct(\"we\")"
   ]
  },
  {
   "cell_type": "code",
   "execution_count": 6,
   "id": "a9f93ec8",
   "metadata": {},
   "outputs": [
    {
     "name": "stdout",
     "output_type": "stream",
     "text": [
      "6\n",
      "5\n",
      "3\n",
      "5\n",
      "5\n",
      "3\n",
      "6\n"
     ]
    }
   ],
   "source": [
    "#variable lenght argument\n",
    "def p_num(*args ):\n",
    "    for num in args:\n",
    "        print(num)\n",
    "\n",
    "p_num(6,5,3,5,5,3,6)"
   ]
  },
  {
   "cell_type": "code",
   "execution_count": 7,
   "id": "bba47a0a",
   "metadata": {},
   "outputs": [],
   "source": [
    "def palindrome(s):\n",
    "    s=s.lower().replace(\" \",\"\")\n",
    "    return s==s[::-1]"
   ]
  },
  {
   "cell_type": "code",
   "execution_count": 8,
   "id": "fcc3af6d",
   "metadata": {},
   "outputs": [
    {
     "name": "stdout",
     "output_type": "stream",
     "text": [
      "120\n"
     ]
    }
   ],
   "source": [
    "#factorial by recursion\n",
    "def fact(num):\n",
    "    if num==0:\n",
    "        return 1\n",
    "    return num*fact(num-1)\n",
    "\n",
    "print(fact(5))"
   ]
  },
  {
   "cell_type": "code",
   "execution_count": 9,
   "id": "a12bc537",
   "metadata": {},
   "outputs": [
    {
     "name": "stdout",
     "output_type": "stream",
     "text": [
      "<class 'function'>\n",
      "9\n"
     ]
    }
   ],
   "source": [
    "#lamda function is a small anonamous function \n",
    "# defined using lamda keyword\n",
    "#lamda argument: expression\n",
    "#only one expression\n",
    "\n",
    "a=lambda a,b: a+b\n",
    "print(type(a))\n",
    "print(a(4,5))"
   ]
  },
  {
   "cell_type": "code",
   "execution_count": 10,
   "id": "18dbcb31",
   "metadata": {},
   "outputs": [
    {
     "name": "stdout",
     "output_type": "stream",
     "text": [
      "True\n"
     ]
    }
   ],
   "source": [
    "even=lambda a:a%2==0\n",
    "print(even(4))"
   ]
  },
  {
   "cell_type": "code",
   "execution_count": 11,
   "id": "d652f955",
   "metadata": {},
   "outputs": [
    {
     "name": "stdout",
     "output_type": "stream",
     "text": [
      "[1, 2, 6, 24, 120, 720, 5040, 40320, 362880]\n"
     ]
    }
   ],
   "source": [
    "#map function\n",
    "#applies a function on a input list of iterable and return a map object or iterator\n",
    "#use for transforming data in list comprehension\n",
    "num=[1,2,3,4,5,6,7,8,9]\n",
    "print(list(map(fact,num)))"
   ]
  },
  {
   "cell_type": "code",
   "execution_count": 12,
   "id": "f7577bec",
   "metadata": {},
   "outputs": [
    {
     "name": "stdout",
     "output_type": "stream",
     "text": [
      "[5, 6, 2]\n"
     ]
    }
   ],
   "source": [
    "#map to convert string of num into int\n",
    "num=[\"5\",\"6\",\"2\"]\n",
    "print(list(map(int,num)))"
   ]
  },
  {
   "cell_type": "code",
   "execution_count": 14,
   "id": "c1829b4c",
   "metadata": {},
   "outputs": [
    {
     "name": "stdout",
     "output_type": "stream",
     "text": [
      "[2, 4, 6, 8]\n"
     ]
    }
   ],
   "source": [
    "# filter function use to filter a list for a condition\n",
    "num=[1,2,3,4,5,6,7,8,9]\n",
    "def even(num):\n",
    "    if num%2==0:\n",
    "        return True\n",
    "    else:\n",
    "        return False\n",
    "print(list(filter(even,num)))"
   ]
  },
  {
   "cell_type": "code",
   "execution_count": null,
   "id": "d1d81adb",
   "metadata": {},
   "outputs": [],
   "source": []
  }
 ],
 "metadata": {
  "kernelspec": {
   "display_name": "Python 3",
   "language": "python",
   "name": "python3"
  },
  "language_info": {
   "codemirror_mode": {
    "name": "ipython",
    "version": 3
   },
   "file_extension": ".py",
   "mimetype": "text/x-python",
   "name": "python",
   "nbconvert_exporter": "python",
   "pygments_lexer": "ipython3",
   "version": "3.13.6"
  }
 },
 "nbformat": 4,
 "nbformat_minor": 5
}
