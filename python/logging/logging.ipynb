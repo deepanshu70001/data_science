{
 "cells": [
  {
   "cell_type": "code",
   "execution_count": 6,
   "id": "8ff8a912",
   "metadata": {},
   "outputs": [
    {
     "name": "stderr",
     "output_type": "stream",
     "text": [
      "WARNING:root:warning\n",
      "ERROR:root:error\n"
     ]
    }
   ],
   "source": [
    "#logging:important espect of coding\n",
    "#it record all the processes ,eror,make it easy to resolve\n",
    "import logging\n",
    "#config basic logging\n",
    "logging.basicConfig(level=logging.DEBUG)\n",
    "\n",
    "logging.info(\"INFO MESSAGE\")\n",
    "logging.debug(\"debug message\")\n",
    "logging.warning(\"warning\")\n",
    "logging.error(\"error\")"
   ]
  },
  {
   "cell_type": "code",
   "execution_count": 1,
   "id": "6496ed2c",
   "metadata": {},
   "outputs": [],
   "source": [
    "import logging\n",
    "\n",
    "logging.basicConfig(\n",
    "    level=logging.DEBUG,\n",
    "    filename='app.log',\n",
    "    filemode='w',\n",
    "    format='%(asctime)s-%(name)s-%(levelname)s-%(message)s'\n",
    ")\n",
    "\n",
    "logging.info(\"INFO MESSAGE\")\n",
    "logging.debug(\"debug message\")\n",
    "logging.warning(\"warning\")\n",
    "logging.error(\"error\")"
   ]
  }
 ],
 "metadata": {
  "kernelspec": {
   "display_name": "Python 3",
   "language": "python",
   "name": "python3"
  },
  "language_info": {
   "codemirror_mode": {
    "name": "ipython",
    "version": 3
   },
   "file_extension": ".py",
   "mimetype": "text/x-python",
   "name": "python",
   "nbconvert_exporter": "python",
   "pygments_lexer": "ipython3",
   "version": "3.13.6"
  }
 },
 "nbformat": 4,
 "nbformat_minor": 5
}
