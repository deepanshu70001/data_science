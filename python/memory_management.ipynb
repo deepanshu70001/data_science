{
 "cells": [
  {
   "cell_type": "code",
   "execution_count": 1,
   "id": "90acee05",
   "metadata": {},
   "outputs": [
    {
     "data": {
      "text/plain": [
       "'\"memory management in python involve automatic garbage collection,\\nreference counter and various optimization for better efficient memory management'"
      ]
     },
     "execution_count": 1,
     "metadata": {},
     "output_type": "execute_result"
    }
   ],
   "source": [
    "\"\"\"\"memory management in python involve automatic garbage collection,\n",
    "reference counter and various optimization for better efficient memory management\"\"\""
   ]
  },
  {
   "cell_type": "code",
   "execution_count": null,
   "id": "49920036",
   "metadata": {},
   "outputs": [
    {
     "name": "stdout",
     "output_type": "stream",
     "text": [
      "2\n"
     ]
    }
   ],
   "source": [
    "#refrence counting:primary method used by python to manage memory,each obj in python manage a counte of reference pointing\n",
    "# with refrenece count drop to 0 , it automaticaly deallocate memory\n",
    "import sys\n",
    "a=[4,5,6,7,8]\n",
    "print(sys.getrefcount(a))#one from a and another from getrefcount"
   ]
  },
  {
   "cell_type": "code",
   "execution_count": 3,
   "id": "b114c49b",
   "metadata": {},
   "outputs": [
    {
     "name": "stdout",
     "output_type": "stream",
     "text": [
      "3\n"
     ]
    }
   ],
   "source": [
    "b=a\n",
    "print(sys.getrefcount(b))"
   ]
  },
  {
   "cell_type": "code",
   "execution_count": 6,
   "id": "d0103f94",
   "metadata": {},
   "outputs": [],
   "source": [
    "#garbage collection\n",
    "#cyclic garbage collector to handle refrence cycle\n",
    "import gc\n",
    "gc.enable()"
   ]
  },
  {
   "cell_type": "code",
   "execution_count": null,
   "id": "67d73e0e",
   "metadata": {},
   "outputs": [
    {
     "data": {
      "text/plain": [
       "28"
      ]
     },
     "execution_count": 5,
     "metadata": {},
     "output_type": "execute_result"
    }
   ],
   "source": [
    "gc.collect()#manual trigger for garbage collection"
   ]
  },
  {
   "cell_type": "code",
   "execution_count": 7,
   "id": "c1402758",
   "metadata": {},
   "outputs": [],
   "source": [
    "gc.disable()"
   ]
  },
  {
   "cell_type": "code",
   "execution_count": 8,
   "id": "83d24e4f",
   "metadata": {},
   "outputs": [
    {
     "name": "stdout",
     "output_type": "stream",
     "text": [
      "[{'collections': 66, 'collected': 1619, 'uncollectable': 0}, {'collections': 5, 'collected': 363, 'uncollectable': 0}, {'collections': 1, 'collected': 28, 'uncollectable': 0}]\n"
     ]
    }
   ],
   "source": [
    "print(gc.get_stats())"
   ]
  },
  {
   "cell_type": "code",
   "execution_count": 10,
   "id": "9aaaa78b",
   "metadata": {},
   "outputs": [
    {
     "name": "stdout",
     "output_type": "stream",
     "text": [
      "[]\n"
     ]
    }
   ],
   "source": [
    "#unreachabe obj\n",
    "print(gc.garbage)"
   ]
  },
  {
   "cell_type": "code",
   "execution_count": null,
   "id": "4d6b4fd6",
   "metadata": {},
   "outputs": [],
   "source": []
  }
 ],
 "metadata": {
  "kernelspec": {
   "display_name": "Python 3",
   "language": "python",
   "name": "python3"
  },
  "language_info": {
   "codemirror_mode": {
    "name": "ipython",
    "version": 3
   },
   "file_extension": ".py",
   "mimetype": "text/x-python",
   "name": "python",
   "nbconvert_exporter": "python",
   "pygments_lexer": "ipython3",
   "version": "3.13.6"
  }
 },
 "nbformat": 4,
 "nbformat_minor": 5
}
