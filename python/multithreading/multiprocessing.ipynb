{
 "cells": [
  {
   "cell_type": "code",
   "execution_count": 1,
   "id": "6beddb54",
   "metadata": {},
   "outputs": [],
   "source": [
    "#process that run in paralell\n",
    "#  cpu bound task:task that are heavy on cpu usage\n",
    "#parallel execution:to use multiple core of cpu "
   ]
  },
  {
   "cell_type": "code",
   "execution_count": 2,
   "id": "3cd19a2d",
   "metadata": {},
   "outputs": [],
   "source": [
    "import multiprocessing\n",
    "import time"
   ]
  },
  {
   "cell_type": "code",
   "execution_count": 3,
   "id": "6fb9785a",
   "metadata": {},
   "outputs": [],
   "source": [
    "def sq():\n",
    "    for i in range(4):\n",
    "        time.sleep(2)\n",
    "        print(f\"square:{i*i}\")"
   ]
  },
  {
   "cell_type": "code",
   "execution_count": 4,
   "id": "2f3df430",
   "metadata": {},
   "outputs": [],
   "source": [
    "def cube():\n",
    "    for i in range(5):\n",
    "        time.sleep(2)\n",
    "        print(f\"cube:{i*i*i}\")"
   ]
  },
  {
   "cell_type": "code",
   "execution_count": 5,
   "id": "6a12c53b",
   "metadata": {},
   "outputs": [
    {
     "name": "stdout",
     "output_type": "stream",
     "text": [
      "Time taken: 0.09314846992492676\n"
     ]
    }
   ],
   "source": [
    "import multiprocessing\n",
    "import time\n",
    "\n",
    "def sq():\n",
    "    for i in range(5):\n",
    "        print(f\"Square: {i*i}\")\n",
    "        time.sleep(1)\n",
    "\n",
    "def cube():\n",
    "    for i in range(5):\n",
    "        print(f\"Cube: {i*i*i}\")\n",
    "        time.sleep(1)\n",
    "\n",
    "if __name__ == '__main__':\n",
    "    p1 = multiprocessing.Process(target=sq)\n",
    "    p2 = multiprocessing.Process(target=cube)\n",
    "\n",
    "    t = time.time()\n",
    "\n",
    "    # Start processes\n",
    "    p1.start()\n",
    "    p2.start()\n",
    "\n",
    "    # Wait for processes to finish\n",
    "    p1.join()\n",
    "    p2.join()\n",
    "\n",
    "    print(\"Time taken:\", time.time() - t)"
   ]
  }
 ],
 "metadata": {
  "kernelspec": {
   "display_name": "Python 3",
   "language": "python",
   "name": "python3"
  },
  "language_info": {
   "codemirror_mode": {
    "name": "ipython",
    "version": 3
   },
   "file_extension": ".py",
   "mimetype": "text/x-python",
   "name": "python",
   "nbconvert_exporter": "python",
   "pygments_lexer": "ipython3",
   "version": "3.13.6"
  }
 },
 "nbformat": 4,
 "nbformat_minor": 5
}
