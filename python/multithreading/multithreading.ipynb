{
 "cells": [
  {
   "cell_type": "code",
   "execution_count": 1,
   "id": "57201977",
   "metadata": {},
   "outputs": [],
   "source": [
    "#process is a instance of program that is being executed\n",
    "#thread is a unit of execution within a process            \n",
    "#each thread has its own stack and register\n",
    "#when to use threading\n",
    "#! I/O bound task: when we wait for io operation\n",
    "#concurrent executin"
   ]
  },
  {
   "cell_type": "code",
   "execution_count": null,
   "id": "fef65ccd",
   "metadata": {},
   "outputs": [],
   "source": [
    "import threading\n",
    "import time"
   ]
  },
  {
   "cell_type": "code",
   "execution_count": 20,
   "id": "443590f2",
   "metadata": {},
   "outputs": [],
   "source": [
    "def print_num():\n",
    "    for i in range(5):\n",
    "        time.sleep(2)\n",
    "        print(f\"Number:{i}\")\n"
   ]
  },
  {
   "cell_type": "code",
   "execution_count": 21,
   "id": "c56ad690",
   "metadata": {},
   "outputs": [],
   "source": [
    "def print_letter():\n",
    "    for i in \"abcde\":\n",
    "        time.sleep(2)\n",
    "        print(f\"letter:{i}\")"
   ]
  },
  {
   "cell_type": "code",
   "execution_count": 22,
   "id": "ec763c69",
   "metadata": {},
   "outputs": [
    {
     "name": "stdout",
     "output_type": "stream",
     "text": [
      "Number:0\n",
      "Number:1\n",
      "Number:2\n",
      "Number:3\n",
      "Number:4\n",
      "letter:a\n",
      "letter:b\n",
      "letter:c\n",
      "letter:d\n",
      "letter:e\n",
      "20.00693655014038\n"
     ]
    }
   ],
   "source": [
    "t=time.time()\n",
    "print_num()\n",
    "print_letter()\n",
    "f=time.time()-t\n",
    "print(f)"
   ]
  },
  {
   "cell_type": "code",
   "execution_count": 23,
   "id": "33c89d1d",
   "metadata": {},
   "outputs": [
    {
     "name": "stdout",
     "output_type": "stream",
     "text": [
      "Number:0\n",
      "letter:a\n",
      "letter:b\n",
      "Number:1\n",
      "letter:cNumber:2\n",
      "\n",
      "Number:3\n",
      "letter:d\n",
      "Number:4\n",
      "letter:e\n",
      "10.00764513015747\n"
     ]
    }
   ],
   "source": [
    "#crate 2 thread\n",
    "t1=threading.Thread(target=print_num)\n",
    "t2=threading.Thread(target=print_letter)\n",
    "t=time.time()\n",
    "#start the thread\n",
    "t1.start()\n",
    "t2.start()\n",
    "\n",
    "#wait for the thread to complete\n",
    "t1.join()\n",
    "t2.join()\n",
    "f=time.time()-t\n",
    "print(f)"
   ]
  }
 ],
 "metadata": {
  "kernelspec": {
   "display_name": "Python 3",
   "language": "python",
   "name": "python3"
  },
  "language_info": {
   "codemirror_mode": {
    "name": "ipython",
    "version": 3
   },
   "file_extension": ".py",
   "mimetype": "text/x-python",
   "name": "python",
   "nbconvert_exporter": "python",
   "pygments_lexer": "ipython3",
   "version": "3.13.6"
  }
 },
 "nbformat": 4,
 "nbformat_minor": 5
}
