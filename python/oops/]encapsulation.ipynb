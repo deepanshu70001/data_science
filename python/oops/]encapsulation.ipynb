{
 "cells": [
  {
   "cell_type": "code",
   "execution_count": null,
   "id": "870f13d3",
   "metadata": {},
   "outputs": [
    {
     "name": "stdout",
     "output_type": "stream",
     "text": [
      "a\n"
     ]
    }
   ],
   "source": [
    "#encapsulation\n",
    "#bunling data and method in a single unit\n",
    "class person:\n",
    "    def __init__(self,name,age):\n",
    "        self.name=name #public variable\n",
    "        self.age=age\n",
    "def getname(person):\n",
    "    print( person.name)\n",
    "\n",
    "p=person(\"a\",32)\n",
    "getname(p)"
   ]
  },
  {
   "cell_type": "code",
   "execution_count": null,
   "id": "1dd4ccac",
   "metadata": {},
   "outputs": [
    {
     "ename": "AttributeError",
     "evalue": "'person' object has no attribute 'age'",
     "output_type": "error",
     "traceback": [
      "\u001b[31m---------------------------------------------------------------------------\u001b[39m",
      "\u001b[31mAttributeError\u001b[39m                            Traceback (most recent call last)",
      "\u001b[36mCell\u001b[39m\u001b[36m \u001b[39m\u001b[32mIn[3]\u001b[39m\u001b[32m, line 11\u001b[39m\n\u001b[32m      8\u001b[39m     \u001b[38;5;28mprint\u001b[39m( person.age)\n\u001b[32m     10\u001b[39m p=person(\u001b[33m\"\u001b[39m\u001b[33ma\u001b[39m\u001b[33m\"\u001b[39m,\u001b[32m32\u001b[39m)\n\u001b[32m---> \u001b[39m\u001b[32m11\u001b[39m \u001b[43mgetname\u001b[49m\u001b[43m(\u001b[49m\u001b[43mp\u001b[49m\u001b[43m)\u001b[49m\n",
      "\u001b[36mCell\u001b[39m\u001b[36m \u001b[39m\u001b[32mIn[3]\u001b[39m\u001b[32m, line 8\u001b[39m, in \u001b[36mgetname\u001b[39m\u001b[34m(person)\u001b[39m\n\u001b[32m      7\u001b[39m \u001b[38;5;28;01mdef\u001b[39;00m\u001b[38;5;250m \u001b[39m\u001b[34mgetname\u001b[39m(person):\n\u001b[32m----> \u001b[39m\u001b[32m8\u001b[39m     \u001b[38;5;28mprint\u001b[39m( \u001b[43mperson\u001b[49m\u001b[43m.\u001b[49m\u001b[43mage\u001b[49m)\n",
      "\u001b[31mAttributeError\u001b[39m: 'person' object has no attribute 'age'"
     ]
    }
   ],
   "source": [
    "#encapsulation\n",
    "#bunling data and method in a single unit\n",
    "class person:\n",
    "    def __init__(self,name,age):\n",
    "        self._name=name #protected variable single underscore\n",
    "        self.__age=age ## private double underscore__ is use to make variable private , no direct access outside class \n",
    "    #getter method for age\n",
    "    def get_age(self):\n",
    "        return self.__age\n",
    "    #setter\n",
    "    def set_age(self,new_age):\n",
    "        self.__age=new_age\n",
    "        \n",
    "def getname(person):\n",
    "    print( person.age)\n",
    "\n",
    "p=person(\"a\",32)\n",
    "getname(p)\n",
    "\n"
   ]
  },
  {
   "cell_type": "code",
   "execution_count": null,
   "id": "8ae25bed",
   "metadata": {},
   "outputs": [],
   "source": [
    "from abc import ABC, abstractmethod\n",
    "\n",
    "class PaymentProcessor(ABC):\n",
    "    @abstractmethod\n",
    "    def pay(self, amount):\n",
    "        pass\n",
    "\n",
    "class CreditCardProcessor(PaymentProcessor):\n",
    "    def pay(self, amount):\n",
    "        print(f\"Processing credit card payment of ₹{amount}\")\n",
    "\n",
    "class UPIProcessor(PaymentProcessor):\n",
    "    def pay(self, amount):\n",
    "        print(f\"Processing UPI payment of ₹{amount}\")\n",
    "\n",
    "# payment = PaymentProcessor()  # ❌ Error: Can't instantiate abstract class\n",
    "cc = CreditCardProcessor()\n",
    "cc.pay(500)  # ✅ Outputs: Processing credit card payment of ₹500\n",
    "\n",
    "upi = UPIProcessor()\n",
    "upi.pay(300)  # ✅ Outputs: Processing UPI payment of ₹300\n",
    "\n",
    "\"\"\" How This Demonstrates Abstraction\n",
    "- PaymentProcessor defines the interface (pay) but hides the implementation.\n",
    "- Subclasses (CreditCardProcessor, UPIProcessor) implement the logic.\n",
    "- The user of these classes doesn’t need to know how the payment is processed—just that it can be.\n",
    "\"\"\""
   ]
  },
  {
   "cell_type": "code",
   "execution_count": null,
   "id": "04ace1d6",
   "metadata": {},
   "outputs": [],
   "source": [
    "#method overload\n",
    "class vector:\n",
    "    def __init__(self,x,y):\n",
    "        self.x=x\n",
    "        self.y=y\n",
    "    def __add__(self,other):\n",
    "        return vector(self.x+other.x,self.y+other.y)\n",
    "        \n"
   ]
  }
 ],
 "metadata": {
  "kernelspec": {
   "display_name": "Python 3",
   "language": "python",
   "name": "python3"
  },
  "language_info": {
   "codemirror_mode": {
    "name": "ipython",
    "version": 3
   },
   "file_extension": ".py",
   "mimetype": "text/x-python",
   "name": "python",
   "nbconvert_exporter": "python",
   "pygments_lexer": "ipython3",
   "version": "3.13.6"
  }
 },
 "nbformat": 4,
 "nbformat_minor": 5
}
