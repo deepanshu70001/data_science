{
 "cells": [
  {
   "cell_type": "code",
   "execution_count": null,
   "id": "490fb2e2",
   "metadata": {},
   "outputs": [],
   "source": [
    "#inheritance:fundamental concept of oops\n",
    "#it allow classes to inherit properties from parent class\n",
    "class car:\n",
    "    def __init__(self,windows,door,engine):\n",
    "        self.windows=windows\n",
    "        self.door=door\n",
    "        self.engine=engine\n",
    "    def drive(self):\n",
    "        print(f\"the driver will drive {self.engine} car\")\n",
    "\n",
    "class owner:\n",
    "    def __init__(self,name):\n",
    "        self.name=name\n",
    "\n",
    "class tesla(car):#single\n",
    "     #tesla inheriting car\n",
    "     def __init__(self,windows,door,engine,selfdriving):\n",
    "         super().__init__(self,windows,door,engine)# inheriting from parent\n",
    "         self.selfdriving=selfdriving\n",
    "\n",
    "\n",
    "class tesla(car,owner):#multiple\n",
    "     #tesla inheriting car\n",
    "     def __init__(self,windows,door,engine,own,selfdriving):\n",
    "         car.__init__(self,windows,door,engine)# inheriting from parent\n",
    "         owner.__init__(self,own)\n",
    "         self.selfdriving=selfdriving"
   ]
  }
 ],
 "metadata": {
  "language_info": {
   "name": "python"
  }
 },
 "nbformat": 4,
 "nbformat_minor": 5
}
