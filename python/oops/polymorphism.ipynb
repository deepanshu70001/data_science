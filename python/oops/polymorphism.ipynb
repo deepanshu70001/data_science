{
 "cells": [
  {
   "cell_type": "code",
   "execution_count": null,
   "id": "a0d9b169",
   "metadata": {},
   "outputs": [],
   "source": [
    "#polymorphism\n",
    "#method overriding\n",
    "class animal:\n",
    "    def speak(self):\n",
    "        return \"speak\"\n",
    "\n",
    "class dog(animal):\n",
    "    def speak(self):\n",
    "        return \"bark\"\n",
    "class cat(animal):\n",
    "    def speak(self):\n",
    "        return \"meow\"\n",
    "    \n",
    "d=dog()\n",
    "c=cat()\n",
    "print(d.speak())\n",
    "print(c.speak())"
   ]
  },
  {
   "cell_type": "code",
   "execution_count": null,
   "id": "9f4113f2",
   "metadata": {},
   "outputs": [],
   "source": [
    "#abstract base class\n",
    "'''An abstract base class (ABC) is a class in object-oriented programming that cannot be instantiated on its own and \n",
    "is designed to be a template for other classes. It often contains one or more abstract methods, \n",
    "which are methods declared but not implemented in the base class.\n",
    " Subclasses are expected to provide concrete implementations for these methods.\n",
    "'''\n",
    "from abc import ABC,abstractmethod\n",
    "\n",
    "class vehicle(ABC):\n",
    "    @abstractmethod\n",
    "    def starteng(self):\n",
    "        pass\n",
    "\n",
    "class bike(vehicle):\n",
    "    def starteng(self):\n",
    "        return \"bike starting\""
   ]
  }
 ],
 "metadata": {
  "language_info": {
   "name": "python"
  }
 },
 "nbformat": 4,
 "nbformat_minor": 5
}
