{
 "cells": [
  {
   "cell_type": "code",
   "execution_count": null,
   "id": "ce9fd0f5",
   "metadata": {},
   "outputs": [
    {
     "name": "stdout",
     "output_type": "stream",
     "text": [
      "4.0\n",
      "3.141592653589793\n"
     ]
    }
   ],
   "source": [
    "import math\n",
    ";print(math.sqrt(16))\n",
    "print(math.pi)"
   ]
  },
  {
   "cell_type": "code",
   "execution_count": 2,
   "id": "e48c6f73",
   "metadata": {},
   "outputs": [
    {
     "name": "stdout",
     "output_type": "stream",
     "text": [
      "32\n",
      "c\n"
     ]
    }
   ],
   "source": [
    "import random\n",
    "print(random.randint(0,100))\n",
    "print(random.choice(['a','b','c']))"
   ]
  },
  {
   "cell_type": "code",
   "execution_count": 3,
   "id": "823b19b0",
   "metadata": {},
   "outputs": [
    {
     "name": "stdout",
     "output_type": "stream",
     "text": [
      "c:\\Users\\DELL\\Desktop\\data_science\\python\\package and modules\n"
     ]
    }
   ],
   "source": [
    "#file and directory access\n",
    "import os\n",
    "print(os.getcwd())"
   ]
  },
  {
   "cell_type": "code",
   "execution_count": 4,
   "id": "0379c34f",
   "metadata": {},
   "outputs": [],
   "source": [
    "#high level operation on file\n",
    "import shutil\n",
    "#shutil.copyfile(\"source\",\"destination\")"
   ]
  },
  {
   "cell_type": "code",
   "execution_count": 9,
   "id": "7aabe81c",
   "metadata": {},
   "outputs": [
    {
     "name": "stdout",
     "output_type": "stream",
     "text": [
      "{\"a\": 1, \"b\": 2}\n",
      "<class 'str'>\n",
      "{'a': 1, 'b': 2}\n",
      "<class 'dict'>\n"
     ]
    }
   ],
   "source": [
    "#data serialization\n",
    "import json\n",
    "d={\"a\":1,'b':2}\n",
    "json_str=json.dumps(d)\n",
    "print(json_str)\n",
    "print(type(json_str))\n",
    "\n",
    "parsed_data=json.loads(json_str)\n",
    "print(parsed_data)\n",
    "print(type(parsed_data))"
   ]
  },
  {
   "cell_type": "code",
   "execution_count": 14,
   "id": "3afcfa7c",
   "metadata": {},
   "outputs": [
    {
     "name": "stdout",
     "output_type": "stream",
     "text": [
      "2025-08-13 22:58:29.458357\n",
      "2025-08-12 22:58:29.458357\n"
     ]
    }
   ],
   "source": [
    "#date time\n",
    "from datetime import datetime,timedelta\n",
    "now=datetime.now()\n",
    "print(now)\n",
    "\n",
    "yesterday=now-timedelta(days=1)\n",
    "print(yesterday)"
   ]
  },
  {
   "cell_type": "code",
   "execution_count": 15,
   "id": "b175b90b",
   "metadata": {},
   "outputs": [
    {
     "name": "stdout",
     "output_type": "stream",
     "text": [
      "1755106212.147398\n",
      "1755106214.148254\n"
     ]
    }
   ],
   "source": [
    "import time\n",
    "print(time.time())\n",
    "time.sleep(2)\n",
    "print(time.time())"
   ]
  },
  {
   "cell_type": "code",
   "execution_count": null,
   "id": "758bb24a",
   "metadata": {},
   "outputs": [],
   "source": []
  }
 ],
 "metadata": {
  "kernelspec": {
   "display_name": "Python 3",
   "language": "python",
   "name": "python3"
  },
  "language_info": {
   "codemirror_mode": {
    "name": "ipython",
    "version": 3
   },
   "file_extension": ".py",
   "mimetype": "text/x-python",
   "name": "python",
   "nbconvert_exporter": "python",
   "pygments_lexer": "ipython3",
   "version": "3.13.6"
  }
 },
 "nbformat": 4,
 "nbformat_minor": 5
}
