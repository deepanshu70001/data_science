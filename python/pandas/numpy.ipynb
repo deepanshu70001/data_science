{
 "cells": [
  {
   "cell_type": "code",
   "execution_count": 4,
   "id": "d170d731",
   "metadata": {},
   "outputs": [
    {
     "name": "stdout",
     "output_type": "stream",
     "text": [
      "[1 2 3 4 5]\n",
      "<class 'numpy.ndarray'>\n",
      "(5,)\n"
     ]
    }
   ],
   "source": [
    "#nnumpy: is a fundamental  important library for scientific computing in python\n",
    "#use in deep learning,machine learning\n",
    "\n",
    "import numpy as np\n",
    "\n",
    "#creating array using numpy\n",
    "arr=np.array([1,2,3,4,5])\n",
    "print(arr)\n",
    "print(type(arr))\n",
    "print(arr.shape)"
   ]
  },
  {
   "cell_type": "code",
   "execution_count": 8,
   "id": "7416e7bf",
   "metadata": {},
   "outputs": [
    {
     "data": {
      "text/plain": [
       "array([[1, 2, 3, 4, 5]])"
      ]
     },
     "execution_count": 8,
     "metadata": {},
     "output_type": "execute_result"
    }
   ],
   "source": [
    "arr1=np.array([1,2,3,4,5])\n",
    "arr1.reshape(1,5)"
   ]
  },
  {
   "cell_type": "code",
   "execution_count": null,
   "id": "19758f1c",
   "metadata": {},
   "outputs": [
    {
     "name": "stdout",
     "output_type": "stream",
     "text": [
      "(2, 3)\n"
     ]
    }
   ],
   "source": [
    "#2d array\n",
    "arr2=np.array([[1,2,3],[4,5,6]])\n",
    "print(arr2.shape)"
   ]
  },
  {
   "cell_type": "code",
   "execution_count": 11,
   "id": "11a2b616",
   "metadata": {},
   "outputs": [
    {
     "data": {
      "text/plain": [
       "array([[0],\n",
       "       [2],\n",
       "       [4],\n",
       "       [6],\n",
       "       [8]])"
      ]
     },
     "execution_count": 11,
     "metadata": {},
     "output_type": "execute_result"
    }
   ],
   "source": [
    "np.arange(0,10,2).reshape(5,1)"
   ]
  },
  {
   "cell_type": "code",
   "execution_count": null,
   "id": "7763f434",
   "metadata": {},
   "outputs": [
    {
     "data": {
      "text/plain": [
       "array([[1., 1., 1., 1.],\n",
       "       [1., 1., 1., 1.],\n",
       "       [1., 1., 1., 1.]])"
      ]
     },
     "execution_count": 13,
     "metadata": {},
     "output_type": "execute_result"
    }
   ],
   "source": [
    "np.ones((3,4))# 2d array with one"
   ]
  },
  {
   "cell_type": "code",
   "execution_count": 15,
   "id": "873c5954",
   "metadata": {},
   "outputs": [
    {
     "data": {
      "text/plain": [
       "array([[1., 0., 0.],\n",
       "       [0., 1., 0.],\n",
       "       [0., 0., 1.]])"
      ]
     },
     "execution_count": 15,
     "metadata": {},
     "output_type": "execute_result"
    }
   ],
   "source": [
    "#identity matrix\n",
    "np.eye(3)"
   ]
  },
  {
   "cell_type": "code",
   "execution_count": 17,
   "id": "216588cc",
   "metadata": {},
   "outputs": [
    {
     "name": "stdout",
     "output_type": "stream",
     "text": [
      "addition [11 22 33 44 55 66]\n",
      "subtraction [ 9 18 27 36 45 54]\n",
      "multiplication [ 10  40  90 160 250 360]\n"
     ]
    }
   ],
   "source": [
    "#numpy vectorised operation\n",
    "ar1=np.array([1,2,3,4,5,6])\n",
    "ar2=np.array([10,20,30,40,50,60])\n",
    "print(\"addition\",ar1+ar2)# add 2 array element by element\n",
    "print(\"subtraction\",ar2-ar1)\n",
    "print(\"multiplication\",ar1*ar2)"
   ]
  },
  {
   "cell_type": "code",
   "execution_count": 19,
   "id": "e0373ba8",
   "metadata": {},
   "outputs": [
    {
     "name": "stdout",
     "output_type": "stream",
     "text": [
      "[1.         1.41421356 1.73205081 2.         2.23606798 2.44948974]\n",
      "sine [ 0.84147098  0.90929743  0.14112001 -0.7568025  -0.95892427 -0.2794155 ]\n"
     ]
    }
   ],
   "source": [
    "#universal operation\n",
    "arr=np.array([1,2,3,4,5,6])\n",
    "#squareroot\n",
    "print(np.sqrt(arr))\n",
    "\n",
    "#sine\n",
    "print(\"sine\",np.sin(arr))"
   ]
  },
  {
   "cell_type": "code",
   "execution_count": 20,
   "id": "7260c3df",
   "metadata": {},
   "outputs": [
    {
     "name": "stdout",
     "output_type": "stream",
     "text": [
      "[-1.46385011 -0.87831007 -0.29277002  0.29277002  0.87831007  1.46385011]\n"
     ]
    }
   ],
   "source": [
    "#statistical normalization\n",
    "#mean is 0 and sd is 1\n",
    "data=np.array([1,2,3,4,5,6])\n",
    "\n",
    "#mean\n",
    "mean=np.mean(data)\n",
    "\n",
    "#standard deviation\n",
    "sd=np.std(data)\n",
    "\n",
    "normalised_data=(data-mean)/sd\n",
    "print(normalised_data)"
   ]
  },
  {
   "cell_type": "code",
   "execution_count": null,
   "id": "08df6ba1",
   "metadata": {},
   "outputs": [],
   "source": []
  }
 ],
 "metadata": {
  "kernelspec": {
   "display_name": "Python 3",
   "language": "python",
   "name": "python3"
  },
  "language_info": {
   "codemirror_mode": {
    "name": "ipython",
    "version": 3
   },
   "file_extension": ".py",
   "mimetype": "text/x-python",
   "name": "python",
   "nbconvert_exporter": "python",
   "pygments_lexer": "ipython3",
   "version": "3.13.6"
  }
 },
 "nbformat": 4,
 "nbformat_minor": 5
}
