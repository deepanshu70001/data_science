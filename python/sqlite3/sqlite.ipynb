{
 "cells": [
  {
   "cell_type": "code",
   "execution_count": 1,
   "id": "e3bbdaba",
   "metadata": {},
   "outputs": [],
   "source": [
    "import sqlite3"
   ]
  },
  {
   "cell_type": "code",
   "execution_count": 3,
   "id": "4b89797e",
   "metadata": {},
   "outputs": [],
   "source": [
    "con=sqlite3.connect('example.db')"
   ]
  },
  {
   "cell_type": "code",
   "execution_count": 4,
   "id": "632e35ce",
   "metadata": {},
   "outputs": [
    {
     "data": {
      "text/plain": [
       "<sqlite3.Connection at 0x1aa94b44220>"
      ]
     },
     "execution_count": 4,
     "metadata": {},
     "output_type": "execute_result"
    }
   ],
   "source": [
    "con"
   ]
  },
  {
   "cell_type": "code",
   "execution_count": 5,
   "id": "f821da9b",
   "metadata": {},
   "outputs": [],
   "source": [
    "cursor=con.cursor()"
   ]
  },
  {
   "cell_type": "code",
   "execution_count": 6,
   "id": "84178044",
   "metadata": {},
   "outputs": [],
   "source": [
    "#create table\n",
    "cursor.execute('''\n",
    "Create Table If Not Exists employee(\n",
    "               id Integer Primary Key,\n",
    "               name Text Not Null,\n",
    "               age Integer)\n",
    "\n",
    "''')\n",
    "con.commit()"
   ]
  },
  {
   "cell_type": "code",
   "execution_count": 7,
   "id": "c7a2f127",
   "metadata": {},
   "outputs": [],
   "source": [
    "#insert data\n",
    "cursor.execute('''\n",
    "Insert Into employee(id,name,age)\n",
    "               Values(1,'a',34)''')\n",
    "cursor.execute('''\n",
    "Insert Into employee(id,name,age)\n",
    "               Values(2,'b',54)''')\n",
    "cursor.execute('''\n",
    "Insert Into employee(id,name,age)\n",
    "               Values(3,'c',33)''')\n",
    "cursor.execute('''\n",
    "Insert Into employee(id,name,age)\n",
    "               Values(6,'d',44)''')\n",
    "\n",
    "con.commit()"
   ]
  },
  {
   "cell_type": "code",
   "execution_count": 8,
   "id": "77df5179",
   "metadata": {},
   "outputs": [
    {
     "name": "stdout",
     "output_type": "stream",
     "text": [
      "(1, 'a', 34)\n",
      "(2, 'b', 54)\n",
      "(3, 'c', 33)\n",
      "(6, 'd', 44)\n"
     ]
    }
   ],
   "source": [
    "#querying data from table\n",
    "cursor.execute('select * from employee')\n",
    "rows=cursor.fetchall()\n",
    "\n",
    "for row in rows:\n",
    "    print(row)"
   ]
  },
  {
   "cell_type": "code",
   "execution_count": 9,
   "id": "9c46bdb9",
   "metadata": {},
   "outputs": [],
   "source": [
    "con.close()"
   ]
  },
  {
   "cell_type": "code",
   "execution_count": null,
   "id": "6d410296",
   "metadata": {},
   "outputs": [],
   "source": []
  }
 ],
 "metadata": {
  "kernelspec": {
   "display_name": "Python 3",
   "language": "python",
   "name": "python3"
  },
  "language_info": {
   "codemirror_mode": {
    "name": "ipython",
    "version": 3
   },
   "file_extension": ".py",
   "mimetype": "text/x-python",
   "name": "python",
   "nbconvert_exporter": "python",
   "pygments_lexer": "ipython3",
   "version": "3.13.6"
  }
 },
 "nbformat": 4,
 "nbformat_minor": 5
}
